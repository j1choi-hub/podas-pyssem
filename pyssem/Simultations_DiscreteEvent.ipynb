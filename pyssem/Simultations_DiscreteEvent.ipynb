{
 "cells": [
  {
   "cell_type": "code",
   "execution_count": 1,
   "id": "89864fd0-c048-4e26-8d13-1cca4ca23b15",
   "metadata": {},
   "outputs": [
    {
     "name": "stderr",
     "output_type": "stream",
     "text": [
      "/home/j1choi/Downloads/pyssem-main/pyssem/utils/simulation/scen_properties.py:11: UserWarning: pkg_resources is deprecated as an API. See https://setuptools.pypa.io/en/latest/pkg_resources.html. The pkg_resources package is slated for removal as early as 2025-11-30. Refrain from using this package or pin to Setuptools<81.\n",
      "  from pkg_resources import resource_filename\n"
     ]
    }
   ],
   "source": [
    "from model import Model\n",
    "import json\n",
    "import os\n",
    "#500m 1650000\n",
    "#250m 835000\n",
    "#100m 335000"
   ]
  },
  {
   "cell_type": "code",
   "execution_count": 2,
   "id": "013da6c0-fc38-4b14-8f81-b33c8168dcb9",
   "metadata": {},
   "outputs": [],
   "source": [
    "# Load simulation configuration\n",
    "with open('./example-purdue.json') as f:\n",
    "  simulation_data = json.load(f)"
   ]
  },
  {
   "cell_type": "code",
   "execution_count": 3,
   "id": "bb9f333a-b240-420d-a110-cd616b53d052",
   "metadata": {},
   "outputs": [],
   "source": [
    "scenario_props = simulation_data['scenario_properties']"
   ]
  },
  {
   "cell_type": "code",
   "execution_count": 4,
   "id": "3d8768ff-a6df-452a-8997-53779244bfd6",
   "metadata": {},
   "outputs": [
    {
     "data": {
      "text/plain": [
       "{'start_date': '01/03/2024',\n",
       " 'simulation_duration': 100,\n",
       " 'steps': 100000,\n",
       " 'min_altitude': 515,\n",
       " 'max_altitude': 900,\n",
       " 'v_shells': 680000,\n",
       " 'launch_function': 'Lambda',\n",
       " 'integrator': 'BDF',\n",
       " 'density_model': 'static_exp_dens_func',\n",
       " 'LC': 0.1,\n",
       " 'v_imp': 10.0,\n",
       " 'fragment_spreading': False,\n",
       " 'parallel_processing': False,\n",
       " 'basline': False}"
      ]
     },
     "execution_count": 4,
     "metadata": {},
     "output_type": "execute_result"
    }
   ],
   "source": [
    "scenario_props"
   ]
  },
  {
   "cell_type": "code",
   "execution_count": 5,
   "id": "a1bdce1b-a238-4437-87fc-48b6ae9860e1",
   "metadata": {},
   "outputs": [
    {
     "name": "stdout",
     "output_type": "stream",
     "text": [
      "SHELL COUNT:  10\n",
      "R0_km [515.         515.20394479 515.40772825 515.61135068 515.81481242\n",
      " 516.01811377 516.22125506 516.42423659 516.62705868 516.82972165\n",
      " 517.0322258 ]\n"
     ]
    }
   ],
   "source": [
    "# Create an instance of the Model with the simulation parameters\n",
    "model = Model(\n",
    "    start_date=scenario_props[\"start_date\"].split(\"T\")[0],  # Assuming date is in ISO format\n",
    "    simulation_duration=scenario_props[\"simulation_duration\"],\n",
    "    steps=scenario_props[\"steps\"],\n",
    "    min_altitude=scenario_props[\"min_altitude\"],\n",
    "    max_altitude=scenario_props[\"max_altitude\"],\n",
    "    v_shells=scenario_props[\"v_shells\"],\n",
    "    launch_function=scenario_props[\"launch_function\"],\n",
    "    integrator=scenario_props[\"integrator\"],\n",
    "    density_model=scenario_props[\"density_model\"],\n",
    "    LC=scenario_props[\"LC\"],\n",
    "    v_imp=scenario_props[\"v_imp\"],\n",
    "    fragment_spreading = scenario_props[\"fragment_spreading\"]\n",
    ")"
   ]
  },
  {
   "cell_type": "code",
   "execution_count": 6,
   "id": "b8ce48fb-fb96-413d-a3ff-507835790bd1",
   "metadata": {},
   "outputs": [
    {
     "name": "stdout",
     "output_type": "stream",
     "text": [
      "Splitting species N into 2 species with masses [0.64, 223].\n",
      "Added 1 active species, 2 debris species, and 0 rocket body species to the simulation.\n",
      "Pairing the following active species to debris classes for PMD modeling...\n",
      "['S']\n",
      "Matched species S to debris species N_223kg.\n",
      "    Name: N_0.64kg\n",
      "    pmd_linked_species: []\n",
      "    Name: N_223kg\n",
      "    pmd_linked_species: ['S']\n"
     ]
    },
    {
     "name": "stderr",
     "output_type": "stream",
     "text": [
      "Creating collision pairs:  33%|██████▎            | 2/6 [00:00<00:00, 11.63it/s]"
     ]
    },
    {
     "name": "stdout",
     "output_type": "stream",
     "text": [
      "Species pairing for  S N_0.64kg and sk  ['S', 'N_0.64kg', 'N_0.64kg', 'N_223kg']\n",
      "pairing {'S'} {'N_0.64kg'}\n",
      "Species pairing for  S N_223kg and sk  ['S', 'N_223kg', 'N_0.64kg', 'N_223kg']\n",
      "pairing {'S'} {'N_223kg'}\n",
      "Species pairing for  N_0.64kg N_223kg and sk  ['N_0.64kg', 'N_223kg', 'N_0.64kg', 'N_223kg']\n",
      "pairing {'N_0.64kg'} {'N_223kg'}\n",
      "Species pairing for  S S and sk  ['S', 'S', 'N_0.64kg', 'N_223kg']\n",
      "pairing {'S'} {'S'}\n"
     ]
    },
    {
     "name": "stderr",
     "output_type": "stream",
     "text": [
      "Creating collision pairs: 100%|███████████████████| 6/6 [00:00<00:00, 14.34it/s]"
     ]
    },
    {
     "name": "stdout",
     "output_type": "stream",
     "text": [
      "Species pairing for  N_0.64kg N_0.64kg and sk  ['N_0.64kg', 'N_0.64kg', 'N_0.64kg', 'N_223kg']\n",
      "pairing {'N_0.64kg'} {'N_0.64kg'}\n",
      "Species pairing for  N_223kg N_223kg and sk  ['N_223kg', 'N_223kg', 'N_0.64kg', 'N_223kg']\n",
      "pairing {'N_223kg'} {'N_223kg'}\n"
     ]
    },
    {
     "name": "stderr",
     "output_type": "stream",
     "text": [
      "\n"
     ]
    }
   ],
   "source": [
    "species = simulation_data[\"species\"]\n",
    "species_list = model.configure_species(species)"
   ]
  },
  {
   "cell_type": "code",
   "execution_count": null,
   "id": "4f54b1e7-5f59-4d11-86d5-52c902278d73",
   "metadata": {},
   "outputs": [],
   "source": []
  },
  {
   "cell_type": "code",
   "execution_count": 7,
   "id": "5edb4270-d40a-4de1-ad4c-0a43a9cfacc9",
   "metadata": {},
   "outputs": [
    {
     "name": "stdout",
     "output_type": "stream",
     "text": [
      "baseline\n",
      "PER YEAR 31557600.0 1000.0\n",
      "PER YEAR 31557600.0 1000.0\n",
      "PER YEAR 31557600.0 1000.0\n",
      "Conversion of equations to lambda functions...\n",
      "x0           S  N_0.64kg   N_223kg\n",
      "0  2.807405  0.373474   0.18716\n",
      "1  2.811269  0.373559  0.187418\n",
      "2   2.81513  0.373644  0.187675\n",
      "3  2.818988  0.373728  0.187933\n",
      "4  2.822841  0.373811  0.188189\n",
      "5  2.826691  0.373894  0.188446\n",
      "6  2.830538  0.373977  0.188703\n",
      "7  2.834381  0.374058  0.188959\n",
      "8   2.83822   0.37414  0.189215\n",
      "9  2.842055   0.37422   0.18947\n",
      "Integrating equations...\n",
      "Model run completed successfully.\n"
     ]
    }
   ],
   "source": [
    "# Run the model\n",
    "# ODE solution\n",
    "results = model.run_model()"
   ]
  },
  {
   "cell_type": "code",
   "execution_count": 8,
   "id": "05086675-ce40-4cb4-9f09-4c9a440dd17f",
   "metadata": {},
   "outputs": [],
   "source": [
    "#model.create_plots()"
   ]
  },
  {
   "cell_type": "code",
   "execution_count": null,
   "id": "5cb41647-b9ae-4463-80cf-c81894817e72",
   "metadata": {},
   "outputs": [],
   "source": []
  },
  {
   "cell_type": "code",
   "execution_count": 9,
   "id": "5a07c641-d57b-4dfc-aa1c-eedfec9be9d8",
   "metadata": {},
   "outputs": [
    {
     "name": "stdout",
     "output_type": "stream",
     "text": [
      "shell_1_S: 2.8074048655129475\n",
      "shell_1_N_0.64kg: 0.37347428444158326\n",
      "shell_1_N_223kg: 0.18716032436752983\n",
      "shell_2_S: 2.8112693539207148\n",
      "shell_2_N_0.64kg: 0.3735593538941575\n",
      "shell_2_N_223kg: 0.18741795692804764\n",
      "shell_3_S: 2.8151302508868685\n",
      "shell_3_N_0.64kg: 0.3736438786769875\n",
      "shell_3_N_223kg: 0.18767535005912456\n",
      "shell_4_S: 2.8189875469587187\n",
      "shell_4_N_0.64kg: 0.37372785972225875\n",
      "shell_4_N_223kg: 0.18793250313058124\n",
      "shell_5_S: 2.822841232720009\n",
      "shell_5_N_0.64kg: 0.3738112979612623\n",
      "shell_5_N_223kg: 0.18818941551466728\n",
      "shell_6_S: 2.826691298790871\n",
      "shell_6_N_0.64kg: 0.3738941943243939\n",
      "shell_6_N_223kg: 0.18844608658605808\n",
      "shell_7_S: 2.83053773582777\n",
      "shell_7_N_0.64kg: 0.37397654974115285\n",
      "shell_7_N_223kg: 0.18870251572185132\n",
      "shell_8_S: 2.8343805345234614\n",
      "shell_8_N_0.64kg: 0.37405836514014107\n",
      "shell_8_N_223kg: 0.18895870230156409\n",
      "shell_9_S: 2.8382196856069397\n",
      "shell_9_N_0.64kg: 0.3741396414490619\n",
      "shell_9_N_223kg: 0.18921464570712931\n",
      "shell_10_S: 2.842055179843385\n",
      "shell_10_N_0.64kg: 0.37422037959471954\n",
      "shell_10_N_223kg: 0.18947034532289234\n"
     ]
    }
   ],
   "source": [
    "# creating list for all species\n",
    "all_species = species_list.species['active'] + species_list.species['debris']\n",
    "\n",
    "initial_state = {}\n",
    "\n",
    "# initial population by shell and species\n",
    "for shell_idx in range(model.scenario_properties.n_shells):\n",
    "    for species_idx, species_obj in enumerate(all_species):\n",
    "        count = model.scenario_properties.x0.values[shell_idx, species_idx]\n",
    "        initial_state[f'shell_{shell_idx+1}_{species_obj.sym_name}'] = count\n",
    "        print(f'shell_{shell_idx+1}_{species_obj.sym_name}: {count}')"
   ]
  },
  {
   "cell_type": "code",
   "execution_count": 10,
   "id": "fba01a6f-385b-4b4a-965d-32cde118d5a4",
   "metadata": {
    "scrolled": true
   },
   "outputs": [
    {
     "name": "stdout",
     "output_type": "stream",
     "text": [
      "colls\n",
      "{'name': 'collision_S_N_0.64kg_lethal_shell_1', 'rate': 1.19025668536013e-6, 'jump': {'shell_1_S': -1, 'shell_1_N_0.64kg': 115.0}}\n",
      "{'name': 'collision_S_N_0.64kg_disabling_shell_1', 'rate': 5.95128342680065e-5, 'jump': {'shell_1_S': -1, 'shell_1_N_223kg': 1}}\n",
      "{'name': 'collision_S_N_0.64kg_lethal_shell_2', 'rate': 1.19303987877541e-6, 'jump': {'shell_2_S': -1, 'shell_2_N_0.64kg': 115.0}}\n",
      "{'name': 'collision_S_N_0.64kg_disabling_shell_2', 'rate': 5.96519939387706e-5, 'jump': {'shell_2_S': -1, 'shell_2_N_223kg': 1}}\n",
      "{'name': 'collision_S_N_0.64kg_lethal_shell_3', 'rate': 1.19582292560488e-6, 'jump': {'shell_3_S': -1, 'shell_3_N_0.64kg': 115.0}}\n",
      "{'name': 'collision_S_N_0.64kg_disabling_shell_3', 'rate': 5.97911462802441e-5, 'jump': {'shell_3_S': -1, 'shell_3_N_223kg': 1}}\n",
      "{'name': 'collision_S_N_0.64kg_lethal_shell_4', 'rate': 1.19860580973966e-6, 'jump': {'shell_4_S': -1, 'shell_4_N_0.64kg': 115.0}}\n",
      "{'name': 'collision_S_N_0.64kg_disabling_shell_4', 'rate': 5.99302904869832e-5, 'jump': {'shell_4_S': -1, 'shell_4_N_223kg': 1}}\n",
      "{'name': 'collision_S_N_0.64kg_lethal_shell_5', 'rate': 1.20138851507840e-6, 'jump': {'shell_5_S': -1, 'shell_5_N_0.64kg': 115.0}}\n",
      "{'name': 'collision_S_N_0.64kg_disabling_shell_5', 'rate': 6.00694257539201e-5, 'jump': {'shell_5_S': -1, 'shell_5_N_223kg': 1}}\n",
      "{'name': 'collision_S_N_0.64kg_lethal_shell_6', 'rate': 1.20417102553725e-6, 'jump': {'shell_6_S': -1, 'shell_6_N_0.64kg': 115.0}}\n",
      "{'name': 'collision_S_N_0.64kg_disabling_shell_6', 'rate': 6.02085512768623e-5, 'jump': {'shell_6_S': -1, 'shell_6_N_223kg': 1}}\n",
      "{'name': 'collision_S_N_0.64kg_lethal_shell_7', 'rate': 1.20695332503965e-6, 'jump': {'shell_7_S': -1, 'shell_7_N_0.64kg': 115.0}}\n",
      "{'name': 'collision_S_N_0.64kg_disabling_shell_7', 'rate': 6.03476662519824e-5, 'jump': {'shell_7_S': -1, 'shell_7_N_223kg': 1}}\n",
      "{'name': 'collision_S_N_0.64kg_lethal_shell_8', 'rate': 1.20973539756470e-6, 'jump': {'shell_8_S': -1, 'shell_8_N_0.64kg': 115.0}}\n",
      "{'name': 'collision_S_N_0.64kg_disabling_shell_8', 'rate': 6.04867698782350e-5, 'jump': {'shell_8_S': -1, 'shell_8_N_223kg': 1}}\n",
      "{'name': 'collision_S_N_0.64kg_lethal_shell_9', 'rate': 1.21251722706319e-6, 'jump': {'shell_9_S': -1, 'shell_9_N_0.64kg': 115.0}}\n",
      "{'name': 'collision_S_N_0.64kg_disabling_shell_9', 'rate': 6.06258613531594e-5, 'jump': {'shell_9_S': -1, 'shell_9_N_223kg': 1}}\n",
      "{'name': 'collision_S_N_0.64kg_lethal_shell_10', 'rate': 1.21529879755190e-6, 'jump': {'shell_10_S': -1, 'shell_10_N_0.64kg': 115.0}}\n",
      "{'name': 'collision_S_N_0.64kg_disabling_shell_10', 'rate': 6.07649398775952e-5, 'jump': {'shell_10_S': -1, 'shell_10_N_223kg': 1}}\n",
      "{'name': 'collision_S_N_223kg_lethal_shell_1', 'rate': 1.89929882985640e-6, 'jump': {'shell_1_S': -1, 'shell_1_N_223kg': -1, 'shell_1_N_0.64kg': 495.0}}\n",
      "{'name': 'collision_S_N_223kg_disabling_shell_1', 'rate': 9.49649414928198e-5, 'jump': {'shell_1_S': -1, 'shell_1_N_223kg': 1}}\n",
      "{'name': 'collision_S_N_223kg_lethal_shell_2', 'rate': 1.90592641983242e-6, 'jump': {'shell_2_S': -1, 'shell_2_N_223kg': -1, 'shell_2_N_0.64kg': 495.0}}\n",
      "{'name': 'collision_S_N_223kg_disabling_shell_2', 'rate': 9.52963209916212e-5, 'jump': {'shell_2_S': -1, 'shell_2_N_223kg': 1}}\n",
      "{'name': 'collision_S_N_223kg_lethal_shell_3', 'rate': 1.91256332674043e-6, 'jump': {'shell_3_S': -1, 'shell_3_N_223kg': -1, 'shell_3_N_0.64kg': 495.0}}\n",
      "{'name': 'collision_S_N_223kg_disabling_shell_3', 'rate': 9.56281663370218e-5, 'jump': {'shell_3_S': -1, 'shell_3_N_223kg': 1}}\n",
      "{'name': 'collision_S_N_223kg_lethal_shell_4', 'rate': 1.91920951826425e-6, 'jump': {'shell_4_S': -1, 'shell_4_N_223kg': -1, 'shell_4_N_0.64kg': 495.0}}\n",
      "{'name': 'collision_S_N_223kg_disabling_shell_4', 'rate': 9.59604759132123e-5, 'jump': {'shell_4_S': -1, 'shell_4_N_223kg': 1}}\n",
      "{'name': 'collision_S_N_223kg_lethal_shell_5', 'rate': 1.92586496197414e-6, 'jump': {'shell_5_S': -1, 'shell_5_N_223kg': -1, 'shell_5_N_0.64kg': 495.0}}\n",
      "{'name': 'collision_S_N_223kg_disabling_shell_5', 'rate': 9.62932480987070e-5, 'jump': {'shell_5_S': -1, 'shell_5_N_223kg': 1}}\n",
      "{'name': 'collision_S_N_223kg_lethal_shell_6', 'rate': 1.93252962534308e-6, 'jump': {'shell_6_S': -1, 'shell_6_N_223kg': -1, 'shell_6_N_0.64kg': 495.0}}\n",
      "{'name': 'collision_S_N_223kg_disabling_shell_6', 'rate': 9.66264812671540e-5, 'jump': {'shell_6_S': -1, 'shell_6_N_223kg': 1}}\n",
      "{'name': 'collision_S_N_223kg_lethal_shell_7', 'rate': 1.93920347573059e-6, 'jump': {'shell_7_S': -1, 'shell_7_N_223kg': -1, 'shell_7_N_0.64kg': 495.0}}\n",
      "{'name': 'collision_S_N_223kg_disabling_shell_7', 'rate': 9.69601737865296e-5, 'jump': {'shell_7_S': -1, 'shell_7_N_223kg': 1}}\n",
      "{'name': 'collision_S_N_223kg_lethal_shell_8', 'rate': 1.94588648046070e-6, 'jump': {'shell_8_S': -1, 'shell_8_N_223kg': -1, 'shell_8_N_0.64kg': 495.0}}\n",
      "{'name': 'collision_S_N_223kg_disabling_shell_8', 'rate': 9.72943240230348e-5, 'jump': {'shell_8_S': -1, 'shell_8_N_223kg': 1}}\n",
      "{'name': 'collision_S_N_223kg_lethal_shell_9', 'rate': 1.95257860668736e-6, 'jump': {'shell_9_S': -1, 'shell_9_N_223kg': -1, 'shell_9_N_0.64kg': 495.0}}\n",
      "{'name': 'collision_S_N_223kg_disabling_shell_9', 'rate': 9.76289303343681e-5, 'jump': {'shell_9_S': -1, 'shell_9_N_223kg': 1}}\n",
      "{'name': 'collision_S_N_223kg_lethal_shell_10', 'rate': 1.95927982154640e-6, 'jump': {'shell_10_S': -1, 'shell_10_N_223kg': -1, 'shell_10_N_0.64kg': 495.0}}\n",
      "{'name': 'collision_S_N_223kg_disabling_shell_10', 'rate': 9.79639910773201e-5, 'jump': {'shell_10_S': -1, 'shell_10_N_223kg': 1}}\n",
      "{'name': 'collision_N_0.64kg_N_223kg_shell_1', 'rate': 3.96752228453376e-7, 'jump': {'shell_1_N_223kg': -1, 'shell_1_N_0.64kg': 116}}\n",
      "{'name': 'collision_N_0.64kg_N_223kg_shell_2', 'rate': 3.97679959591804e-7, 'jump': {'shell_2_N_223kg': -1, 'shell_2_N_0.64kg': 116}}\n",
      "{'name': 'collision_N_0.64kg_N_223kg_shell_3', 'rate': 3.98607641868294e-7, 'jump': {'shell_3_N_223kg': -1, 'shell_3_N_0.64kg': 116}}\n",
      "{'name': 'collision_N_0.64kg_N_223kg_shell_4', 'rate': 3.99535269913221e-7, 'jump': {'shell_4_N_223kg': -1, 'shell_4_N_0.64kg': 116}}\n",
      "{'name': 'collision_N_0.64kg_N_223kg_shell_5', 'rate': 4.00462838359467e-7, 'jump': {'shell_5_N_223kg': -1, 'shell_5_N_0.64kg': 116}}\n",
      "{'name': 'collision_N_0.64kg_N_223kg_shell_6', 'rate': 4.01390341845749e-7, 'jump': {'shell_6_N_223kg': -1, 'shell_6_N_0.64kg': 116}}\n",
      "{'name': 'collision_N_0.64kg_N_223kg_shell_7', 'rate': 4.02317775013216e-7, 'jump': {'shell_7_N_223kg': -1, 'shell_7_N_0.64kg': 116}}\n",
      "{'name': 'collision_N_0.64kg_N_223kg_shell_8', 'rate': 4.03245132521566e-7, 'jump': {'shell_8_N_223kg': -1, 'shell_8_N_0.64kg': 116}}\n",
      "{'name': 'collision_N_0.64kg_N_223kg_shell_9', 'rate': 4.04172409021062e-7, 'jump': {'shell_9_N_223kg': -1, 'shell_9_N_0.64kg': 116}}\n",
      "{'name': 'collision_N_0.64kg_N_223kg_shell_10', 'rate': 4.05099599183968e-7, 'jump': {'shell_10_N_223kg': -1, 'shell_10_N_0.64kg': 116}}\n",
      "{'name': 'collision_S_S_lethal_shell_1', 'rate': 1.42447412239230e-6, 'jump': {'shell_1_S': -2, 'shell_1_N_0.64kg': 400.0}}\n",
      "{'name': 'collision_S_S_lethal_shell_2', 'rate': 1.42944481487432e-6, 'jump': {'shell_2_S': -2, 'shell_2_N_0.64kg': 400.0}}\n",
      "{'name': 'collision_S_S_lethal_shell_3', 'rate': 1.43442249505533e-6, 'jump': {'shell_3_S': -2, 'shell_3_N_0.64kg': 400.0}}\n",
      "{'name': 'collision_S_S_lethal_shell_4', 'rate': 1.43940713869818e-6, 'jump': {'shell_4_S': -2, 'shell_4_N_0.64kg': 400.0}}\n",
      "{'name': 'collision_S_S_lethal_shell_5', 'rate': 1.44439872148061e-6, 'jump': {'shell_5_S': -2, 'shell_5_N_0.64kg': 400.0}}\n",
      "{'name': 'collision_S_S_lethal_shell_6', 'rate': 1.44939721900731e-6, 'jump': {'shell_6_S': -2, 'shell_6_N_0.64kg': 400.0}}\n",
      "{'name': 'collision_S_S_lethal_shell_7', 'rate': 1.45440260679794e-6, 'jump': {'shell_7_S': -2, 'shell_7_N_0.64kg': 400.0}}\n",
      "{'name': 'collision_S_S_lethal_shell_8', 'rate': 1.45941486034552e-6, 'jump': {'shell_8_S': -2, 'shell_8_N_0.64kg': 400.0}}\n",
      "{'name': 'collision_S_S_lethal_shell_9', 'rate': 1.46443395501552e-6, 'jump': {'shell_9_S': -2, 'shell_9_N_0.64kg': 400.0}}\n",
      "{'name': 'collision_S_S_lethal_shell_10', 'rate': 1.46945986615980e-6, 'jump': {'shell_10_S': -2, 'shell_10_N_0.64kg': 400.0}}\n",
      "{'name': 'collision_N_0.64kg_N_0.64kg_shell_1', 'rate': 3.67907252117141e-8, 'jump': {'shell_1_N_0.64kg': 116.047283977284}}\n",
      "{'name': 'collision_N_0.64kg_N_0.64kg_shell_2', 'rate': 3.68344493270763e-8, 'jump': {'shell_2_N_0.64kg': 116.047283977284}}\n",
      "{'name': 'collision_N_0.64kg_N_0.64kg_shell_3', 'rate': 3.68780812497438e-8, 'jump': {'shell_3_N_0.64kg': 116.047283977284}}\n",
      "{'name': 'collision_N_0.64kg_N_0.64kg_shell_4', 'rate': 3.69216208670829e-8, 'jump': {'shell_4_N_0.64kg': 116.047283977284}}\n",
      "{'name': 'collision_N_0.64kg_N_0.64kg_shell_5', 'rate': 3.69650680670698e-8, 'jump': {'shell_5_N_0.64kg': 116.047283977284}}\n",
      "{'name': 'collision_N_0.64kg_N_0.64kg_shell_6', 'rate': 3.70084227385933e-8, 'jump': {'shell_6_N_0.64kg': 116.047283977284}}\n",
      "{'name': 'collision_N_0.64kg_N_0.64kg_shell_7', 'rate': 3.70516847711346e-8, 'jump': {'shell_7_N_0.64kg': 116.047283977284}}\n",
      "{'name': 'collision_N_0.64kg_N_0.64kg_shell_8', 'rate': 3.70948540562456e-8, 'jump': {'shell_8_N_0.64kg': 116.047283977284}}\n",
      "{'name': 'collision_N_0.64kg_N_0.64kg_shell_9', 'rate': 3.71379304849642e-8, 'jump': {'shell_9_N_0.64kg': 116.047283977284}}\n",
      "{'name': 'collision_N_0.64kg_N_0.64kg_shell_10', 'rate': 3.71809139507022e-8, 'jump': {'shell_10_N_0.64kg': 116.047283977284}}\n",
      "{'name': 'collision_N_223kg_N_223kg_shell_1', 'rate': 6.33099609952132e-7, 'jump': {'shell_1_N_223kg': -2, 'shell_1_N_0.64kg': 497}}\n",
      "{'name': 'collision_N_223kg_N_223kg_shell_2', 'rate': 6.35308806610808e-7, 'jump': {'shell_2_N_223kg': -2, 'shell_2_N_0.64kg': 497}}\n",
      "{'name': 'collision_N_223kg_N_223kg_shell_3', 'rate': 6.37521108913478e-7, 'jump': {'shell_3_N_223kg': -2, 'shell_3_N_0.64kg': 497}}\n",
      "{'name': 'collision_N_223kg_N_223kg_shell_4', 'rate': 6.39736506088082e-7, 'jump': {'shell_4_N_223kg': -2, 'shell_4_N_0.64kg': 497}}\n",
      "{'name': 'collision_N_223kg_N_223kg_shell_5', 'rate': 6.41954987324714e-7, 'jump': {'shell_5_N_223kg': -2, 'shell_5_N_0.64kg': 497}}\n",
      "{'name': 'collision_N_223kg_N_223kg_shell_6', 'rate': 6.44176541781027e-7, 'jump': {'shell_6_N_223kg': -2, 'shell_6_N_0.64kg': 497}}\n",
      "{'name': 'collision_N_223kg_N_223kg_shell_7', 'rate': 6.46401158576864e-7, 'jump': {'shell_7_N_223kg': -2, 'shell_7_N_0.64kg': 497}}\n",
      "{'name': 'collision_N_223kg_N_223kg_shell_8', 'rate': 6.48628826820232e-7, 'jump': {'shell_8_N_223kg': -2, 'shell_8_N_0.64kg': 497}}\n",
      "{'name': 'collision_N_223kg_N_223kg_shell_9', 'rate': 6.50859535562454e-7, 'jump': {'shell_9_N_223kg': -2, 'shell_9_N_0.64kg': 497}}\n",
      "{'name': 'collision_N_223kg_N_223kg_shell_10', 'rate': 6.53093273848801e-7, 'jump': {'shell_10_N_223kg': -2, 'shell_10_N_0.64kg': 497}}\n",
      "100000\n",
      "launch_mtx:  2.210457962840231\n",
      "launch_mtx:  2.2102535254277393\n",
      "launch_mtx:  2.2100411073452046\n",
      "launch_mtx:  2.2098207299203674\n",
      "launch_mtx:  2.2095924144943804\n",
      "launch_mtx:  2.2093561824214136\n",
      "launch_mtx:  2.2091120550682612\n",
      "launch_mtx:  2.2088600538139485\n",
      "launch_mtx:  2.208600200049343\n",
      "launch_mtx:  2.208057020609609\n",
      "launch\n",
      "{'name': 'satellite_launch_shell_1', 'rate': np.float64(2.210457962840231), 'jump': {'shell_1_S': 1}}\n",
      "{'name': 'satellite_launch_shell_2', 'rate': np.float64(2.2102535254277393), 'jump': {'shell_2_S': 1}}\n",
      "{'name': 'satellite_launch_shell_3', 'rate': np.float64(2.2100411073452046), 'jump': {'shell_3_S': 1}}\n",
      "{'name': 'satellite_launch_shell_4', 'rate': np.float64(2.2098207299203674), 'jump': {'shell_4_S': 1}}\n",
      "{'name': 'satellite_launch_shell_5', 'rate': np.float64(2.2095924144943804), 'jump': {'shell_5_S': 1}}\n",
      "{'name': 'satellite_launch_shell_6', 'rate': np.float64(2.2093561824214136), 'jump': {'shell_6_S': 1}}\n",
      "{'name': 'satellite_launch_shell_7', 'rate': np.float64(2.2091120550682612), 'jump': {'shell_7_S': 1}}\n",
      "{'name': 'satellite_launch_shell_8', 'rate': np.float64(2.2088600538139485), 'jump': {'shell_8_S': 1}}\n",
      "{'name': 'satellite_launch_shell_9', 'rate': np.float64(2.208600200049343), 'jump': {'shell_9_S': 1}}\n",
      "{'name': 'satellite_launch_shell_10', 'rate': np.float64(2.208057020609609), 'jump': {'shell_10_S': 1}}\n",
      "drag\n",
      "{'name': 'drag_out_shell_1_to_atmosphere', 'rate': np.float64(0.0), 'jump': {'shell_1_S': -1}}\n",
      "{'name': 'drag_from_upper_shell_2_to_1', 'rate': np.float64(0.0), 'jump': {'shell_2_S': -1, 'shell_1_S': 1}}\n",
      "{'name': 'drag_down_shell_2_to_1', 'rate': np.float64(0.0), 'jump': {'shell_2_S': -1, 'shell_1_S': 1}}\n",
      "{'name': 'drag_from_upper_shell_3_to_2', 'rate': np.float64(0.0), 'jump': {'shell_3_S': -1, 'shell_2_S': 1}}\n",
      "{'name': 'drag_down_shell_3_to_2', 'rate': np.float64(0.0), 'jump': {'shell_3_S': -1, 'shell_2_S': 1}}\n",
      "{'name': 'drag_from_upper_shell_4_to_3', 'rate': np.float64(0.0), 'jump': {'shell_4_S': -1, 'shell_3_S': 1}}\n",
      "{'name': 'drag_down_shell_4_to_3', 'rate': np.float64(0.0), 'jump': {'shell_4_S': -1, 'shell_3_S': 1}}\n",
      "{'name': 'drag_from_upper_shell_5_to_4', 'rate': np.float64(0.0), 'jump': {'shell_5_S': -1, 'shell_4_S': 1}}\n",
      "{'name': 'drag_down_shell_5_to_4', 'rate': np.float64(0.0), 'jump': {'shell_5_S': -1, 'shell_4_S': 1}}\n",
      "{'name': 'drag_from_upper_shell_6_to_5', 'rate': np.float64(0.0), 'jump': {'shell_6_S': -1, 'shell_5_S': 1}}\n",
      "{'name': 'drag_down_shell_6_to_5', 'rate': np.float64(0.0), 'jump': {'shell_6_S': -1, 'shell_5_S': 1}}\n",
      "{'name': 'drag_from_upper_shell_7_to_6', 'rate': np.float64(0.0), 'jump': {'shell_7_S': -1, 'shell_6_S': 1}}\n",
      "{'name': 'drag_down_shell_7_to_6', 'rate': np.float64(0.0), 'jump': {'shell_7_S': -1, 'shell_6_S': 1}}\n",
      "{'name': 'drag_from_upper_shell_8_to_7', 'rate': np.float64(0.0), 'jump': {'shell_8_S': -1, 'shell_7_S': 1}}\n",
      "{'name': 'drag_down_shell_8_to_7', 'rate': np.float64(0.0), 'jump': {'shell_8_S': -1, 'shell_7_S': 1}}\n",
      "{'name': 'drag_from_upper_shell_9_to_8', 'rate': np.float64(0.0), 'jump': {'shell_9_S': -1, 'shell_8_S': 1}}\n",
      "{'name': 'drag_down_shell_9_to_8', 'rate': np.float64(0.0), 'jump': {'shell_9_S': -1, 'shell_8_S': 1}}\n",
      "{'name': 'drag_from_upper_shell_10_to_9', 'rate': np.float64(0.0), 'jump': {'shell_10_S': -1, 'shell_9_S': 1}}\n",
      "{'name': 'drag_down_shell_10_to_9', 'rate': np.float64(0.0), 'jump': {'shell_10_S': -1, 'shell_9_S': 1}}\n",
      "{'name': 'drag_out_shell_1_to_atmosphere', 'rate': np.float64(1.1470516386328276e-07), 'jump': {'shell_1_N_0.64kg': -1}}\n",
      "{'name': 'drag_from_upper_shell_2_to_1', 'rate': np.float64(1.1445410012505854e-07), 'jump': {'shell_2_N_0.64kg': -1, 'shell_1_N_0.64kg': 1}}\n",
      "{'name': 'drag_down_shell_2_to_1', 'rate': np.float64(1.1445748504850395e-07), 'jump': {'shell_2_N_0.64kg': -1, 'shell_1_N_0.64kg': 1}}\n",
      "{'name': 'drag_from_upper_shell_3_to_2', 'rate': np.float64(1.142069739453557e-07), 'jump': {'shell_3_N_0.64kg': -1, 'shell_2_N_0.64kg': 1}}\n",
      "{'name': 'drag_down_shell_3_to_2', 'rate': np.float64(1.1421034878998007e-07), 'jump': {'shell_3_N_0.64kg': -1, 'shell_2_N_0.64kg': 1}}\n",
      "{'name': 'drag_from_upper_shell_4_to_3', 'rate': np.float64(1.1396038917008407e-07), 'jump': {'shell_4_N_0.64kg': -1, 'shell_3_N_0.64kg': 1}}\n",
      "{'name': 'drag_down_shell_4_to_3', 'rate': np.float64(1.1396375396936369e-07), 'jump': {'shell_4_N_0.64kg': -1, 'shell_3_N_0.64kg': 1}}\n",
      "{'name': 'drag_from_upper_shell_5_to_4', 'rate': np.float64(1.1371434468247915e-07), 'jump': {'shell_5_N_0.64kg': -1, 'shell_4_N_0.64kg': 1}}\n",
      "{'name': 'drag_down_shell_5_to_4', 'rate': np.float64(1.1371769946976493e-07), 'jump': {'shell_5_N_0.64kg': -1, 'shell_4_N_0.64kg': 1}}\n",
      "{'name': 'drag_from_upper_shell_6_to_5', 'rate': np.float64(1.1346883936728916e-07), 'jump': {'shell_6_N_0.64kg': -1, 'shell_5_N_0.64kg': 1}}\n",
      "{'name': 'drag_down_shell_6_to_5', 'rate': np.float64(1.1347218417580716e-07), 'jump': {'shell_6_N_0.64kg': -1, 'shell_5_N_0.64kg': 1}}\n",
      "{'name': 'drag_from_upper_shell_7_to_6', 'rate': np.float64(1.1322387211070361e-07), 'jump': {'shell_7_N_0.64kg': -1, 'shell_6_N_0.64kg': 1}}\n",
      "{'name': 'drag_down_shell_7_to_6', 'rate': np.float64(1.132272069735556e-07), 'jump': {'shell_7_N_0.64kg': -1, 'shell_6_N_0.64kg': 1}}\n",
      "{'name': 'drag_from_upper_shell_8_to_7', 'rate': np.float64(1.1297944180053586e-07), 'jump': {'shell_8_N_0.64kg': -1, 'shell_7_N_0.64kg': 1}}\n",
      "{'name': 'drag_down_shell_8_to_7', 'rate': np.float64(1.1298276675069986e-07), 'jump': {'shell_8_N_0.64kg': -1, 'shell_7_N_0.64kg': 1}}\n",
      "{'name': 'drag_from_upper_shell_9_to_8', 'rate': np.float64(1.1273554732608846e-07), 'jump': {'shell_9_N_0.64kg': -1, 'shell_8_N_0.64kg': 1}}\n",
      "{'name': 'drag_down_shell_9_to_8', 'rate': np.float64(1.1273886239641922e-07), 'jump': {'shell_9_N_0.64kg': -1, 'shell_8_N_0.64kg': 1}}\n",
      "{'name': 'drag_from_upper_shell_10_to_9', 'rate': np.float64(1.1249218757814548e-07), 'jump': {'shell_10_N_0.64kg': -1, 'shell_9_N_0.64kg': 1}}\n",
      "{'name': 'drag_down_shell_10_to_9', 'rate': np.float64(1.1249549280137496e-07), 'jump': {'shell_10_N_0.64kg': -1, 'shell_9_N_0.64kg': 1}}\n",
      "{'name': 'drag_out_shell_1_to_atmosphere', 'rate': np.float64(1.4360843234646713e-08), 'jump': {'shell_1_N_223kg': -1}}\n",
      "{'name': 'drag_from_upper_shell_2_to_1', 'rate': np.float64(1.434586782698923e-08), 'jump': {'shell_2_N_223kg': -1, 'shell_1_N_223kg': 1}}\n",
      "{'name': 'drag_down_shell_2_to_1', 'rate': np.float64(1.4346292098940164e-08), 'jump': {'shell_2_N_223kg': -1, 'shell_1_N_223kg': 1}}\n",
      "{'name': 'drag_from_upper_shell_3_to_2', 'rate': np.float64(1.433130945536386e-08), 'jump': {'shell_3_N_223kg': -1, 'shell_2_N_223kg': 1}}\n",
      "{'name': 'drag_down_shell_3_to_2', 'rate': np.float64(1.4331732949140156e-08), 'jump': {'shell_3_N_223kg': -1, 'shell_2_N_223kg': 1}}\n",
      "{'name': 'drag_from_upper_shell_4_to_3', 'rate': np.float64(1.431674318477165e-08), 'jump': {'shell_4_N_223kg': -1, 'shell_3_N_223kg': 1}}\n",
      "{'name': 'drag_down_shell_4_to_3', 'rate': np.float64(1.4317165901537585e-08), 'jump': {'shell_4_N_223kg': -1, 'shell_3_N_223kg': 1}}\n",
      "{'name': 'drag_from_upper_shell_5_to_4', 'rate': np.float64(1.430216913100295e-08), 'jump': {'shell_5_N_223kg': -1, 'shell_4_N_223kg': 1}}\n",
      "{'name': 'drag_down_shell_5_to_4', 'rate': np.float64(1.4302591071922487e-08), 'jump': {'shell_5_N_223kg': -1, 'shell_4_N_223kg': 1}}\n",
      "{'name': 'drag_from_upper_shell_6_to_5', 'rate': np.float64(1.4287587409355116e-08), 'jump': {'shell_6_N_223kg': -1, 'shell_5_N_223kg': 1}}\n",
      "{'name': 'drag_down_shell_6_to_5', 'rate': np.float64(1.4288008575591898e-08), 'jump': {'shell_6_N_223kg': -1, 'shell_5_N_223kg': 1}}\n",
      "{'name': 'drag_from_upper_shell_7_to_6', 'rate': np.float64(1.427299813462437e-08), 'jump': {'shell_7_N_223kg': -1, 'shell_6_N_223kg': 1}}\n",
      "{'name': 'drag_down_shell_7_to_6', 'rate': np.float64(1.4273418527341721e-08), 'jump': {'shell_7_N_223kg': -1, 'shell_6_N_223kg': 1}}\n",
      "{'name': 'drag_from_upper_shell_8_to_7', 'rate': np.float64(1.4258401421129712e-08), 'jump': {'shell_8_N_223kg': -1, 'shell_7_N_223kg': 1}}\n",
      "{'name': 'drag_down_shell_8_to_7', 'rate': np.float64(1.425882104149062e-08), 'jump': {'shell_8_N_223kg': -1, 'shell_7_N_223kg': 1}}\n",
      "{'name': 'drag_from_upper_shell_9_to_8', 'rate': np.float64(1.424379738269683e-08), 'jump': {'shell_9_N_223kg': -1, 'shell_8_N_223kg': 1}}\n",
      "{'name': 'drag_down_shell_9_to_8', 'rate': np.float64(1.4244216231863938e-08), 'jump': {'shell_9_N_223kg': -1, 'shell_8_N_223kg': 1}}\n",
      "{'name': 'drag_from_upper_shell_10_to_9', 'rate': np.float64(1.4229186132657992e-08), 'jump': {'shell_10_N_223kg': -1, 'shell_9_N_223kg': 1}}\n",
      "{'name': 'drag_down_shell_10_to_9', 'rate': np.float64(1.4229604211793576e-08), 'jump': {'shell_10_N_223kg': -1, 'shell_9_N_223kg': 1}}\n"
     ]
    }
   ],
   "source": [
    "# define collision events\n",
    "from utils.simulation.discrete_event import define_collision_events_from_pairs, define_launch_events, define_pmd_events, define_drag_events\n",
    "collision_events = define_collision_events_from_pairs(model, initial_state.copy())\n",
    "\n",
    "# define launch events\n",
    "launch_events = define_launch_events(all_species, model)\n",
    "\n",
    "# define PMD events\n",
    "pmd_events = define_pmd_events(all_species, model, initial_state.copy())\n",
    "\n",
    "# define drag events\n",
    "drag_events = define_drag_events(all_species, model, initial_state.copy())"
   ]
  },
  {
   "cell_type": "code",
   "execution_count": 11,
   "id": "c6f27a7b-1e61-43c7-adfc-18c69fe22137",
   "metadata": {},
   "outputs": [],
   "source": [
    "import numpy as np\n",
    "import pandas as pd\n",
    "from utils.simulation.discrete_event import update_collision_event_rates, update_drag_events, update_pmd_events\n",
    "\n",
    "\n",
    "def run_des(model, initial_state, all_species, launch_events):\n",
    "    state = initial_state.copy()\n",
    "    time = 0\n",
    "    simulation_duration = model.scenario_properties.simulation_duration\n",
    "    event_log = []\n",
    "\n",
    "    while time < simulation_duration:\n",
    "        collision_events = update_collision_event_rates(\n",
    "            model.scenario_properties.collision_pairs,\n",
    "            state,\n",
    "            model.scenario_properties.n_shells\n",
    "        )\n",
    "        \n",
    "        drag_events = update_drag_events(all_species, model, state)\n",
    "        pmd_events = update_pmd_events(all_species, model, state)\n",
    "\n",
    "        all_events = collision_events + launch_events + pmd_events #+ drag_events\n",
    "\n",
    "        total_rate = sum(event['rate'] for event in all_events)\n",
    "\n",
    "        if total_rate == 0:\n",
    "            break\n",
    "\n",
    "        next_event_time = np.random.exponential(1 / total_rate)\n",
    "        time += next_event_time\n",
    "\n",
    "        probabilities = [event['rate'] / total_rate for event in all_events]\n",
    "        selected_event = np.random.choice(all_events, p=probabilities)\n",
    "\n",
    "        for species_shell, jump in selected_event['jump'].items():\n",
    "            state[species_shell] += jump\n",
    "            state[species_shell] = max(state[species_shell], 0)\n",
    "\n",
    "        event_log.append({\n",
    "            'time': time,\n",
    "            'event': selected_event['name'],\n",
    "            'state': state.copy()\n",
    "        })\n",
    "\n",
    "    scen_times = model.scenario_properties.scen_times\n",
    "    df_event_log = pd.DataFrame(event_log)\n",
    "\n",
    "    n_shells = model.scenario_properties.n_shells\n",
    "    n_species = len(all_species)\n",
    "    result_array = np.zeros((n_species * n_shells, len(scen_times)))\n",
    "\n",
    "    species_shell_names = [\n",
    "        f'shell_{k+1}_{sp.sym_name}' \n",
    "        for sp in all_species for k in range(n_shells)\n",
    "    ]\n",
    "\n",
    "    current_idx = 0\n",
    "    for step_idx, t in enumerate(scen_times):\n",
    "        while current_idx + 1 < len(df_event_log) and df_event_log['time'].iloc[current_idx + 1] <= t:\n",
    "            current_idx += 1\n",
    "        \n",
    "        current_state = df_event_log['state'].iloc[current_idx]\n",
    "        for idx, species_shell in enumerate(species_shell_names):\n",
    "            result_array[idx, step_idx] = current_state.get(species_shell, 0)\n",
    "\n",
    "    return result_array\n",
    "\n"
   ]
  },
  {
   "cell_type": "code",
   "execution_count": null,
   "id": "d4e18ed4-432c-4cd6-97ff-d40dd4668b2e",
   "metadata": {
    "scrolled": true
   },
   "outputs": [
    {
     "name": "stdout",
     "output_type": "stream",
     "text": [
      "Iteration 0 start time: 2025-09-28 02:54:15\n",
      "\n",
      "Iteration 1 start time: 2025-09-28 02:55:19\n",
      "\n",
      "Iteration 2 start time: 2025-09-28 02:56:21\n",
      "\n",
      "Iteration 3 start time: 2025-09-28 02:57:24\n",
      "\n",
      "Iteration 4 start time: 2025-09-28 02:58:30\n",
      "\n"
     ]
    }
   ],
   "source": [
    "from datetime import datetime\n",
    "import numpy as np\n",
    "\n",
    "num_runs = 20\n",
    "results_list = []\n",
    "log_file = \"iteration_log.txt\"\n",
    "\n",
    "for i in range(num_runs):\n",
    "    current_time = datetime.now()\n",
    "    log_line = f\"Iteration {i} start time: {current_time.strftime('%Y-%m-%d %H:%M:%S')}\\n\"\n",
    "    print(log_line)\n",
    "    \n",
    "    # 로그 파일에 이어쓰기\n",
    "    with open(log_file, \"a\", encoding=\"utf-8\") as f:\n",
    "        f.write(log_line)\n",
    "    \n",
    "    des_results = run_des(model, initial_state, all_species, launch_events)\n",
    "    results_list.append(des_results)\n",
    "\n",
    "# Calculate Average\n",
    "mean_result_array = np.mean(results_list, axis=0)\n",
    "\n",
    "print(\"Mean result array shape:\", mean_result_array.shape)\n"
   ]
  },
  {
   "cell_type": "code",
   "execution_count": null,
   "id": "2b627b99-d3fd-453c-85bc-e045fd0eea73",
   "metadata": {},
   "outputs": [],
   "source": []
  },
  {
   "cell_type": "code",
   "execution_count": null,
   "id": "cadf2dab-fb77-4d91-9670-d37133dc1daf",
   "metadata": {},
   "outputs": [],
   "source": []
  },
  {
   "cell_type": "code",
   "execution_count": null,
   "id": "d9b53a79-956d-49a7-8ce2-2c0fe9b85f5a",
   "metadata": {},
   "outputs": [],
   "source": [
    "results.output.y"
   ]
  },
  {
   "cell_type": "code",
   "execution_count": null,
   "id": "9b37983f-a302-41bc-8219-151f002a6739",
   "metadata": {},
   "outputs": [],
   "source": [
    "mean_result_array"
   ]
  },
  {
   "cell_type": "code",
   "execution_count": null,
   "id": "f8b3fa22-5ae1-4217-86aa-663a4eff02ab",
   "metadata": {},
   "outputs": [],
   "source": [
    "results.output.y = mean_result_array"
   ]
  },
  {
   "cell_type": "code",
   "execution_count": null,
   "id": "22b1e4be-2e37-427c-9c5f-d810e22d8598",
   "metadata": {},
   "outputs": [],
   "source": [
    "import matplotlib.pyplot as plt\n",
    "import numpy as np\n",
    "import os\n",
    "\n",
    "scenario_properties = model.scenario_properties\n",
    "species_names = scenario_properties.species_names\n",
    "num_shells = scenario_properties.n_shells\n",
    "n_species = len(species_names)\n",
    "\n",
    "# Calculate average and std from results list\n",
    "results_array = np.array(results_list)  # shape: (num_runs, n_species*num_shells, n_steps)\n",
    "mean_results = np.mean(results_array, axis=0)\n",
    "std_results = np.std(results_array, axis=0)\n",
    "\n",
    "# Calculate conficence interval\n",
    "ci_factor = 1.96 / np.sqrt(len(results_list))  # 95% CI for the mean\n",
    "ci_results = ci_factor * std_results\n",
    "\n",
    "output_t = scenario_properties.scen_times\n",
    "\n",
    "os.makedirs('figures', exist_ok=True)\n",
    "\n",
    "# Plotting species population per shell (with CI)\n",
    "fig, axes = plt.subplots(1, n_species, figsize=(20, 6))\n",
    "\n",
    "cmap = plt.cm.viridis\n",
    "norm = plt.Normalize(vmin=0, vmax=num_shells - 1)\n",
    "colors = [cmap(norm(sh)) for sh in range(num_shells)]\n",
    "\n",
    "for species_index in range(n_species):\n",
    "    ax = axes.flatten()[species_index]\n",
    "    species_data_mean = mean_results[species_index * num_shells:(species_index + 1) * num_shells]\n",
    "    species_data_ci = ci_results[species_index * num_shells:(species_index + 1) * num_shells]\n",
    "\n",
    "    for shell_index in range(num_shells):\n",
    "        mean_curve = species_data_mean[shell_index]\n",
    "        ci_curve = species_data_ci[shell_index]\n",
    "        color = colors[shell_index]\n",
    "\n",
    "        ax.plot(output_t, mean_curve, color=color, label=f'Shell {shell_index + 1}')\n",
    "        ax.fill_between(output_t, mean_curve - ci_curve, mean_curve + ci_curve, color=color, alpha=0.2)\n",
    "\n",
    "    ax.set_title(f'{species_names[species_index]}')\n",
    "    ax.set_xlabel('Time')\n",
    "    ax.set_ylabel('Value')\n",
    "\n",
    "plt.suptitle('Species across All Shells with 95% CI')\n",
    "plt.tight_layout(rect=[0, 0.03, 1, 0.95])\n",
    "plt.savefig('figures/species_all_shells_DES.png')\n",
    "plt.close(fig)\n",
    "\n",
    "# Plotting Total Objects (with CI)\n",
    "plt.figure(figsize=(10, 6))\n",
    "\n",
    "total_objects_all_species_mean = np.zeros_like(output_t)\n",
    "total_objects_all_species_ci = np.zeros_like(output_t)\n",
    "\n",
    "for i in range(n_species):\n",
    "    start_idx = i * num_shells\n",
    "    end_idx = start_idx + num_shells\n",
    "\n",
    "    total_mean = np.sum(mean_results[start_idx:end_idx, :], axis=0)\n",
    "    total_ci = np.sqrt(np.sum(ci_results[start_idx:end_idx, :] ** 2, axis=0))  # CI propagation assuming independence\n",
    "\n",
    "    plt.plot(output_t, total_mean, label=f'{species_names[i]}')\n",
    "    plt.fill_between(output_t, total_mean - total_ci, total_mean + total_ci, alpha=0.2)\n",
    "\n",
    "    total_objects_all_species_mean += total_mean\n",
    "    total_objects_all_species_ci += total_ci ** 2  # Variances add up\n",
    "\n",
    "total_objects_all_species_ci = np.sqrt(total_objects_all_species_ci)\n",
    "\n",
    "plt.plot(output_t, total_objects_all_species_mean, label='Total All Species', color='k', linewidth=2, linestyle='--')\n",
    "plt.fill_between(output_t,\n",
    "                 total_objects_all_species_mean - total_objects_all_species_ci,\n",
    "                 total_objects_all_species_mean + total_objects_all_species_ci,\n",
    "                 color='gray', alpha=0.2)\n",
    "\n",
    "plt.xlabel('Time')\n",
    "plt.ylabel('Total Number of Objects')\n",
    "plt.title('Objects Over Time with 95% Confidence Interval')\n",
    "plt.xlim(0, 100)\n",
    "#plt.ylim(0, 2500)\n",
    "plt.legend()\n",
    "plt.tight_layout()\n",
    "plt.savefig('figures/total_objects_over_time_DES.png')\n",
    "plt.close()\n"
   ]
  },
  {
   "cell_type": "code",
   "execution_count": null,
   "id": "f95c7694-d82b-4736-a5dc-d5637e031b15",
   "metadata": {},
   "outputs": [],
   "source": []
  },
  {
   "cell_type": "code",
   "execution_count": null,
   "id": "ffff5d54-86ef-45c3-ad41-a21e1b1c6663",
   "metadata": {},
   "outputs": [],
   "source": [
    "print(\"complete\")"
   ]
  },
  {
   "cell_type": "code",
   "execution_count": null,
   "id": "6d7db5c0-8730-4e8e-8709-3f7cffda25b2",
   "metadata": {},
   "outputs": [],
   "source": []
  }
 ],
 "metadata": {
  "kernelspec": {
   "display_name": "Python (j1env)",
   "language": "python",
   "name": "j1env"
  },
  "language_info": {
   "codemirror_mode": {
    "name": "ipython",
    "version": 3
   },
   "file_extension": ".py",
   "mimetype": "text/x-python",
   "name": "python",
   "nbconvert_exporter": "python",
   "pygments_lexer": "ipython3",
   "version": "3.12.3"
  }
 },
 "nbformat": 4,
 "nbformat_minor": 5
}
