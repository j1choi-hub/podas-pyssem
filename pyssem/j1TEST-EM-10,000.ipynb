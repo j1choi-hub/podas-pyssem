{
 "cells": [
  {
   "cell_type": "code",
   "execution_count": 1,
   "id": "e7c97d7e-e949-4949-8f1c-186df96dc6b0",
   "metadata": {},
   "outputs": [
    {
     "name": "stderr",
     "output_type": "stream",
     "text": [
      "/home/j1choi/Downloads/pyssem-main/pyssem/utils/simulation/scen_properties.py:11: UserWarning: pkg_resources is deprecated as an API. See https://setuptools.pypa.io/en/latest/pkg_resources.html. The pkg_resources package is slated for removal as early as 2025-11-30. Refrain from using this package or pin to Setuptools<81.\n",
      "  from pkg_resources import resource_filename\n"
     ]
    }
   ],
   "source": [
    "from model import Model\n",
    "import json\n",
    "import os"
   ]
  },
  {
   "cell_type": "code",
   "execution_count": 2,
   "id": "118279c4-91a8-40f8-9d93-b1f8063412f2",
   "metadata": {},
   "outputs": [],
   "source": [
    "# Load simulation configuration\n",
    "with open('./example-purdue.json') as f:\n",
    "  simulation_data = json.load(f)"
   ]
  },
  {
   "cell_type": "code",
   "execution_count": 3,
   "id": "d7428ea7-e2d2-4b2c-bcb6-d1406c44885f",
   "metadata": {},
   "outputs": [],
   "source": [
    "scenario_props = simulation_data['scenario_properties']"
   ]
  },
  {
   "cell_type": "code",
   "execution_count": 4,
   "id": "699dd59f-562b-48d0-9601-40ecfd9d9047",
   "metadata": {},
   "outputs": [
    {
     "data": {
      "text/plain": [
       "{'start_date': '01/03/2022',\n",
       " 'simulation_duration': 10,\n",
       " 'steps': 8000,\n",
       " 'min_altitude': 200,\n",
       " 'max_altitude': 900,\n",
       " 'v_shells': 1000000,\n",
       " 'launch_function': 'Lambda',\n",
       " 'integrator': 'BDF',\n",
       " 'density_model': 'static_exp_dens_func',\n",
       " 'LC': 0.1,\n",
       " 'v_imp': 10.0,\n",
       " 'fragment_spreading': False,\n",
       " 'parallel_processing': False,\n",
       " 'basline': False}"
      ]
     },
     "execution_count": 4,
     "metadata": {},
     "output_type": "execute_result"
    }
   ],
   "source": [
    "scenario_props"
   ]
  },
  {
   "cell_type": "code",
   "execution_count": 5,
   "id": "b2af8e0f-4833-4cf9-afc5-fdc05493ed5a",
   "metadata": {},
   "outputs": [
    {
     "name": "stdout",
     "output_type": "stream",
     "text": [
      "SHELL COUNT:  10\n",
      "R0_km [200.         201.96996919 203.90224098 205.79856864 207.66057853\n",
      " 209.48978234 211.28758796 213.05530904 214.79417343 216.50533072\n",
      " 218.18985891]\n"
     ]
    }
   ],
   "source": [
    "# Create an instance of the Model with the simulation parameters\n",
    "model = Model(\n",
    "    start_date=scenario_props[\"start_date\"].split(\"T\")[0],  # Assuming date is in ISO format\n",
    "    simulation_duration=scenario_props[\"simulation_duration\"],\n",
    "    steps=scenario_props[\"steps\"],\n",
    "    min_altitude=scenario_props[\"min_altitude\"],\n",
    "    max_altitude=scenario_props[\"max_altitude\"],\n",
    "    v_shells=scenario_props[\"v_shells\"],\n",
    "    launch_function=scenario_props[\"launch_function\"],\n",
    "    integrator=scenario_props[\"integrator\"],\n",
    "    density_model=scenario_props[\"density_model\"],\n",
    "    LC=scenario_props[\"LC\"],\n",
    "    v_imp=scenario_props[\"v_imp\"],\n",
    "    fragment_spreading = scenario_props[\"fragment_spreading\"]\n",
    ")"
   ]
  },
  {
   "cell_type": "code",
   "execution_count": 6,
   "id": "ec99a369-2d95-4e49-97ef-3493b23e6fa4",
   "metadata": {
    "scrolled": true
   },
   "outputs": [
    {
     "name": "stdout",
     "output_type": "stream",
     "text": [
      "Splitting species N into 2 species with masses [0.64, 223].\n",
      "Added 1 active species, 2 debris species, and 0 rocket body species to the simulation.\n",
      "Pairing the following active species to debris classes for PMD modeling...\n",
      "['S']\n",
      "Matched species S to debris species N_223kg.\n",
      "    Name: N_0.64kg\n",
      "    pmd_linked_species: []\n",
      "    Name: N_223kg\n",
      "    pmd_linked_species: ['S']\n"
     ]
    },
    {
     "name": "stderr",
     "output_type": "stream",
     "text": [
      "Creating collision pairs:  17%|███▏               | 1/6 [00:00<00:00,  7.32it/s]"
     ]
    },
    {
     "name": "stdout",
     "output_type": "stream",
     "text": [
      "Species pairing for  S N_0.64kg and sk  ['S', 'N_0.64kg', 'N_0.64kg', 'N_223kg']\n",
      "pairing {'S'} {'N_0.64kg'}\n",
      "Species pairing for  S N_223kg and sk  ['S', 'N_223kg', 'N_0.64kg', 'N_223kg']\n",
      "pairing {'S'} {'N_223kg'}\n"
     ]
    },
    {
     "name": "stderr",
     "output_type": "stream",
     "text": [
      "Creating collision pairs:  67%|████████████▋      | 4/6 [00:00<00:00,  9.72it/s]"
     ]
    },
    {
     "name": "stdout",
     "output_type": "stream",
     "text": [
      "Species pairing for  N_0.64kg N_223kg and sk  ['N_0.64kg', 'N_223kg', 'N_0.64kg', 'N_223kg']\n",
      "pairing {'N_0.64kg'} {'N_223kg'}\n",
      "Species pairing for  S S and sk  ['S', 'S', 'N_0.64kg', 'N_223kg']\n",
      "pairing {'S'} {'S'}\n",
      "Species pairing for  N_0.64kg N_0.64kg and sk  ['N_0.64kg', 'N_0.64kg', 'N_0.64kg', 'N_223kg']\n",
      "pairing {'N_0.64kg'} {'N_0.64kg'}\n"
     ]
    },
    {
     "name": "stderr",
     "output_type": "stream",
     "text": [
      "Creating collision pairs: 100%|███████████████████| 6/6 [00:00<00:00, 10.87it/s]"
     ]
    },
    {
     "name": "stdout",
     "output_type": "stream",
     "text": [
      "Species pairing for  N_223kg N_223kg and sk  ['N_223kg', 'N_223kg', 'N_0.64kg', 'N_223kg']\n",
      "pairing {'N_223kg'} {'N_223kg'}\n"
     ]
    },
    {
     "name": "stderr",
     "output_type": "stream",
     "text": [
      "\n"
     ]
    }
   ],
   "source": [
    "species = simulation_data[\"species\"]\n",
    "species_list = model.configure_species(species)"
   ]
  },
  {
   "cell_type": "code",
   "execution_count": 7,
   "id": "1d59daf0-849a-4a9e-b297-b8abbfbf0f15",
   "metadata": {
    "scrolled": true
   },
   "outputs": [
    {
     "name": "stdout",
     "output_type": "stream",
     "text": [
      "baseline\n",
      "PER YEAR 31557600.0 800.0\n",
      "PER YEAR 31557600.0 800.0\n",
      "PER YEAR 31557600.0 800.0\n",
      "Conversion of equations to lambda functions...\n",
      "x0           S   N_0.64kg   N_223kg\n",
      "0  0.055208   9.757446  4.353258\n",
      "1  0.062425   9.974504  4.439675\n",
      "2  0.070382  10.190869  4.525725\n",
      "3  0.079137  10.406563  4.611424\n",
      "4   0.08875  10.621606  4.696785\n",
      "5  0.099282  10.836015  4.781822\n",
      "6  0.110801  11.049808  4.866547\n",
      "7  0.123375     11.263  4.950971\n",
      "8  0.137077  11.475605  5.035105\n",
      "9  0.151984  11.687636  5.118958\n",
      "Integrating equations...\n",
      "Model run completed successfully.\n"
     ]
    }
   ],
   "source": [
    "# Run the model\n",
    "results = model.run_model()"
   ]
  },
  {
   "cell_type": "code",
   "execution_count": 8,
   "id": "71caa76b-b335-437c-8fe3-8f8b6824abcd",
   "metadata": {
    "scrolled": true
   },
   "outputs": [
    {
     "name": "stdout",
     "output_type": "stream",
     "text": [
      "Making plots\n"
     ]
    },
    {
     "name": "stderr",
     "output_type": "stream",
     "text": [
      "Exception ignored in: <bound method IPythonKernel._clean_thread_parent_frames of <ipykernel.ipkernel.IPythonKernel object at 0x7976b7c4d730>>\n",
      "Traceback (most recent call last):\n",
      "  File \"/home/j1choi/j1env/lib/python3.12/site-packages/ipykernel/ipkernel.py\", line 775, in _clean_thread_parent_frames\n",
      "    def _clean_thread_parent_frames(\n",
      "\n",
      "KeyboardInterrupt: \n"
     ]
    },
    {
     "ename": "KeyboardInterrupt",
     "evalue": "",
     "output_type": "error",
     "traceback": [
      "\u001b[31m---------------------------------------------------------------------------\u001b[39m",
      "\u001b[31mKeyboardInterrupt\u001b[39m                         Traceback (most recent call last)",
      "\u001b[36mCell\u001b[39m\u001b[36m \u001b[39m\u001b[32mIn[8]\u001b[39m\u001b[32m, line 1\u001b[39m\n\u001b[32m----> \u001b[39m\u001b[32m1\u001b[39m \u001b[43mmodel\u001b[49m\u001b[43m.\u001b[49m\u001b[43mcreate_plots\u001b[49m\u001b[43m(\u001b[49m\u001b[43m)\u001b[49m\n",
      "\u001b[36mFile \u001b[39m\u001b[32m~/Downloads/pyssem-main/pyssem/model.py:325\u001b[39m, in \u001b[36mModel.create_plots\u001b[39m\u001b[34m(self)\u001b[39m\n\u001b[32m    323\u001b[39m     \u001b[38;5;66;03m# Save the frame\u001b[39;00m\n\u001b[32m    324\u001b[39m     frame_path = os.path.join(frames_dir, \u001b[33mf\u001b[39m\u001b[33m'\u001b[39m\u001b[33mframe_\u001b[39m\u001b[38;5;132;01m{\u001b[39;00mt_idx\u001b[38;5;132;01m:\u001b[39;00m\u001b[33m04d\u001b[39m\u001b[38;5;132;01m}\u001b[39;00m\u001b[33m.png\u001b[39m\u001b[33m'\u001b[39m)\n\u001b[32m--> \u001b[39m\u001b[32m325\u001b[39m     \u001b[43mplt\u001b[49m\u001b[43m.\u001b[49m\u001b[43msavefig\u001b[49m\u001b[43m(\u001b[49m\u001b[43mframe_path\u001b[49m\u001b[43m)\u001b[49m\n\u001b[32m    326\u001b[39m     plt.close(fig)\n\u001b[32m    328\u001b[39m \u001b[38;5;66;03m# Create the GIF\u001b[39;00m\n",
      "\u001b[36mFile \u001b[39m\u001b[32m~/j1env/lib/python3.12/site-packages/matplotlib/pyplot.py:1251\u001b[39m, in \u001b[36msavefig\u001b[39m\u001b[34m(*args, **kwargs)\u001b[39m\n\u001b[32m   1248\u001b[39m fig = gcf()\n\u001b[32m   1249\u001b[39m \u001b[38;5;66;03m# savefig default implementation has no return, so mypy is unhappy\u001b[39;00m\n\u001b[32m   1250\u001b[39m \u001b[38;5;66;03m# presumably this is here because subclasses can return?\u001b[39;00m\n\u001b[32m-> \u001b[39m\u001b[32m1251\u001b[39m res = \u001b[43mfig\u001b[49m\u001b[43m.\u001b[49m\u001b[43msavefig\u001b[49m\u001b[43m(\u001b[49m\u001b[43m*\u001b[49m\u001b[43margs\u001b[49m\u001b[43m,\u001b[49m\u001b[43m \u001b[49m\u001b[43m*\u001b[49m\u001b[43m*\u001b[49m\u001b[43mkwargs\u001b[49m\u001b[43m)\u001b[49m  \u001b[38;5;66;03m# type: ignore[func-returns-value]\u001b[39;00m\n\u001b[32m   1252\u001b[39m fig.canvas.draw_idle()  \u001b[38;5;66;03m# Need this if 'transparent=True', to reset colors.\u001b[39;00m\n\u001b[32m   1253\u001b[39m \u001b[38;5;28;01mreturn\u001b[39;00m res\n",
      "\u001b[36mFile \u001b[39m\u001b[32m~/j1env/lib/python3.12/site-packages/matplotlib/figure.py:3490\u001b[39m, in \u001b[36mFigure.savefig\u001b[39m\u001b[34m(self, fname, transparent, **kwargs)\u001b[39m\n\u001b[32m   3488\u001b[39m     \u001b[38;5;28;01mfor\u001b[39;00m ax \u001b[38;5;129;01min\u001b[39;00m \u001b[38;5;28mself\u001b[39m.axes:\n\u001b[32m   3489\u001b[39m         _recursively_make_axes_transparent(stack, ax)\n\u001b[32m-> \u001b[39m\u001b[32m3490\u001b[39m \u001b[38;5;28;43mself\u001b[39;49m\u001b[43m.\u001b[49m\u001b[43mcanvas\u001b[49m\u001b[43m.\u001b[49m\u001b[43mprint_figure\u001b[49m\u001b[43m(\u001b[49m\u001b[43mfname\u001b[49m\u001b[43m,\u001b[49m\u001b[43m \u001b[49m\u001b[43m*\u001b[49m\u001b[43m*\u001b[49m\u001b[43mkwargs\u001b[49m\u001b[43m)\u001b[49m\n",
      "\u001b[36mFile \u001b[39m\u001b[32m~/j1env/lib/python3.12/site-packages/matplotlib/backend_bases.py:2184\u001b[39m, in \u001b[36mFigureCanvasBase.print_figure\u001b[39m\u001b[34m(self, filename, dpi, facecolor, edgecolor, orientation, format, bbox_inches, pad_inches, bbox_extra_artists, backend, **kwargs)\u001b[39m\n\u001b[32m   2180\u001b[39m \u001b[38;5;28;01mtry\u001b[39;00m:\n\u001b[32m   2181\u001b[39m     \u001b[38;5;66;03m# _get_renderer may change the figure dpi (as vector formats\u001b[39;00m\n\u001b[32m   2182\u001b[39m     \u001b[38;5;66;03m# force the figure dpi to 72), so we need to set it again here.\u001b[39;00m\n\u001b[32m   2183\u001b[39m     \u001b[38;5;28;01mwith\u001b[39;00m cbook._setattr_cm(\u001b[38;5;28mself\u001b[39m.figure, dpi=dpi):\n\u001b[32m-> \u001b[39m\u001b[32m2184\u001b[39m         result = \u001b[43mprint_method\u001b[49m\u001b[43m(\u001b[49m\n\u001b[32m   2185\u001b[39m \u001b[43m            \u001b[49m\u001b[43mfilename\u001b[49m\u001b[43m,\u001b[49m\n\u001b[32m   2186\u001b[39m \u001b[43m            \u001b[49m\u001b[43mfacecolor\u001b[49m\u001b[43m=\u001b[49m\u001b[43mfacecolor\u001b[49m\u001b[43m,\u001b[49m\n\u001b[32m   2187\u001b[39m \u001b[43m            \u001b[49m\u001b[43medgecolor\u001b[49m\u001b[43m=\u001b[49m\u001b[43medgecolor\u001b[49m\u001b[43m,\u001b[49m\n\u001b[32m   2188\u001b[39m \u001b[43m            \u001b[49m\u001b[43morientation\u001b[49m\u001b[43m=\u001b[49m\u001b[43morientation\u001b[49m\u001b[43m,\u001b[49m\n\u001b[32m   2189\u001b[39m \u001b[43m            \u001b[49m\u001b[43mbbox_inches_restore\u001b[49m\u001b[43m=\u001b[49m\u001b[43m_bbox_inches_restore\u001b[49m\u001b[43m,\u001b[49m\n\u001b[32m   2190\u001b[39m \u001b[43m            \u001b[49m\u001b[43m*\u001b[49m\u001b[43m*\u001b[49m\u001b[43mkwargs\u001b[49m\u001b[43m)\u001b[49m\n\u001b[32m   2191\u001b[39m \u001b[38;5;28;01mfinally\u001b[39;00m:\n\u001b[32m   2192\u001b[39m     \u001b[38;5;28;01mif\u001b[39;00m bbox_inches \u001b[38;5;129;01mand\u001b[39;00m restore_bbox:\n",
      "\u001b[36mFile \u001b[39m\u001b[32m~/j1env/lib/python3.12/site-packages/matplotlib/backend_bases.py:2040\u001b[39m, in \u001b[36mFigureCanvasBase._switch_canvas_and_return_print_method.<locals>.<lambda>\u001b[39m\u001b[34m(*args, **kwargs)\u001b[39m\n\u001b[32m   2036\u001b[39m     optional_kws = {  \u001b[38;5;66;03m# Passed by print_figure for other renderers.\u001b[39;00m\n\u001b[32m   2037\u001b[39m         \u001b[33m\"\u001b[39m\u001b[33mdpi\u001b[39m\u001b[33m\"\u001b[39m, \u001b[33m\"\u001b[39m\u001b[33mfacecolor\u001b[39m\u001b[33m\"\u001b[39m, \u001b[33m\"\u001b[39m\u001b[33medgecolor\u001b[39m\u001b[33m\"\u001b[39m, \u001b[33m\"\u001b[39m\u001b[33morientation\u001b[39m\u001b[33m\"\u001b[39m,\n\u001b[32m   2038\u001b[39m         \u001b[33m\"\u001b[39m\u001b[33mbbox_inches_restore\u001b[39m\u001b[33m\"\u001b[39m}\n\u001b[32m   2039\u001b[39m     skip = optional_kws - {*inspect.signature(meth).parameters}\n\u001b[32m-> \u001b[39m\u001b[32m2040\u001b[39m     print_method = functools.wraps(meth)(\u001b[38;5;28;01mlambda\u001b[39;00m *args, **kwargs: \u001b[43mmeth\u001b[49m\u001b[43m(\u001b[49m\n\u001b[32m   2041\u001b[39m \u001b[43m        \u001b[49m\u001b[43m*\u001b[49m\u001b[43margs\u001b[49m\u001b[43m,\u001b[49m\u001b[43m \u001b[49m\u001b[43m*\u001b[49m\u001b[43m*\u001b[49m\u001b[43m{\u001b[49m\u001b[43mk\u001b[49m\u001b[43m:\u001b[49m\u001b[43m \u001b[49m\u001b[43mv\u001b[49m\u001b[43m \u001b[49m\u001b[38;5;28;43;01mfor\u001b[39;49;00m\u001b[43m \u001b[49m\u001b[43mk\u001b[49m\u001b[43m,\u001b[49m\u001b[43m \u001b[49m\u001b[43mv\u001b[49m\u001b[43m \u001b[49m\u001b[38;5;129;43;01min\u001b[39;49;00m\u001b[43m \u001b[49m\u001b[43mkwargs\u001b[49m\u001b[43m.\u001b[49m\u001b[43mitems\u001b[49m\u001b[43m(\u001b[49m\u001b[43m)\u001b[49m\u001b[43m \u001b[49m\u001b[38;5;28;43;01mif\u001b[39;49;00m\u001b[43m \u001b[49m\u001b[43mk\u001b[49m\u001b[43m \u001b[49m\u001b[38;5;129;43;01mnot\u001b[39;49;00m\u001b[43m \u001b[49m\u001b[38;5;129;43;01min\u001b[39;49;00m\u001b[43m \u001b[49m\u001b[43mskip\u001b[49m\u001b[43m}\u001b[49m\u001b[43m)\u001b[49m)\n\u001b[32m   2042\u001b[39m \u001b[38;5;28;01melse\u001b[39;00m:  \u001b[38;5;66;03m# Let third-parties do as they see fit.\u001b[39;00m\n\u001b[32m   2043\u001b[39m     print_method = meth\n",
      "\u001b[36mFile \u001b[39m\u001b[32m~/j1env/lib/python3.12/site-packages/matplotlib/backends/backend_agg.py:481\u001b[39m, in \u001b[36mFigureCanvasAgg.print_png\u001b[39m\u001b[34m(self, filename_or_obj, metadata, pil_kwargs)\u001b[39m\n\u001b[32m    434\u001b[39m \u001b[38;5;28;01mdef\u001b[39;00m\u001b[38;5;250m \u001b[39m\u001b[34mprint_png\u001b[39m(\u001b[38;5;28mself\u001b[39m, filename_or_obj, *, metadata=\u001b[38;5;28;01mNone\u001b[39;00m, pil_kwargs=\u001b[38;5;28;01mNone\u001b[39;00m):\n\u001b[32m    435\u001b[39m \u001b[38;5;250m    \u001b[39m\u001b[33;03m\"\"\"\u001b[39;00m\n\u001b[32m    436\u001b[39m \u001b[33;03m    Write the figure to a PNG file.\u001b[39;00m\n\u001b[32m    437\u001b[39m \n\u001b[32m   (...)\u001b[39m\u001b[32m    479\u001b[39m \u001b[33;03m        *metadata*, including the default 'Software' key.\u001b[39;00m\n\u001b[32m    480\u001b[39m \u001b[33;03m    \"\"\"\u001b[39;00m\n\u001b[32m--> \u001b[39m\u001b[32m481\u001b[39m     \u001b[38;5;28;43mself\u001b[39;49m\u001b[43m.\u001b[49m\u001b[43m_print_pil\u001b[49m\u001b[43m(\u001b[49m\u001b[43mfilename_or_obj\u001b[49m\u001b[43m,\u001b[49m\u001b[43m \u001b[49m\u001b[33;43m\"\u001b[39;49m\u001b[33;43mpng\u001b[39;49m\u001b[33;43m\"\u001b[39;49m\u001b[43m,\u001b[49m\u001b[43m \u001b[49m\u001b[43mpil_kwargs\u001b[49m\u001b[43m,\u001b[49m\u001b[43m \u001b[49m\u001b[43mmetadata\u001b[49m\u001b[43m)\u001b[49m\n",
      "\u001b[36mFile \u001b[39m\u001b[32m~/j1env/lib/python3.12/site-packages/matplotlib/backends/backend_agg.py:429\u001b[39m, in \u001b[36mFigureCanvasAgg._print_pil\u001b[39m\u001b[34m(self, filename_or_obj, fmt, pil_kwargs, metadata)\u001b[39m\n\u001b[32m    424\u001b[39m \u001b[38;5;28;01mdef\u001b[39;00m\u001b[38;5;250m \u001b[39m\u001b[34m_print_pil\u001b[39m(\u001b[38;5;28mself\u001b[39m, filename_or_obj, fmt, pil_kwargs, metadata=\u001b[38;5;28;01mNone\u001b[39;00m):\n\u001b[32m    425\u001b[39m \u001b[38;5;250m    \u001b[39m\u001b[33;03m\"\"\"\u001b[39;00m\n\u001b[32m    426\u001b[39m \u001b[33;03m    Draw the canvas, then save it using `.image.imsave` (to which\u001b[39;00m\n\u001b[32m    427\u001b[39m \u001b[33;03m    *pil_kwargs* and *metadata* are forwarded).\u001b[39;00m\n\u001b[32m    428\u001b[39m \u001b[33;03m    \"\"\"\u001b[39;00m\n\u001b[32m--> \u001b[39m\u001b[32m429\u001b[39m     \u001b[43mFigureCanvasAgg\u001b[49m\u001b[43m.\u001b[49m\u001b[43mdraw\u001b[49m\u001b[43m(\u001b[49m\u001b[38;5;28;43mself\u001b[39;49m\u001b[43m)\u001b[49m\n\u001b[32m    430\u001b[39m     mpl.image.imsave(\n\u001b[32m    431\u001b[39m         filename_or_obj, \u001b[38;5;28mself\u001b[39m.buffer_rgba(), \u001b[38;5;28mformat\u001b[39m=fmt, origin=\u001b[33m\"\u001b[39m\u001b[33mupper\u001b[39m\u001b[33m\"\u001b[39m,\n\u001b[32m    432\u001b[39m         dpi=\u001b[38;5;28mself\u001b[39m.figure.dpi, metadata=metadata, pil_kwargs=pil_kwargs)\n",
      "\u001b[36mFile \u001b[39m\u001b[32m~/j1env/lib/python3.12/site-packages/matplotlib/backends/backend_agg.py:382\u001b[39m, in \u001b[36mFigureCanvasAgg.draw\u001b[39m\u001b[34m(self)\u001b[39m\n\u001b[32m    379\u001b[39m \u001b[38;5;66;03m# Acquire a lock on the shared font cache.\u001b[39;00m\n\u001b[32m    380\u001b[39m \u001b[38;5;28;01mwith\u001b[39;00m (\u001b[38;5;28mself\u001b[39m.toolbar._wait_cursor_for_draw_cm() \u001b[38;5;28;01mif\u001b[39;00m \u001b[38;5;28mself\u001b[39m.toolbar\n\u001b[32m    381\u001b[39m       \u001b[38;5;28;01melse\u001b[39;00m nullcontext()):\n\u001b[32m--> \u001b[39m\u001b[32m382\u001b[39m     \u001b[38;5;28;43mself\u001b[39;49m\u001b[43m.\u001b[49m\u001b[43mfigure\u001b[49m\u001b[43m.\u001b[49m\u001b[43mdraw\u001b[49m\u001b[43m(\u001b[49m\u001b[38;5;28;43mself\u001b[39;49m\u001b[43m.\u001b[49m\u001b[43mrenderer\u001b[49m\u001b[43m)\u001b[49m\n\u001b[32m    383\u001b[39m     \u001b[38;5;66;03m# A GUI class may be need to update a window using this draw, so\u001b[39;00m\n\u001b[32m    384\u001b[39m     \u001b[38;5;66;03m# don't forget to call the superclass.\u001b[39;00m\n\u001b[32m    385\u001b[39m     \u001b[38;5;28msuper\u001b[39m().draw()\n",
      "\u001b[36mFile \u001b[39m\u001b[32m~/j1env/lib/python3.12/site-packages/matplotlib/artist.py:94\u001b[39m, in \u001b[36m_finalize_rasterization.<locals>.draw_wrapper\u001b[39m\u001b[34m(artist, renderer, *args, **kwargs)\u001b[39m\n\u001b[32m     92\u001b[39m \u001b[38;5;129m@wraps\u001b[39m(draw)\n\u001b[32m     93\u001b[39m \u001b[38;5;28;01mdef\u001b[39;00m\u001b[38;5;250m \u001b[39m\u001b[34mdraw_wrapper\u001b[39m(artist, renderer, *args, **kwargs):\n\u001b[32m---> \u001b[39m\u001b[32m94\u001b[39m     result = \u001b[43mdraw\u001b[49m\u001b[43m(\u001b[49m\u001b[43martist\u001b[49m\u001b[43m,\u001b[49m\u001b[43m \u001b[49m\u001b[43mrenderer\u001b[49m\u001b[43m,\u001b[49m\u001b[43m \u001b[49m\u001b[43m*\u001b[49m\u001b[43margs\u001b[49m\u001b[43m,\u001b[49m\u001b[43m \u001b[49m\u001b[43m*\u001b[49m\u001b[43m*\u001b[49m\u001b[43mkwargs\u001b[49m\u001b[43m)\u001b[49m\n\u001b[32m     95\u001b[39m     \u001b[38;5;28;01mif\u001b[39;00m renderer._rasterizing:\n\u001b[32m     96\u001b[39m         renderer.stop_rasterizing()\n",
      "\u001b[36mFile \u001b[39m\u001b[32m~/j1env/lib/python3.12/site-packages/matplotlib/artist.py:71\u001b[39m, in \u001b[36mallow_rasterization.<locals>.draw_wrapper\u001b[39m\u001b[34m(artist, renderer)\u001b[39m\n\u001b[32m     68\u001b[39m     \u001b[38;5;28;01mif\u001b[39;00m artist.get_agg_filter() \u001b[38;5;129;01mis\u001b[39;00m \u001b[38;5;129;01mnot\u001b[39;00m \u001b[38;5;28;01mNone\u001b[39;00m:\n\u001b[32m     69\u001b[39m         renderer.start_filter()\n\u001b[32m---> \u001b[39m\u001b[32m71\u001b[39m     \u001b[38;5;28;01mreturn\u001b[39;00m \u001b[43mdraw\u001b[49m\u001b[43m(\u001b[49m\u001b[43martist\u001b[49m\u001b[43m,\u001b[49m\u001b[43m \u001b[49m\u001b[43mrenderer\u001b[49m\u001b[43m)\u001b[49m\n\u001b[32m     72\u001b[39m \u001b[38;5;28;01mfinally\u001b[39;00m:\n\u001b[32m     73\u001b[39m     \u001b[38;5;28;01mif\u001b[39;00m artist.get_agg_filter() \u001b[38;5;129;01mis\u001b[39;00m \u001b[38;5;129;01mnot\u001b[39;00m \u001b[38;5;28;01mNone\u001b[39;00m:\n",
      "\u001b[36mFile \u001b[39m\u001b[32m~/j1env/lib/python3.12/site-packages/matplotlib/figure.py:3257\u001b[39m, in \u001b[36mFigure.draw\u001b[39m\u001b[34m(self, renderer)\u001b[39m\n\u001b[32m   3254\u001b[39m             \u001b[38;5;66;03m# ValueError can occur when resizing a window.\u001b[39;00m\n\u001b[32m   3256\u001b[39m     \u001b[38;5;28mself\u001b[39m.patch.draw(renderer)\n\u001b[32m-> \u001b[39m\u001b[32m3257\u001b[39m     \u001b[43mmimage\u001b[49m\u001b[43m.\u001b[49m\u001b[43m_draw_list_compositing_images\u001b[49m\u001b[43m(\u001b[49m\n\u001b[32m   3258\u001b[39m \u001b[43m        \u001b[49m\u001b[43mrenderer\u001b[49m\u001b[43m,\u001b[49m\u001b[43m \u001b[49m\u001b[38;5;28;43mself\u001b[39;49m\u001b[43m,\u001b[49m\u001b[43m \u001b[49m\u001b[43martists\u001b[49m\u001b[43m,\u001b[49m\u001b[43m \u001b[49m\u001b[38;5;28;43mself\u001b[39;49m\u001b[43m.\u001b[49m\u001b[43msuppressComposite\u001b[49m\u001b[43m)\u001b[49m\n\u001b[32m   3260\u001b[39m     renderer.close_group(\u001b[33m'\u001b[39m\u001b[33mfigure\u001b[39m\u001b[33m'\u001b[39m)\n\u001b[32m   3261\u001b[39m \u001b[38;5;28;01mfinally\u001b[39;00m:\n",
      "\u001b[36mFile \u001b[39m\u001b[32m~/j1env/lib/python3.12/site-packages/matplotlib/image.py:134\u001b[39m, in \u001b[36m_draw_list_compositing_images\u001b[39m\u001b[34m(renderer, parent, artists, suppress_composite)\u001b[39m\n\u001b[32m    132\u001b[39m \u001b[38;5;28;01mif\u001b[39;00m not_composite \u001b[38;5;129;01mor\u001b[39;00m \u001b[38;5;129;01mnot\u001b[39;00m has_images:\n\u001b[32m    133\u001b[39m     \u001b[38;5;28;01mfor\u001b[39;00m a \u001b[38;5;129;01min\u001b[39;00m artists:\n\u001b[32m--> \u001b[39m\u001b[32m134\u001b[39m         \u001b[43ma\u001b[49m\u001b[43m.\u001b[49m\u001b[43mdraw\u001b[49m\u001b[43m(\u001b[49m\u001b[43mrenderer\u001b[49m\u001b[43m)\u001b[49m\n\u001b[32m    135\u001b[39m \u001b[38;5;28;01melse\u001b[39;00m:\n\u001b[32m    136\u001b[39m     \u001b[38;5;66;03m# Composite any adjacent images together\u001b[39;00m\n\u001b[32m    137\u001b[39m     image_group = []\n",
      "\u001b[36mFile \u001b[39m\u001b[32m~/j1env/lib/python3.12/site-packages/matplotlib/artist.py:71\u001b[39m, in \u001b[36mallow_rasterization.<locals>.draw_wrapper\u001b[39m\u001b[34m(artist, renderer)\u001b[39m\n\u001b[32m     68\u001b[39m     \u001b[38;5;28;01mif\u001b[39;00m artist.get_agg_filter() \u001b[38;5;129;01mis\u001b[39;00m \u001b[38;5;129;01mnot\u001b[39;00m \u001b[38;5;28;01mNone\u001b[39;00m:\n\u001b[32m     69\u001b[39m         renderer.start_filter()\n\u001b[32m---> \u001b[39m\u001b[32m71\u001b[39m     \u001b[38;5;28;01mreturn\u001b[39;00m \u001b[43mdraw\u001b[49m\u001b[43m(\u001b[49m\u001b[43martist\u001b[49m\u001b[43m,\u001b[49m\u001b[43m \u001b[49m\u001b[43mrenderer\u001b[49m\u001b[43m)\u001b[49m\n\u001b[32m     72\u001b[39m \u001b[38;5;28;01mfinally\u001b[39;00m:\n\u001b[32m     73\u001b[39m     \u001b[38;5;28;01mif\u001b[39;00m artist.get_agg_filter() \u001b[38;5;129;01mis\u001b[39;00m \u001b[38;5;129;01mnot\u001b[39;00m \u001b[38;5;28;01mNone\u001b[39;00m:\n",
      "\u001b[36mFile \u001b[39m\u001b[32m~/j1env/lib/python3.12/site-packages/matplotlib/axes/_base.py:3180\u001b[39m, in \u001b[36m_AxesBase.draw\u001b[39m\u001b[34m(self, renderer)\u001b[39m\n\u001b[32m   3177\u001b[39m     \u001b[38;5;28;01mfor\u001b[39;00m spine \u001b[38;5;129;01min\u001b[39;00m \u001b[38;5;28mself\u001b[39m.spines.values():\n\u001b[32m   3178\u001b[39m         artists.remove(spine)\n\u001b[32m-> \u001b[39m\u001b[32m3180\u001b[39m \u001b[38;5;28;43mself\u001b[39;49m\u001b[43m.\u001b[49m\u001b[43m_update_title_position\u001b[49m\u001b[43m(\u001b[49m\u001b[43mrenderer\u001b[49m\u001b[43m)\u001b[49m\n\u001b[32m   3182\u001b[39m \u001b[38;5;28;01mif\u001b[39;00m \u001b[38;5;129;01mnot\u001b[39;00m \u001b[38;5;28mself\u001b[39m.axison:\n\u001b[32m   3183\u001b[39m     \u001b[38;5;28;01mfor\u001b[39;00m _axis \u001b[38;5;129;01min\u001b[39;00m \u001b[38;5;28mself\u001b[39m._axis_map.values():\n",
      "\u001b[36mFile \u001b[39m\u001b[32m~/j1env/lib/python3.12/site-packages/matplotlib/axes/_base.py:3134\u001b[39m, in \u001b[36m_AxesBase._update_title_position\u001b[39m\u001b[34m(self, renderer)\u001b[39m\n\u001b[32m   3132\u001b[39m     _log.debug(\u001b[33m'\u001b[39m\u001b[33mtop of Axes not in the figure, so title not moved\u001b[39m\u001b[33m'\u001b[39m)\n\u001b[32m   3133\u001b[39m     \u001b[38;5;28;01mreturn\u001b[39;00m\n\u001b[32m-> \u001b[39m\u001b[32m3134\u001b[39m \u001b[38;5;28;01mif\u001b[39;00m \u001b[43mtitle\u001b[49m\u001b[43m.\u001b[49m\u001b[43mget_window_extent\u001b[49m\u001b[43m(\u001b[49m\u001b[43mrenderer\u001b[49m\u001b[43m)\u001b[49m.ymin < top:\n\u001b[32m   3135\u001b[39m     _, y = \u001b[38;5;28mself\u001b[39m.transAxes.inverted().transform((\u001b[32m0\u001b[39m, top))\n\u001b[32m   3136\u001b[39m     title.set_position((x, y))\n",
      "\u001b[36mFile \u001b[39m\u001b[32m~/j1env/lib/python3.12/site-packages/matplotlib/text.py:969\u001b[39m, in \u001b[36mText.get_window_extent\u001b[39m\u001b[34m(self, renderer, dpi)\u001b[39m\n\u001b[32m    964\u001b[39m     \u001b[38;5;28;01mraise\u001b[39;00m \u001b[38;5;167;01mRuntimeError\u001b[39;00m(\n\u001b[32m    965\u001b[39m         \u001b[33m\"\u001b[39m\u001b[33mCannot get window extent of text w/o renderer. You likely \u001b[39m\u001b[33m\"\u001b[39m\n\u001b[32m    966\u001b[39m         \u001b[33m\"\u001b[39m\u001b[33mwant to call \u001b[39m\u001b[33m'\u001b[39m\u001b[33mfigure.draw_without_rendering()\u001b[39m\u001b[33m'\u001b[39m\u001b[33m first.\u001b[39m\u001b[33m\"\u001b[39m)\n\u001b[32m    968\u001b[39m \u001b[38;5;28;01mwith\u001b[39;00m cbook._setattr_cm(fig, dpi=dpi):\n\u001b[32m--> \u001b[39m\u001b[32m969\u001b[39m     bbox, info, descent = \u001b[38;5;28;43mself\u001b[39;49m\u001b[43m.\u001b[49m\u001b[43m_get_layout\u001b[49m\u001b[43m(\u001b[49m\u001b[38;5;28;43mself\u001b[39;49m\u001b[43m.\u001b[49m\u001b[43m_renderer\u001b[49m\u001b[43m)\u001b[49m\n\u001b[32m    970\u001b[39m     x, y = \u001b[38;5;28mself\u001b[39m.get_unitless_position()\n\u001b[32m    971\u001b[39m     x, y = \u001b[38;5;28mself\u001b[39m.get_transform().transform((x, y))\n",
      "\u001b[36mFile \u001b[39m\u001b[32m~/j1env/lib/python3.12/site-packages/matplotlib/text.py:506\u001b[39m, in \u001b[36mText._get_layout\u001b[39m\u001b[34m(self, renderer)\u001b[39m\n\u001b[32m    503\u001b[39m bbox = Bbox.from_bounds(xmin, ymin, width, height)\n\u001b[32m    505\u001b[39m \u001b[38;5;66;03m# now rotate the positions around the first (x, y) position\u001b[39;00m\n\u001b[32m--> \u001b[39m\u001b[32m506\u001b[39m xys = \u001b[43mM\u001b[49m\u001b[43m.\u001b[49m\u001b[43mtransform\u001b[49m\u001b[43m(\u001b[49m\u001b[43moffset_layout\u001b[49m\u001b[43m)\u001b[49m - (offsetx, offsety)\n\u001b[32m    508\u001b[39m \u001b[38;5;28;01mreturn\u001b[39;00m bbox, \u001b[38;5;28mlist\u001b[39m(\u001b[38;5;28mzip\u001b[39m(lines, \u001b[38;5;28mzip\u001b[39m(ws, hs), *xys.T)), descent\n",
      "\u001b[36mFile \u001b[39m\u001b[32m~/j1env/lib/python3.12/site-packages/matplotlib/transforms.py:1784\u001b[39m, in \u001b[36mAffineBase.transform\u001b[39m\u001b[34m(self, values)\u001b[39m\n\u001b[32m   1782\u001b[39m \u001b[38;5;28;01mdef\u001b[39;00m\u001b[38;5;250m \u001b[39m\u001b[34mtransform\u001b[39m(\u001b[38;5;28mself\u001b[39m, values):\n\u001b[32m   1783\u001b[39m     \u001b[38;5;66;03m# docstring inherited\u001b[39;00m\n\u001b[32m-> \u001b[39m\u001b[32m1784\u001b[39m     \u001b[38;5;28;01mreturn\u001b[39;00m \u001b[38;5;28;43mself\u001b[39;49m\u001b[43m.\u001b[49m\u001b[43mtransform_affine\u001b[49m\u001b[43m(\u001b[49m\u001b[43mvalues\u001b[49m\u001b[43m)\u001b[49m\n",
      "\u001b[36mFile \u001b[39m\u001b[32m~/j1env/lib/python3.12/site-packages/matplotlib/transforms.py:1853\u001b[39m, in \u001b[36mAffine2DBase.transform_affine\u001b[39m\u001b[34m(self, values)\u001b[39m\n\u001b[32m   1851\u001b[39m     tpoints = affine_transform(values.data, mtx)\n\u001b[32m   1852\u001b[39m     \u001b[38;5;28;01mreturn\u001b[39;00m np.ma.MaskedArray(tpoints, mask=np.ma.getmask(values))\n\u001b[32m-> \u001b[39m\u001b[32m1853\u001b[39m \u001b[38;5;28;01mreturn\u001b[39;00m \u001b[43maffine_transform\u001b[49m\u001b[43m(\u001b[49m\u001b[43mvalues\u001b[49m\u001b[43m,\u001b[49m\u001b[43m \u001b[49m\u001b[43mmtx\u001b[49m\u001b[43m)\u001b[49m\n",
      "\u001b[31mKeyboardInterrupt\u001b[39m: "
     ]
    },
    {
     "data": {
      "image/png": "[encoded data removed]",
      "text/plain": [
       "<Figure size 2400x800 with 2 Axes>"
      ]
     },
     "metadata": {},
     "output_type": "display_data"
    }
   ],
   "source": [
    "model.create_plots()"
   ]
  },
  {
   "cell_type": "code",
   "execution_count": null,
   "id": "cb4e0ab2-ff14-4a74-91b6-69dccdcff633",
   "metadata": {},
   "outputs": [],
   "source": []
  },
  {
   "cell_type": "code",
   "execution_count": 8,
   "id": "6661426c-ca62-4e5d-9c51-72f264edd7d1",
   "metadata": {},
   "outputs": [
    {
     "name": "stdout",
     "output_type": "stream",
     "text": [
      "precomputing launch terms...\n",
      "launch_term_precomputed shape: (3, 10, 8000)\n",
      "Simulation steps (TS): 8000\n",
      "Euler-Maruyama loop: from 0 to 7998\n",
      "building functions...\n",
      "running e-m simulation...\n"
     ]
    }
   ],
   "source": [
    "emresults = model.scenario_properties.run_euler_maruyama()"
   ]
  },
  {
   "cell_type": "code",
   "execution_count": 9,
   "id": "df5297fa-62b4-4a48-b205-53135a8a0613",
   "metadata": {},
   "outputs": [],
   "source": [
    "emresults_list = []\n",
    "emresults_list.append(emresults)"
   ]
  },
  {
   "cell_type": "code",
   "execution_count": 10,
   "id": "1c9b556a-ac26-4f9a-a3d0-0acc2b1385fd",
   "metadata": {},
   "outputs": [
    {
     "data": {
      "text/plain": [
       "array([[5.52080453e-02, 9.34288671e-02, 1.31649681e-01, ...,\n",
       "        3.05463326e+02, 3.05501485e+02, 3.05539644e+02],\n",
       "       [9.75744570e+00, 9.75754862e+00, 9.75773440e+00, ...,\n",
       "        9.78394373e+00, 9.78366707e+00, 9.78356708e+00],\n",
       "       [4.35325791e+00, 4.35320120e+00, 4.35331059e+00, ...,\n",
       "        4.35528090e+00, 4.35517108e+00, 4.35522077e+00],\n",
       "       ...,\n",
       "       [1.51983717e-01, 1.92444624e-01, 2.32905519e-01, ...,\n",
       "        3.23362908e+02, 3.23403279e+02, 3.23443651e+02],\n",
       "       [1.16876361e+01, 1.16877236e+01, 1.16877958e+01, ...,\n",
       "        1.17325730e+01, 1.17330830e+01, 1.17330516e+01],\n",
       "       [5.11895779e+00, 5.11894695e+00, 5.11885406e+00, ...,\n",
       "        5.12033025e+00, 5.12027376e+00, 5.12020748e+00]], shape=(30, 8000))"
      ]
     },
     "execution_count": 10,
     "metadata": {},
     "output_type": "execute_result"
    }
   ],
   "source": [
    "emresults"
   ]
  },
  {
   "cell_type": "code",
   "execution_count": 10,
   "id": "18f68330-9e45-4025-8f14-38c371c1b6e8",
   "metadata": {
    "scrolled": true
   },
   "outputs": [
    {
     "name": "stdout",
     "output_type": "stream",
     "text": [
      "0\n",
      "precomputing launch terms...\n",
      "building functions...\n",
      "1\n",
      "precomputing launch terms...\n",
      "building functions...\n",
      "2\n",
      "precomputing launch terms...\n",
      "building functions...\n",
      "3\n",
      "precomputing launch terms...\n",
      "building functions...\n",
      "4\n",
      "precomputing launch terms...\n",
      "building functions...\n",
      "5\n",
      "precomputing launch terms...\n",
      "building functions...\n",
      "6\n",
      "precomputing launch terms...\n",
      "building functions...\n",
      "7\n",
      "precomputing launch terms...\n",
      "building functions...\n",
      "8\n",
      "precomputing launch terms...\n",
      "building functions...\n",
      "9\n",
      "precomputing launch terms...\n",
      "building functions...\n"
     ]
    }
   ],
   "source": [
    "for i in range(0, 10):\n",
    "    print(i)\n",
    "    emresults = model.scenario_properties.run_euler_maruyama()\n",
    "    emresults_list.append(emresults)"
   ]
  },
  {
   "cell_type": "code",
   "execution_count": 28,
   "id": "20b5cf4b-1673-48ac-922f-dcf62ad34478",
   "metadata": {},
   "outputs": [
    {
     "data": {
      "text/plain": [
       "(11, 10, 3, 100000)"
      ]
     },
     "execution_count": 28,
     "metadata": {},
     "output_type": "execute_result"
    }
   ],
   "source": [
    "import numpy as np\n",
    "np.shape(emresults_list)"
   ]
  },
  {
   "cell_type": "code",
   "execution_count": 11,
   "id": "7196d8b5-3c81-4b56-9639-372eb8e58777",
   "metadata": {},
   "outputs": [],
   "source": [
    "import numpy as np\n",
    "emresults_avg = emresults_list[-1]#np.mean(emresults_list, axis = 0)\n",
    "results.output.y = emresults_list[0]"
   ]
  },
  {
   "cell_type": "code",
   "execution_count": 12,
   "id": "06c20f5c-c94f-422d-ac4e-d03ca4d244a3",
   "metadata": {},
   "outputs": [
    {
     "data": {
      "text/plain": [
       "array([[ 0.05520805,  0.        ,  0.        , ...,  0.        ,\n",
       "         0.        ,  0.        ],\n",
       "       [ 9.7574457 ,  0.        ,  0.        , ...,  0.        ,\n",
       "         0.        ,  0.        ],\n",
       "       [ 4.35325791,  0.        ,  0.        , ...,  0.        ,\n",
       "         0.        ,  0.        ],\n",
       "       ...,\n",
       "       [ 0.15198372,  0.        ,  0.        , ...,  0.        ,\n",
       "         0.        ,  0.        ],\n",
       "       [11.68763615,  0.        ,  0.        , ...,  0.        ,\n",
       "         0.        ,  0.        ],\n",
       "       [ 5.11895779,  0.        ,  0.        , ...,  0.        ,\n",
       "         0.        ,  0.        ]], shape=(30, 8000))"
      ]
     },
     "execution_count": 12,
     "metadata": {},
     "output_type": "execute_result"
    }
   ],
   "source": [
    "emresults_list[0]"
   ]
  },
  {
   "cell_type": "code",
   "execution_count": 13,
   "id": "648ca27f-e115-4263-8870-2420a64db598",
   "metadata": {},
   "outputs": [
    {
     "name": "stdout",
     "output_type": "stream",
     "text": [
      "[0. 0. 0.]\n",
      "[0. 0. 0.]\n",
      "[0. 0. 0.]\n",
      "[0. 0. 0.]\n",
      "[0. 0. 0.]\n",
      "[0. 0. 0.]\n",
      "[0. 0. 0.]\n",
      "[0. 0. 0.]\n",
      "[0. 0. 0.]\n",
      "[0. 0. 0.]\n",
      "[0. 0. 0.]\n",
      "[0. 0. 0.]\n"
     ]
    }
   ],
   "source": [
    "import numpy as np\n",
    "\n",
    "for i in range(1280, 1292):\n",
    "    print(results.output.y[3:6,i])\n"
   ]
  },
  {
   "cell_type": "code",
   "execution_count": 11,
   "id": "871b4e94-0420-4425-8cde-0b1bdccf4088",
   "metadata": {},
   "outputs": [],
   "source": [
    "import matplotlib.pyplot as plt\n",
    "import numpy as np\n",
    "scenario_properties = model.scenario_properties\n",
    "output = results.output\n",
    "#results.output.t = np.interp(np.linspace(0, 1600, 1600*10).tolist(), range(1600), results.output.t)\n",
    "os.makedirs('figures', exist_ok=True)\n",
    "\n",
    "\n",
    "# Plot each species across all shells\n",
    "n_species = 3\n",
    "num_shells = scenario_properties.n_shells\n",
    "\n",
    "fig, axes = plt.subplots(1, 3, figsize=(20, 12))\n",
    "\n",
    "# Colormap setup\n",
    "cmap = plt.cm.viridis  # Choose your colormap\n",
    "norm = plt.Normalize(vmin=0, vmax=num_shells - 1)\n",
    "colors = [cmap(norm(sh)) for sh in range(num_shells)]\n",
    "\n",
    "for species_index in range(n_species):\n",
    "    ax = axes.flatten()[species_index]\n",
    "    species_data = output.y[species_index * num_shells:(species_index + 1) * num_shells]\n",
    "\n",
    "    for shell_index in range(num_shells):\n",
    "        color = colors[shell_index]\n",
    "        ax.plot(output.t, species_data[shell_index], color = color, label=f'Shell {shell_index + 1}')\n",
    "\n",
    "    total = np.sum(species_data, axis=0)\n",
    "    ax.set_title(f'{scenario_properties.species_names[species_index]}')\n",
    "    ax.set_xlabel('Time')\n",
    "    ax.set_ylabel('Value')\n",
    "\n",
    "#ax.set_ylim([0, 1e8])\n",
    "plt.suptitle('Species All Shells')\n",
    "plt.tight_layout(rect=[0, 0.03, 1, 0.95])\n",
    "plt.savefig('figures/species_all_shells.png')\n",
    "plt.close(fig)\n",
    "\n",
    "# Plot total objects over time for each species and total\n",
    "species_names = scenario_properties.species_names\n",
    "plt.figure(figsize=(10, 6))\n",
    "\n",
    "total_objects_all_species = np.zeros_like(output.t)\n",
    "\n",
    "for i in range(n_species):\n",
    "    start_idx = i * num_shells\n",
    "    end_idx = start_idx + num_shells\n",
    "    total_objects_per_species = np.sum(output.y[start_idx:end_idx, :], axis=0)\n",
    "    plt.plot(output.t, total_objects_per_species, label=f'{species_names[i]}')\n",
    "    total_objects_all_species += total_objects_per_species\n",
    "\n",
    "plt.plot(output.t, total_objects_all_species, label='Total All Species', color='k', linewidth=2, linestyle='--')\n",
    "#plt.ylim(0, 1e8)\n",
    "plt.xlabel('Time')\n",
    "plt.ylabel('Total Number of Objects')\n",
    "plt.title('Objects Over Time for Each Species and Total')\n",
    "#plt.xlim(0, max(output.t))\n",
    "#plt.xlim(0, 82)\n",
    "#plt.ylim(0, 15000)\n",
    "plt.legend()\n",
    "plt.tight_layout()\n",
    "plt.savefig('figures/total_objects_over_time.png')\n",
    "plt.close()"
   ]
  },
  {
   "cell_type": "code",
   "execution_count": null,
   "id": "91dad088-e0e3-41f8-a1e7-04cb66c4bbc3",
   "metadata": {},
   "outputs": [],
   "source": []
  },
  {
   "cell_type": "code",
   "execution_count": 27,
   "id": "4fe9990b-985f-4dfe-98d4-5f01a6a8b5a6",
   "metadata": {},
   "outputs": [
    {
     "data": {
      "text/plain": [
       "[array([-0.00000000e+00,  7.33288203e-04, -4.36068349e-05]),\n",
       " array([ 0.        , -0.00463103, -0.00056609])]"
      ]
     },
     "execution_count": 27,
     "metadata": {},
     "output_type": "execute_result"
    }
   ],
   "source": [
    "import numpy as np\n",
    "drag_impact[2995]"
   ]
  },
  {
   "cell_type": "code",
   "execution_count": 9,
   "id": "7edbcc9e-a267-426a-ae46-f4e4f36ce262",
   "metadata": {},
   "outputs": [],
   "source": [
    "arr = results.output.y\n",
    "evo_list = []\n",
    "evo_satellites = []\n",
    "evo_debris = []\n",
    "evo_derelicts = []\n",
    "for i in range(0, model.scenario_properties.species_length):\n",
    "    for j in range(0, model.scenario_properties.n_shells):\n",
    "        if i == 0:\n",
    "            evo_satellites.append(arr[j + model.scenario_properties.species_length*i, :])\n",
    "        if i == 1:\n",
    "            evo_debris.append(arr[j + model.scenario_properties.species_length*i, :])\n",
    "        if i == 2:\n",
    "            evo_derelicts.append(arr[j + model.scenario_properties.species_length*i, :])\n",
    "\n",
    "evo_list.append(evo_satellites)\n",
    "evo_list.append(evo_debris)\n",
    "evo_list.append(evo_derelicts)"
   ]
  },
  {
   "cell_type": "code",
   "execution_count": 10,
   "id": "6517733e-d474-4ebf-bb86-ebc2fe9e4c43",
   "metadata": {},
   "outputs": [
    {
     "data": {
      "text/plain": [
       "1000"
      ]
     },
     "execution_count": 10,
     "metadata": {},
     "output_type": "execute_result"
    }
   ],
   "source": [
    "len(results.output.t)"
   ]
  },
  {
   "cell_type": "code",
   "execution_count": 24,
   "id": "7a9755b2-2104-4a7f-9c4f-99b24549add5",
   "metadata": {},
   "outputs": [
    {
     "name": "stdout",
     "output_type": "stream",
     "text": [
      "TIMES:  100 10000 0.01\n",
      "baseline\n",
      "S\n",
      "650\n",
      "N_0.64kg\n",
      "300\n",
      "N_223kg\n",
      "450\n",
      "S\n",
      "650\n",
      "N_0.64kg\n",
      "300\n",
      "N_223kg\n",
      "450\n",
      "[200.         433.33333333 666.66666667 900.        ]\n",
      "[9139.3119 9726.0448 2981.9728]\n",
      "TIMES:  100 10000 0.01\n",
      "baseline\n",
      "S\n",
      "650\n",
      "N_0.64kg\n",
      "300\n",
      "N_223kg\n",
      "450\n",
      "S\n",
      "650\n",
      "N_0.64kg\n",
      "300\n",
      "N_223kg\n",
      "450\n",
      "[200.         433.33333333 666.66666667 900.        ]\n",
      "[9139.3119 9726.0448 2981.9728]\n",
      "TIMES:  100 10000 0.01\n",
      "baseline\n",
      "S\n",
      "650\n",
      "N_0.64kg\n",
      "300\n",
      "N_223kg\n",
      "450\n",
      "S\n",
      "650\n",
      "N_0.64kg\n",
      "300\n",
      "N_223kg\n",
      "450\n",
      "[200.         433.33333333 666.66666667 900.        ]\n",
      "[9139.3119 9726.0448 2981.9728]\n",
      "TIMES:  100 10000 0.01\n",
      "baseline\n",
      "S\n",
      "650\n",
      "N_0.64kg\n",
      "300\n",
      "N_223kg\n",
      "450\n",
      "S\n",
      "650\n",
      "N_0.64kg\n",
      "300\n",
      "N_223kg\n",
      "450\n",
      "[200.         433.33333333 666.66666667 900.        ]\n",
      "[9139.3119 9726.0448 2981.9728]\n"
     ]
    },
    {
     "data": {
      "image/png": "[encoded data removed]",
      "text/plain": [
       "<Figure size 1000x600 with 1 Axes>"
      ]
     },
     "metadata": {},
     "output_type": "display_data"
    }
   ],
   "source": [
    "import matplotlib.pyplot as plt\n",
    "import numpy as np\n",
    "plt.figure(figsize=(10, 6))\n",
    "#results.output.t = np.interp(np.linspace(0, model.scenario_properties.simulation_duration, model.scenario_properties.simulation_duration*100).tolist(), \n",
    "#                                 range(model.scenario_properties.simulation_duration), results.output.t)\n",
    "for drag_factor in range(0, 4):\n",
    "    _, emresults = model.scenario_properties.run_euler_maruyama(max(70, drag_factor*100))\n",
    "    output = results.output\n",
    "\n",
    "    arr = results.output.y\n",
    "    evo_list = []\n",
    "    evo_satellites = []\n",
    "    evo_debris = []\n",
    "    evo_derelicts = []\n",
    "    for i in range(0, model.scenario_properties.species_length):\n",
    "        for j in range(0, model.scenario_properties.n_shells):\n",
    "            if i == 0:\n",
    "                evo_satellites.append(arr[j + model.scenario_properties.species_length*i, :])\n",
    "            if i == 1:\n",
    "                evo_debris.append(arr[j + model.scenario_properties.species_length*i, :])\n",
    "            if i == 2:\n",
    "                evo_derelicts.append(arr[j + model.scenario_properties.species_length*i, :])\n",
    "        \n",
    "    plt.plot(output.t, sum(evo_derelicts,0))\n",
    "    plt.text(output.t[-1], sum(evo_derelicts,0)[-1], f'drag_factor {max(70, drag_factor*100)}')\n",
    "    plt.xlim(0, 100)\n",
    "#plt.ylim(0, 10)"
   ]
  },
  {
   "cell_type": "code",
   "execution_count": 25,
   "id": "b50351bf-788f-4832-897c-b2684fa4ce98",
   "metadata": {},
   "outputs": [
    {
     "data": {
      "text/plain": [
       "(0.0, 100.0)"
      ]
     },
     "execution_count": 25,
     "metadata": {},
     "output_type": "execute_result"
    },
    {
     "data": {
      "image/png": "[encoded data removed]",
      "text/plain": [
       "<Figure size 640x480 with 1 Axes>"
      ]
     },
     "metadata": {},
     "output_type": "display_data"
    }
   ],
   "source": [
    "plt.plot(output.t, sum(evo_derelicts,0))\n",
    "plt.text(output.t[-1], sum(evo_derelicts,0)[-1], f'drag_factor {10**drag_factor}')\n",
    "plt.xlim(0, 100)"
   ]
  },
  {
   "cell_type": "code",
   "execution_count": 20,
   "id": "63f8d38d-5a41-464d-b52c-7b1d81a75dde",
   "metadata": {},
   "outputs": [
    {
     "data": {
      "text/plain": [
       "(0.0, 100.0)"
      ]
     },
     "execution_count": 20,
     "metadata": {},
     "output_type": "execute_result"
    },
    {
     "data": {
      "image/png": "[encoded data removed]",
      "text/plain": [
       "<Figure size 640x480 with 1 Axes>"
      ]
     },
     "metadata": {},
     "output_type": "display_data"
    }
   ],
   "source": [
    "plt.plot(output.t, sum(evo_derelicts,0))\n",
    "plt.text(output.t[-1], sum(evo_derelicts,0)[-1], f'drag_factor {10**drag_factor}')\n",
    "plt.xlim(0, 100)"
   ]
  },
  {
   "cell_type": "code",
   "execution_count": 20,
   "id": "046edbed-effc-4c90-8ef6-e4764085a74e",
   "metadata": {},
   "outputs": [
    {
     "data": {
      "image/png": "[encoded data removed]",
      "text/plain": [
       "<Figure size 1000x600 with 1 Axes>"
      ]
     },
     "metadata": {},
     "output_type": "display_data"
    }
   ],
   "source": [
    "import matplotlib.pyplot as plt\n",
    "import numpy as np\n",
    "plt.figure(figsize=(10, 6))\n",
    "results.output.t = np.interp(np.linspace(0, model.scenario_properties.simulation_duration, model.scenario_properties.simulation_duration*100).tolist(), \n",
    "                                 range(model.scenario_properties.simulation_duration), results.output.t)\n",
    "for drag_factor in range(1, 5):\n",
    "    _, emresults = model.scenario_properties.run_euler_maruyama(drag_factor)\n",
    "    output = results.output\n",
    "\n",
    "    arr = results.output.y\n",
    "    evo_list = []\n",
    "    evo_satellites = []\n",
    "    evo_debris = []\n",
    "    evo_derelicts = []\n",
    "    for i in range(0, model.scenario_properties.species_length):\n",
    "        for j in range(0, model.scenario_properties.n_shells):\n",
    "            if i == 0:\n",
    "                evo_satellites.append(arr[j + model.scenario_properties.species_length*i, :])\n",
    "            if i == 1:\n",
    "                evo_debris.append(arr[j + model.scenario_properties.species_length*i, :])\n",
    "            if i == 2:\n",
    "                evo_derelicts.append(arr[j + model.scenario_properties.species_length*i, :])\n",
    "        \n",
    "    plt.plot(output.t, sum(evo_derelicts,0))\n",
    "    plt.text(output.t[-1], sum(evo_derelicts,0)[-1], f'drag_factor {drag_factor}')\n",
    "    plt.xlim(0, 100)\n",
    "#plt.ylim(0, 10)"
   ]
  },
  {
   "cell_type": "code",
   "execution_count": 8,
   "id": "95481b9c-649e-4592-82cb-733f0c643d92",
   "metadata": {},
   "outputs": [],
   "source": [
    "species_data = []\n",
    "for species_index in range(0,3):\n",
    "    #species_data = sum(output.y[species_index * 20:(species_index + 1) * 20, shell_idx])\n",
    "    species_data.append(results.output.y[species_index * 20:(species_index + 1) * 20, -1])"
   ]
  },
  {
   "cell_type": "code",
   "execution_count": 9,
   "id": "81744a17-b5a1-46a5-9f7c-f946a4319ec5",
   "metadata": {},
   "outputs": [
    {
     "data": {
      "text/plain": [
       "[array([4740.65555384, 4871.76026132, 4957.56945335, 4995.54433657,\n",
       "        4984.55120194, 4924.73773755, 4817.724893  , 4666.59819552,\n",
       "        4475.55376091, 4249.90274901, 3995.87948663, 3720.12642367,\n",
       "        3430.20840725, 3132.91446461, 2834.08470587, 2539.79983853,\n",
       "        2254.30466023, 1981.44746283, 1724.80851795, 1486.94575104]),\n",
       " array([5.19242136e-01, 1.29242630e+00, 2.90351316e+00, 5.93650475e+00,\n",
       "        1.09579372e+01, 2.02161405e+01, 3.65443988e+01, 6.28914347e+01,\n",
       "        1.04989098e+02, 1.69774703e+02, 2.63289348e+02, 3.92494318e+02,\n",
       "        5.32032671e+02, 6.52843892e+02, 7.42196808e+02, 7.27380923e+02,\n",
       "        6.52306222e+02, 5.59765099e+02, 4.26357208e+02, 2.67092149e+02]),\n",
       " array([  2.7685002 ,   6.54253251,  13.85788909,  26.49857508,\n",
       "         45.32064617,  76.63787765, 125.47558677, 193.10744462,\n",
       "        284.40653431, 400.41532268, 534.77551954, 682.73346397,\n",
       "        800.80975629, 869.75711743, 902.87412592, 868.11761682,\n",
       "        801.35913   , 728.19656961, 635.0640048 , 512.7265259 ])]"
      ]
     },
     "execution_count": 9,
     "metadata": {},
     "output_type": "execute_result"
    }
   ],
   "source": [
    "species_data"
   ]
  },
  {
   "cell_type": "code",
   "execution_count": 9,
   "id": "ea594876-4d30-44bc-9394-86e27009c930",
   "metadata": {},
   "outputs": [
    {
     "data": {
      "text/plain": [
       "[array([176.60977436, 221.5013561 , 275.43886821, 338.33313879,\n",
       "        409.27984533, 486.0238747 , 565.2299443 , 643.38215147,\n",
       "        714.89622858, 775.15908625, 820.06079471, 845.91522661,\n",
       "        850.09331404, 832.57420184, 794.36714918, 737.92780729,\n",
       "        667.59677067, 588.39708566, 504.85542184, 421.93857857]),\n",
       " array([ 1.62906706,  4.66006407,  7.08864125, 10.97480007, 19.35692438,\n",
       "        28.43196152, 46.46747954, 39.21765261, 31.65739497, 19.8581897 ,\n",
       "        10.63775606,  2.27971297,  0.93351531,  0.29125867,  0.14581976,\n",
       "         0.39876965,  0.22712481,  0.31247742,  0.08559025,  0.12383334]),\n",
       " array([  1.49829848,  13.18667883,  24.82753056,  39.40334801,\n",
       "         61.07145826,  76.6474316 , 105.47284442, 105.65961701,\n",
       "        114.81111849, 110.84773646, 103.36043061,  88.00724256,\n",
       "         78.94808329,  68.93172973,  55.22402379,  44.33634996,\n",
       "         34.82193663,  27.09599359,  19.29797962,  14.18552816])]"
      ]
     },
     "execution_count": 9,
     "metadata": {},
     "output_type": "execute_result"
    }
   ],
   "source": [
    "em_species_data = []\n",
    "for species_index in range(0,3):\n",
    "    #species_data = sum(output.y[species_index * 20:(species_index + 1) * 20, shell_idx])\n",
    "    em_species_data.append(emresults[species_index * 20:(species_index + 1) * 20, 99])\n",
    "em_species_data"
   ]
  },
  {
   "cell_type": "code",
   "execution_count": 12,
   "id": "0e239e04-b08d-415f-a983-d8193eb06d44",
   "metadata": {},
   "outputs": [],
   "source": [
    "import matplotlib.pyplot as plt\n",
    "import numpy as np\n",
    "scenario_properties = model.scenario_properties\n",
    "output = results.output\n",
    "#results.output.t = np.interp(np.linspace(0, 1600, 1600*10).tolist(), range(1600), results.output.t)\n",
    "os.makedirs('figures', exist_ok=True)\n",
    "\n",
    "# Plot each species across all shells\n",
    "n_species = 3\n",
    "num_shells = 3\n",
    "\n",
    "fig, axes = plt.subplots(1, 3, figsize=(20, 12))\n",
    "\n",
    "# Colormap setup\n",
    "cmap = plt.cm.viridis  # Choose your colormap\n",
    "norm = plt.Normalize(vmin=0, vmax=num_shells - 1)\n",
    "colors = [cmap(norm(sh)) for sh in range(num_shells)]\n",
    "\n",
    "for species_index in range(n_species):\n",
    "    ax = axes.flatten()[species_index]\n",
    "    species_data = output.y[species_index * num_shells:(species_index + 1) * num_shells]\n",
    "\n",
    "    for shell_index in range(num_shells):\n",
    "        color = colors[shell_index]\n",
    "        ax.plot(output.t, species_data[shell_index], color = color, label=f'Shell {shell_index + 1}')\n",
    "\n",
    "    total = np.sum(species_data, axis=0)\n",
    "    ax.set_title(f'{scenario_properties.species_names[species_index]}')\n",
    "    ax.set_xlabel('Time')\n",
    "    ax.set_ylabel('Value')\n",
    "\n",
    "#ax.set_ylim([0, 1e8])\n",
    "plt.suptitle('Species All Shells')\n",
    "plt.tight_layout(rect=[0, 0.03, 1, 0.95])\n",
    "plt.savefig('figures/species_all_shells.png')\n",
    "plt.close(fig)\n",
    "\n",
    "# Plot total objects over time for each species and total\n",
    "species_names = scenario_properties.species_names\n",
    "plt.figure(figsize=(10, 6))\n",
    "\n",
    "total_objects_all_species = np.zeros_like(output.t)\n",
    "\n",
    "for i in range(n_species):\n",
    "    start_idx = i * num_shells\n",
    "    end_idx = start_idx + num_shells\n",
    "    total_objects_per_species = np.sum(output.y[start_idx:end_idx, :], axis=0)\n",
    "    plt.plot(output.t, total_objects_per_species, label=f'{species_names[i]}')\n",
    "    total_objects_all_species += total_objects_per_species\n",
    "\n",
    "plt.plot(output.t, total_objects_all_species, label='Total All Species', color='k', linewidth=2, linestyle='--')\n",
    "#plt.ylim(0, 1e8)\n",
    "plt.xlabel('Time')\n",
    "plt.ylabel('Total Number of Objects')\n",
    "plt.title('Objects Over Time for Each Species and Total')\n",
    "plt.xlim(0, max(output.t))\n",
    "plt.legend()\n",
    "plt.tight_layout()\n",
    "plt.savefig('figures/total_objects_over_time.png')\n",
    "plt.close()"
   ]
  },
  {
   "cell_type": "code",
   "execution_count": 25,
   "id": "0ddbb3d9-41cc-4d58-8df0-253c2a6bcba5",
   "metadata": {},
   "outputs": [],
   "source": [
    "# Plot heatmap for each species\n",
    "n_time_points = len(output[\"t\"])\n",
    "cols = 3\n",
    "rows = np.ceil(n_species / cols).astype(int)\n",
    "\n",
    "fig, axs = plt.subplots(nrows=rows, ncols=cols, figsize=(12, rows * 6))\n",
    "for i, species_name in enumerate(species_names):\n",
    "    row = i // cols\n",
    "    col = i % cols\n",
    "    ax = axs[row, col] if rows > 1 else axs[col]\n",
    "\n",
    "    start_idx = i * num_shells\n",
    "    end_idx = start_idx + num_shells\n",
    "    data_per_species = output[\"y\"][start_idx:end_idx, :]\n",
    "\n",
    "    cax = ax.imshow(data_per_species, aspect='auto', origin='lower',\n",
    "                    extent=[output[\"t\"][0], output[\"t\"][-1], 0, num_shells],\n",
    "                    interpolation='nearest')\n",
    "    fig.colorbar(cax, ax=ax, label='Number of Objects')\n",
    "    ax.set_xlabel('Time')\n",
    "    ax.set_ylabel('Orbital Shell')\n",
    "    ax.set_title(species_name)\n",
    "    ax.set_xticks(np.linspace(output[\"t\"][0], output[\"t\"][-1], num=5))\n",
    "    ax.set_yticks(np.arange(0, num_shells, 5))\n",
    "    ax.set_yticklabels([f'{alt:.0f}' for alt in scenario_properties.HMid[::5]])\n",
    "\n",
    "for i in range(n_species, rows * cols):\n",
    "    if rows == 1:\n",
    "        fig.delaxes(axs[i])\n",
    "    else:\n",
    "        axs.flatten()[i].set_visible(False)\n",
    "\n",
    "plt.tight_layout()\n",
    "plt.savefig('figures/heatmaps_species.png')\n",
    "plt.close(fig)"
   ]
  },
  {
   "cell_type": "code",
   "execution_count": 10,
   "id": "a07a4391-d293-4d05-bd74-859021bbfbad",
   "metadata": {},
   "outputs": [
    {
     "data": {
      "text/plain": [
       "([1, 2], [3, 4])"
      ]
     },
     "execution_count": 10,
     "metadata": {},
     "output_type": "execute_result"
    }
   ],
   "source": [
    "tuple([[1, 2], [3, 4]])"
   ]
  },
  {
   "cell_type": "code",
   "execution_count": null,
   "id": "8e075a3a-d562-44a9-9995-5b5d5d9a3aba",
   "metadata": {},
   "outputs": [],
   "source": [
    "model.scenario_properties.x0"
   ]
  },
  {
   "cell_type": "code",
   "execution_count": null,
   "id": "2070a273-c7a4-42a0-94c9-421e1e8ce63e",
   "metadata": {},
   "outputs": [],
   "source": [
    "print(np.shape(results.output.y))\n",
    "print(np.shape(results.output.y[:,0]))\n",
    "print(results.output.y[:,0])\n",
    "J = J_eqn(eqn)\n",
    "#lam0 = [0, 1, 2, 3, 4, 5, 6, 7, 8, 9, 10, 11, 12, 13, 14, 15, 16, 17, 18, 19]\n",
    "lam0 = [0, 0, 0, 0, 0, 0, 0, 0, 0, 0, 0, 0, 0, 0, 0, 0, 0, 0, 0, 0]\n",
    "output = J(lam0)"
   ]
  },
  {
   "cell_type": "code",
   "execution_count": 9,
   "id": "0d2e8381-f1c7-4319-bb59-8b32b4a39ed3",
   "metadata": {
    "scrolled": true
   },
   "outputs": [
    {
     "name": "stdout",
     "output_type": "stream",
     "text": [
      "equation flattened  [-22.4428026132*pi*N_0p64kg_1*S_1 - 71.4622483152*pi*N_223kg_1*S_1 - 0.07006102776*pi*S_1**2 - 0.2*S_1 + lam_0, -22.4428026132*pi*N_0p64kg_2*S_2 - 71.4622483152*pi*N_223kg_2*S_2 - 0.07006102776*pi*S_2**2 - 0.2*S_2 + lam_1, -22.4428026132*pi*N_0p64kg_3*S_3 - 71.4622483152*pi*N_223kg_3*S_3 - 0.07006102776*pi*S_3**2 - 0.2*S_3 + lam_2, -22.4428026132*pi*N_0p64kg_4*S_4 - 71.4622483152*pi*N_223kg_4*S_4 - 0.07006102776*pi*S_4**2 - 0.2*S_4 + lam_3, -22.4428026132*pi*N_0p64kg_5*S_5 - 71.4622483152*pi*N_223kg_5*S_5 - 0.07006102776*pi*S_5**2 - 0.2*S_5 + lam_4, -22.4428026132*pi*N_0p64kg_6*S_6 - 71.4622483152*pi*N_223kg_6*S_6 - 0.07006102776*pi*S_6**2 - 0.2*S_6 + lam_5, -22.4428026132*pi*N_0p64kg_7*S_7 - 71.4622483152*pi*N_223kg_7*S_7 - 0.07006102776*pi*S_7**2 - 0.2*S_7 + lam_6, -22.4428026132*pi*N_0p64kg_8*S_8 - 71.4622483152*pi*N_223kg_8*S_8 - 0.07006102776*pi*S_8**2 - 0.2*S_8 + lam_7, -22.4428026132*pi*N_0p64kg_9*S_9 - 71.4622483152*pi*N_223kg_9*S_9 - 0.07006102776*pi*S_9**2 - 0.2*S_9 + lam_8, 11.8654430110466*pi*N_0p64kg_1**2 + 255.335910598054*pi*N_0p64kg_1*N_223kg_1 + 51.0671821196108*pi*N_0p64kg_1*S_1 - 8446119.05250061*N_0p64kg_1 + 8446111.90455506*N_0p64kg_2 + 3487.20635890108*pi*N_223kg_1**2 + 697.441271780216*pi*N_223kg_1*S_1 + 34.8720635890108*pi*S_1**2, 11.8654430110466*pi*N_0p64kg_2**2 + 255.335910598054*pi*N_0p64kg_2*N_223kg_2 + 51.0671821196108*pi*N_0p64kg_2*S_2 - 8446111.90455506*N_0p64kg_2 + 8446104.75661735*N_0p64kg_3 + 3487.20635890108*pi*N_223kg_2**2 + 697.441271780216*pi*N_223kg_2*S_2 + 34.8720635890108*pi*S_2**2, 11.8654430110466*pi*N_0p64kg_3**2 + 255.335910598054*pi*N_0p64kg_3*N_223kg_3 + 51.0671821196108*pi*N_0p64kg_3*S_3 - 8446104.75661735*N_0p64kg_3 + 8446097.60868746*N_0p64kg_4 + 3487.20635890108*pi*N_223kg_3**2 + 697.441271780216*pi*N_223kg_3*S_3 + 34.8720635890108*pi*S_3**2, 11.8654430110466*pi*N_0p64kg_4**2 + 255.335910598054*pi*N_0p64kg_4*N_223kg_4 + 51.0671821196108*pi*N_0p64kg_4*S_4 - 8446097.60868746*N_0p64kg_4 + 8446090.4607654*N_0p64kg_5 + 3487.20635890108*pi*N_223kg_4**2 + 697.441271780216*pi*N_223kg_4*S_4 + 34.8720635890108*pi*S_4**2, 11.8654430110466*pi*N_0p64kg_5**2 + 255.335910598054*pi*N_0p64kg_5*N_223kg_5 + 51.0671821196108*pi*N_0p64kg_5*S_5 - 8446090.4607654*N_0p64kg_5 + 8446083.31285117*N_0p64kg_6 + 3487.20635890108*pi*N_223kg_5**2 + 697.441271780216*pi*N_223kg_5*S_5 + 34.8720635890108*pi*S_5**2, 11.8654430110466*pi*N_0p64kg_6**2 + 255.335910598054*pi*N_0p64kg_6*N_223kg_6 + 51.0671821196108*pi*N_0p64kg_6*S_6 - 8446083.31285117*N_0p64kg_6 + 8446076.16494476*N_0p64kg_7 + 3487.20635890108*pi*N_223kg_6**2 + 697.441271780216*pi*N_223kg_6*S_6 + 34.8720635890108*pi*S_6**2, 11.8654430110466*pi*N_0p64kg_7**2 + 255.335910598054*pi*N_0p64kg_7*N_223kg_7 + 51.0671821196108*pi*N_0p64kg_7*S_7 - 8446076.16494476*N_0p64kg_7 + 8446069.01704618*N_0p64kg_8 + 3487.20635890108*pi*N_223kg_7**2 + 697.441271780216*pi*N_223kg_7*S_7 + 34.8720635890108*pi*S_7**2, 11.8654430110466*pi*N_0p64kg_8**2 + 255.335910598054*pi*N_0p64kg_8*N_223kg_8 + 51.0671821196108*pi*N_0p64kg_8*S_8 - 8446069.01704618*N_0p64kg_8 + 8446061.86915543*N_0p64kg_9 + 3487.20635890108*pi*N_223kg_8**2 + 697.441271780216*pi*N_223kg_8*S_8 + 34.8720635890108*pi*S_8**2, 11.8654430110466*pi*N_0p64kg_9**2 + 255.335910598054*pi*N_0p64kg_9*N_223kg_9 + 51.0671821196108*pi*N_0p64kg_9*S_9 - 8446061.86915543*N_0p64kg_9 + 3487.20635890108*pi*N_223kg_9**2 + 697.441271780216*pi*N_223kg_9*S_9 + 34.8720635890108*pi*S_9**2, -2.200274766*pi*N_0p64kg_1*N_223kg_1 + 22.00274766*pi*N_0p64kg_1*S_1 - 7.006102776*pi*N_223kg_1**2 + 70.06102776*pi*N_223kg_1*S_1 - 2110090.51413863*N_223kg_1 + 2110088.72837028*N_223kg_2 + 0.01*S_1, -2.200274766*pi*N_0p64kg_2*N_223kg_2 + 22.00274766*pi*N_0p64kg_2*S_2 - 7.006102776*pi*N_223kg_2**2 + 70.06102776*pi*N_223kg_2*S_2 - 2110088.72837028*N_223kg_2 + 2110086.94260388*N_223kg_3 + 0.01*S_2, -2.200274766*pi*N_0p64kg_3*N_223kg_3 + 22.00274766*pi*N_0p64kg_3*S_3 - 7.006102776*pi*N_223kg_3**2 + 70.06102776*pi*N_223kg_3*S_3 - 2110086.94260388*N_223kg_3 + 2110085.15683944*N_223kg_4 + 0.01*S_3, -2.200274766*pi*N_0p64kg_4*N_223kg_4 + 22.00274766*pi*N_0p64kg_4*S_4 - 7.006102776*pi*N_223kg_4**2 + 70.06102776*pi*N_223kg_4*S_4 - 2110085.15683944*N_223kg_4 + 2110083.37107696*N_223kg_5 + 0.01*S_4, -2.200274766*pi*N_0p64kg_5*N_223kg_5 + 22.00274766*pi*N_0p64kg_5*S_5 - 7.006102776*pi*N_223kg_5**2 + 70.06102776*pi*N_223kg_5*S_5 - 2110083.37107696*N_223kg_5 + 2110081.58531643*N_223kg_6 + 0.01*S_5, -2.200274766*pi*N_0p64kg_6*N_223kg_6 + 22.00274766*pi*N_0p64kg_6*S_6 - 7.006102776*pi*N_223kg_6**2 + 70.06102776*pi*N_223kg_6*S_6 - 2110081.58531643*N_223kg_6 + 2110079.79955786*N_223kg_7 + 0.01*S_6, -2.200274766*pi*N_0p64kg_7*N_223kg_7 + 22.00274766*pi*N_0p64kg_7*S_7 - 7.006102776*pi*N_223kg_7**2 + 70.06102776*pi*N_223kg_7*S_7 - 2110079.79955786*N_223kg_7 + 2110078.01380124*N_223kg_8 + 0.01*S_7, -2.200274766*pi*N_0p64kg_8*N_223kg_8 + 22.00274766*pi*N_0p64kg_8*S_8 - 7.006102776*pi*N_223kg_8**2 + 70.06102776*pi*N_223kg_8*S_8 - 2110078.01380124*N_223kg_8 + 2110076.22804658*N_223kg_9 + 0.01*S_8, -2.200274766*pi*N_0p64kg_9*N_223kg_9 + 22.00274766*pi*N_0p64kg_9*S_9 - 7.006102776*pi*N_223kg_9**2 + 70.06102776*pi*N_223kg_9*S_9 - 2110076.22804658*N_223kg_9 + 0.01*S_9] [-22.4428026132*pi*N_0p64kg_1*S_1 - 71.4622483152*pi*N_223kg_1*S_1 - 0.07006102776*pi*S_1**2 - 0.2*S_1 + lam_0, -22.4428026132*pi*N_0p64kg_2*S_2 - 71.4622483152*pi*N_223kg_2*S_2 - 0.07006102776*pi*S_2**2 - 0.2*S_2 + lam_1, -22.4428026132*pi*N_0p64kg_3*S_3 - 71.4622483152*pi*N_223kg_3*S_3 - 0.07006102776*pi*S_3**2 - 0.2*S_3 + lam_2, -22.4428026132*pi*N_0p64kg_4*S_4 - 71.4622483152*pi*N_223kg_4*S_4 - 0.07006102776*pi*S_4**2 - 0.2*S_4 + lam_3, -22.4428026132*pi*N_0p64kg_5*S_5 - 71.4622483152*pi*N_223kg_5*S_5 - 0.07006102776*pi*S_5**2 - 0.2*S_5 + lam_4, -22.4428026132*pi*N_0p64kg_6*S_6 - 71.4622483152*pi*N_223kg_6*S_6 - 0.07006102776*pi*S_6**2 - 0.2*S_6 + lam_5, -22.4428026132*pi*N_0p64kg_7*S_7 - 71.4622483152*pi*N_223kg_7*S_7 - 0.07006102776*pi*S_7**2 - 0.2*S_7 + lam_6, -22.4428026132*pi*N_0p64kg_8*S_8 - 71.4622483152*pi*N_223kg_8*S_8 - 0.07006102776*pi*S_8**2 - 0.2*S_8 + lam_7, -22.4428026132*pi*N_0p64kg_9*S_9 - 71.4622483152*pi*N_223kg_9*S_9 - 0.07006102776*pi*S_9**2 - 0.2*S_9 + lam_8, 11.8654430110466*pi*N_0p64kg_1**2 + 255.335910598054*pi*N_0p64kg_1*N_223kg_1 + 51.0671821196108*pi*N_0p64kg_1*S_1 - 8446119.05250061*N_0p64kg_1 + 8446111.90455506*N_0p64kg_2 + 3487.20635890108*pi*N_223kg_1**2 + 697.441271780216*pi*N_223kg_1*S_1 + 34.8720635890108*pi*S_1**2, 11.8654430110466*pi*N_0p64kg_2**2 + 255.335910598054*pi*N_0p64kg_2*N_223kg_2 + 51.0671821196108*pi*N_0p64kg_2*S_2 - 8446111.90455506*N_0p64kg_2 + 8446104.75661735*N_0p64kg_3 + 3487.20635890108*pi*N_223kg_2**2 + 697.441271780216*pi*N_223kg_2*S_2 + 34.8720635890108*pi*S_2**2, 11.8654430110466*pi*N_0p64kg_3**2 + 255.335910598054*pi*N_0p64kg_3*N_223kg_3 + 51.0671821196108*pi*N_0p64kg_3*S_3 - 8446104.75661735*N_0p64kg_3 + 8446097.60868746*N_0p64kg_4 + 3487.20635890108*pi*N_223kg_3**2 + 697.441271780216*pi*N_223kg_3*S_3 + 34.8720635890108*pi*S_3**2, 11.8654430110466*pi*N_0p64kg_4**2 + 255.335910598054*pi*N_0p64kg_4*N_223kg_4 + 51.0671821196108*pi*N_0p64kg_4*S_4 - 8446097.60868746*N_0p64kg_4 + 8446090.4607654*N_0p64kg_5 + 3487.20635890108*pi*N_223kg_4**2 + 697.441271780216*pi*N_223kg_4*S_4 + 34.8720635890108*pi*S_4**2, 11.8654430110466*pi*N_0p64kg_5**2 + 255.335910598054*pi*N_0p64kg_5*N_223kg_5 + 51.0671821196108*pi*N_0p64kg_5*S_5 - 8446090.4607654*N_0p64kg_5 + 8446083.31285117*N_0p64kg_6 + 3487.20635890108*pi*N_223kg_5**2 + 697.441271780216*pi*N_223kg_5*S_5 + 34.8720635890108*pi*S_5**2, 11.8654430110466*pi*N_0p64kg_6**2 + 255.335910598054*pi*N_0p64kg_6*N_223kg_6 + 51.0671821196108*pi*N_0p64kg_6*S_6 - 8446083.31285117*N_0p64kg_6 + 8446076.16494476*N_0p64kg_7 + 3487.20635890108*pi*N_223kg_6**2 + 697.441271780216*pi*N_223kg_6*S_6 + 34.8720635890108*pi*S_6**2, 11.8654430110466*pi*N_0p64kg_7**2 + 255.335910598054*pi*N_0p64kg_7*N_223kg_7 + 51.0671821196108*pi*N_0p64kg_7*S_7 - 8446076.16494476*N_0p64kg_7 + 8446069.01704618*N_0p64kg_8 + 3487.20635890108*pi*N_223kg_7**2 + 697.441271780216*pi*N_223kg_7*S_7 + 34.8720635890108*pi*S_7**2, 11.8654430110466*pi*N_0p64kg_8**2 + 255.335910598054*pi*N_0p64kg_8*N_223kg_8 + 51.0671821196108*pi*N_0p64kg_8*S_8 - 8446069.01704618*N_0p64kg_8 + 8446061.86915543*N_0p64kg_9 + 3487.20635890108*pi*N_223kg_8**2 + 697.441271780216*pi*N_223kg_8*S_8 + 34.8720635890108*pi*S_8**2, 11.8654430110466*pi*N_0p64kg_9**2 + 255.335910598054*pi*N_0p64kg_9*N_223kg_9 + 51.0671821196108*pi*N_0p64kg_9*S_9 - 8446061.86915543*N_0p64kg_9 + 3487.20635890108*pi*N_223kg_9**2 + 697.441271780216*pi*N_223kg_9*S_9 + 34.8720635890108*pi*S_9**2, -2.200274766*pi*N_0p64kg_1*N_223kg_1 + 22.00274766*pi*N_0p64kg_1*S_1 - 7.006102776*pi*N_223kg_1**2 + 70.06102776*pi*N_223kg_1*S_1 - 2110090.51413863*N_223kg_1 + 2110088.72837028*N_223kg_2 + 0.01*S_1, -2.200274766*pi*N_0p64kg_2*N_223kg_2 + 22.00274766*pi*N_0p64kg_2*S_2 - 7.006102776*pi*N_223kg_2**2 + 70.06102776*pi*N_223kg_2*S_2 - 2110088.72837028*N_223kg_2 + 2110086.94260388*N_223kg_3 + 0.01*S_2, -2.200274766*pi*N_0p64kg_3*N_223kg_3 + 22.00274766*pi*N_0p64kg_3*S_3 - 7.006102776*pi*N_223kg_3**2 + 70.06102776*pi*N_223kg_3*S_3 - 2110086.94260388*N_223kg_3 + 2110085.15683944*N_223kg_4 + 0.01*S_3, -2.200274766*pi*N_0p64kg_4*N_223kg_4 + 22.00274766*pi*N_0p64kg_4*S_4 - 7.006102776*pi*N_223kg_4**2 + 70.06102776*pi*N_223kg_4*S_4 - 2110085.15683944*N_223kg_4 + 2110083.37107696*N_223kg_5 + 0.01*S_4, -2.200274766*pi*N_0p64kg_5*N_223kg_5 + 22.00274766*pi*N_0p64kg_5*S_5 - 7.006102776*pi*N_223kg_5**2 + 70.06102776*pi*N_223kg_5*S_5 - 2110083.37107696*N_223kg_5 + 2110081.58531643*N_223kg_6 + 0.01*S_5, -2.200274766*pi*N_0p64kg_6*N_223kg_6 + 22.00274766*pi*N_0p64kg_6*S_6 - 7.006102776*pi*N_223kg_6**2 + 70.06102776*pi*N_223kg_6*S_6 - 2110081.58531643*N_223kg_6 + 2110079.79955786*N_223kg_7 + 0.01*S_6, -2.200274766*pi*N_0p64kg_7*N_223kg_7 + 22.00274766*pi*N_0p64kg_7*S_7 - 7.006102776*pi*N_223kg_7**2 + 70.06102776*pi*N_223kg_7*S_7 - 2110079.79955786*N_223kg_7 + 2110078.01380124*N_223kg_8 + 0.01*S_7, -2.200274766*pi*N_0p64kg_8*N_223kg_8 + 22.00274766*pi*N_0p64kg_8*S_8 - 7.006102776*pi*N_223kg_8**2 + 70.06102776*pi*N_223kg_8*S_8 - 2110078.01380124*N_223kg_8 + 2110076.22804658*N_223kg_9 + 0.01*S_8, -2.200274766*pi*N_0p64kg_9*N_223kg_9 + 22.00274766*pi*N_0p64kg_9*S_9 - 7.006102776*pi*N_223kg_9**2 + 70.06102776*pi*N_223kg_9*S_9 - 2110076.22804658*N_223kg_9 + 0.01*S_9]\n"
     ]
    }
   ],
   "source": [
    "eqn = model.scenario_properties.get_eqn()"
   ]
  },
  {
   "cell_type": "code",
   "execution_count": 9,
   "id": "7c0fa230-f899-4668-b94e-0fba8353d51f",
   "metadata": {},
   "outputs": [
    {
     "data": {
      "text/plain": [
       "array([200.        , 236.84210526, 273.68421053, 310.52631579,\n",
       "       347.36842105, 384.21052632, 421.05263158, 457.89473684,\n",
       "       494.73684211, 531.57894737, 568.42105263, 605.26315789,\n",
       "       642.10526316, 678.94736842, 715.78947368, 752.63157895,\n",
       "       789.47368421, 826.31578947, 863.15789474, 900.        ])"
      ]
     },
     "execution_count": 9,
     "metadata": {},
     "output_type": "execute_result"
    }
   ],
   "source": [
    "import numpy as np\n",
    "np.linspace(200, 900, 20)"
   ]
  },
  {
   "cell_type": "code",
   "execution_count": 39,
   "id": "0456b0d5-f570-49b3-bd2c-cbc028723224",
   "metadata": {},
   "outputs": [],
   "source": [
    "from math import pi\n",
    "R0 = [200]\n",
    "V=2e8\n",
    "while R0[-1] < 900:\n",
    "    R0.append((3/4*(1/pi)*V+R0[-1]**3)**(1/3))"
   ]
  },
  {
   "cell_type": "code",
   "execution_count": 41,
   "id": "7ae50821-cef4-4a6d-a7ac-a00e1781396a",
   "metadata": {},
   "outputs": [
    {
     "data": {
      "text/plain": [
       "[200,\n",
       " 382.0080289595773,\n",
       " 469.50145696450033,\n",
       " 532.7887286728846,\n",
       " 583.8134878830665,\n",
       " 627.203880017098,\n",
       " 665.3008212288855,\n",
       " 699.4726507724467,\n",
       " 730.5967869077348,\n",
       " 759.27351303416,\n",
       " 785.9337229539163,\n",
       " 810.8984149291728,\n",
       " 834.4138954752912,\n",
       " 856.6737742529706,\n",
       " 877.8333237406648,\n",
       " 898.0192008473468,\n",
       " 917.3362325650183]"
      ]
     },
     "execution_count": 41,
     "metadata": {},
     "output_type": "execute_result"
    }
   ],
   "source": [
    "R0"
   ]
  },
  {
   "cell_type": "code",
   "execution_count": 13,
   "id": "71020885-017b-48bd-a002-e60eab22d4d1",
   "metadata": {},
   "outputs": [
    {
     "name": "stdout",
     "output_type": "stream",
     "text": [
      "[200. 235. 270. 305. 340. 375. 410. 445. 480. 515. 550. 585. 620. 655.\n",
      " 690. 725. 760. 795. 830. 865. 900.]\n",
      "[9.8973820e+02 1.0755264e+03 1.0993127e+03 1.0568684e+03 9.5569660e+02\n",
      " 8.1286530e+02 6.5030430e+02 4.8934390e+02 3.4634680e+02 2.3057250e+02\n",
      " 1.4437880e+02 8.5035200e+01 4.7107900e+01 2.4546400e+01 1.2030400e+01\n",
      " 5.5459000e+00 2.4047000e+00 9.8080000e-01 3.7620000e-01 1.3580000e-01]\n"
     ]
    }
   ],
   "source": [
    "from utils.launch.launch import launch_sensitivity\n",
    "lase = launch_sensitivity(model.scenario_properties.HMid, model.scenario_properties, 300, 200**2, 1100)\n",
    "#print(model.scenario_properties.deltaH)"
   ]
  },
  {
   "cell_type": "code",
   "execution_count": 11,
   "id": "626369d4-ebec-468a-84c8-9a581eacd8ad",
   "metadata": {},
   "outputs": [],
   "source": [
    "def max_yr_sat(result):\n",
    "    species_data = []\n",
    "    for species_index in range(0,1):\n",
    "        species_data.append(sum(result.y[species_index * 20:(species_index + 1) * 20, :]))\n",
    "    species_data = species_data[0]\n",
    "    for i in range(0, len(species_data)-1):\n",
    "        if species_data[i] > species_data[i+1]:\n",
    "            print(i, species_data[i])\n",
    "            break"
   ]
  },
  {
   "cell_type": "code",
   "execution_count": 53,
   "id": "26c19cd6-ae76-49eb-977c-6ff013b2ecd9",
   "metadata": {},
   "outputs": [],
   "source": [
    "def launch_sensitivity_test(model, equations):\n",
    "    #lam = symbols(f'lam_:{model.scenario_properties.n_shells}')\n",
    "    #species_list = [species for group in model.scenario_properties.species.values() for species in group]\n",
    "    res_list = []\n",
    "    J = J_eqn(equations)\n",
    "    for h in model.scenario_properties.HMid[0:9]:\n",
    "        full_lambda = []\n",
    "        for lam0 in [1000, 1500, 2000, 2500, 3000, 3500, 4000]:\n",
    "            print(h, lam0)\n",
    "            lambda_expr = launch_sensitivity(model.scenario_properties.HMid, model.scenario_properties, h, 300**2, lam0)\n",
    "    \n",
    "            res = J(lambda_expr[:, 0])\n",
    "            \n",
    "            res_list.append([h, lam0, res])\n",
    "            print(res_list)\n",
    "        #res_list.append(output)\n",
    "    return res_list\n",
    "        #dN_dt[i] = equations[i](*N).subs(lam[i], dN_dt[i])\n",
    "            "
   ]
  },
  {
   "cell_type": "code",
   "execution_count": 54,
   "id": "92dea317-4f07-41e4-a1cb-45c32cba4c74",
   "metadata": {
    "scrolled": true
   },
   "outputs": [
    {
     "name": "stdout",
     "output_type": "stream",
     "text": [
      "217.5 1000\n",
      "[[217.5, 1000, 26.359862313055235]]\n",
      "217.5 1500\n",
      "[[217.5, 1000, 26.359862313055235], [217.5, 1500, 17.575286365586024]]\n",
      "217.5 2000\n",
      "[[217.5, 1000, 26.359862313055235], [217.5, 1500, 17.575286365586024], [217.5, 2000, 13.182754743055115]]\n",
      "217.5 2500\n",
      "[[217.5, 1000, 26.359862313055235], [217.5, 1500, 17.575286365586024], [217.5, 2000, 13.182754743055115], [217.5, 2500, 10.547482590397868]]\n",
      "217.5 3000\n",
      "[[217.5, 1000, 26.359862313055235], [217.5, 1500, 17.575286365586024], [217.5, 2000, 13.182754743055115], [217.5, 2500, 10.547482590397868], [217.5, 3000, 8.790916864793687]]\n",
      "217.5 3500\n",
      "[[217.5, 1000, 26.359862313055235], [217.5, 1500, 17.575286365586024], [217.5, 2000, 13.182754743055115], [217.5, 2500, 10.547482590397868], [217.5, 3000, 8.790916864793687], [217.5, 3500, 7.535835982043411]]\n",
      "217.5 4000\n",
      "[[217.5, 1000, 26.359862313055235], [217.5, 1500, 17.575286365586024], [217.5, 2000, 13.182754743055115], [217.5, 2500, 10.547482590397868], [217.5, 3000, 8.790916864793687], [217.5, 3500, 7.535835982043411], [217.5, 4000, 6.594713923387581]]\n",
      "252.5 1000\n",
      "[[217.5, 1000, 26.359862313055235], [217.5, 1500, 17.575286365586024], [217.5, 2000, 13.182754743055115], [217.5, 2500, 10.547482590397868], [217.5, 3000, 8.790916864793687], [217.5, 3500, 7.535835982043411], [217.5, 4000, 6.594713923387581], [252.5, 1000, 23.31771159173259]]\n",
      "252.5 1500\n",
      "[[217.5, 1000, 26.359862313055235], [217.5, 1500, 17.575286365586024], [217.5, 2000, 13.182754743055115], [217.5, 2500, 10.547482590397868], [217.5, 3000, 8.790916864793687], [217.5, 3500, 7.535835982043411], [217.5, 4000, 6.594713923387581], [252.5, 1000, 23.31771159173259], [252.5, 1500, 15.547818666383403]]\n",
      "252.5 2000\n",
      "[[217.5, 1000, 26.359862313055235], [217.5, 1500, 17.575286365586024], [217.5, 2000, 13.182754743055115], [217.5, 2500, 10.547482590397868], [217.5, 3000, 8.790916864793687], [217.5, 3500, 7.535835982043411], [217.5, 4000, 6.594713923387581], [252.5, 1000, 23.31771159173259], [252.5, 1500, 15.547818666383403], [252.5, 2000, 11.66294422181887]]\n",
      "252.5 2500\n",
      "[[217.5, 1000, 26.359862313055235], [217.5, 1500, 17.575286365586024], [217.5, 2000, 13.182754743055115], [217.5, 2500, 10.547482590397868], [217.5, 3000, 8.790916864793687], [217.5, 3500, 7.535835982043411], [217.5, 4000, 6.594713923387581], [252.5, 1000, 23.31771159173259], [252.5, 1500, 15.547818666383403], [252.5, 2000, 11.66294422181887], [252.5, 2500, 9.332090274187584]]\n",
      "252.5 3000\n",
      "[[217.5, 1000, 26.359862313055235], [217.5, 1500, 17.575286365586024], [217.5, 2000, 13.182754743055115], [217.5, 2500, 10.547482590397868], [217.5, 3000, 8.790916864793687], [217.5, 3500, 7.535835982043411], [217.5, 4000, 6.594713923387581], [252.5, 1000, 23.31771159173259], [252.5, 1500, 15.547818666383403], [252.5, 2000, 11.66294422181887], [252.5, 2500, 9.332090274187584], [252.5, 3000, 7.7780834737261095]]\n",
      "252.5 3500\n",
      "[[217.5, 1000, 26.359862313055235], [217.5, 1500, 17.575286365586024], [217.5, 2000, 13.182754743055115], [217.5, 2500, 10.547482590397868], [217.5, 3000, 8.790916864793687], [217.5, 3500, 7.535835982043411], [217.5, 4000, 6.594713923387581], [252.5, 1000, 23.31771159173259], [252.5, 1500, 15.547818666383403], [252.5, 2000, 11.66294422181887], [252.5, 2500, 9.332090274187584], [252.5, 3000, 7.7780834737261095], [252.5, 3500, 6.668266946186236]]\n",
      "252.5 4000\n",
      "[[217.5, 1000, 26.359862313055235], [217.5, 1500, 17.575286365586024], [217.5, 2000, 13.182754743055115], [217.5, 2500, 10.547482590397868], [217.5, 3000, 8.790916864793687], [217.5, 3500, 7.535835982043411], [217.5, 4000, 6.594713923387581], [252.5, 1000, 23.31771159173259], [252.5, 1500, 15.547818666383403], [252.5, 2000, 11.66294422181887], [252.5, 2500, 9.332090274187584], [252.5, 3000, 7.7780834737261095], [252.5, 3500, 6.668266946186236], [252.5, 4000, 5.836144873681682]]\n",
      "287.5 1000\n",
      "[[217.5, 1000, 26.359862313055235], [217.5, 1500, 17.575286365586024], [217.5, 2000, 13.182754743055115], [217.5, 2500, 10.547482590397868], [217.5, 3000, 8.790916864793687], [217.5, 3500, 7.535835982043411], [217.5, 4000, 6.594713923387581], [252.5, 1000, 23.31771159173259], [252.5, 1500, 15.547818666383403], [252.5, 2000, 11.66294422181887], [252.5, 2500, 9.332090274187584], [252.5, 3000, 7.7780834737261095], [252.5, 3500, 6.668266946186236], [252.5, 4000, 5.836144873681682], [287.5, 1000, 20.973518906210497]]\n",
      "287.5 1500\n",
      "[[217.5, 1000, 26.359862313055235], [217.5, 1500, 17.575286365586024], [217.5, 2000, 13.182754743055115], [217.5, 2500, 10.547482590397868], [217.5, 3000, 8.790916864793687], [217.5, 3500, 7.535835982043411], [217.5, 4000, 6.594713923387581], [252.5, 1000, 23.31771159173259], [252.5, 1500, 15.547818666383403], [252.5, 2000, 11.66294422181887], [252.5, 2500, 9.332090274187584], [252.5, 3000, 7.7780834737261095], [252.5, 3500, 6.668266946186236], [252.5, 4000, 5.836144873681682], [287.5, 1000, 20.973518906210497], [287.5, 1500, 13.98593854772746]]\n",
      "287.5 2000\n",
      "[[217.5, 1000, 26.359862313055235], [217.5, 1500, 17.575286365586024], [217.5, 2000, 13.182754743055115], [217.5, 2500, 10.547482590397868], [217.5, 3000, 8.790916864793687], [217.5, 3500, 7.535835982043411], [217.5, 4000, 6.594713923387581], [252.5, 1000, 23.31771159173259], [252.5, 1500, 15.547818666383403], [252.5, 2000, 11.66294422181887], [252.5, 2500, 9.332090274187584], [252.5, 3000, 7.7780834737261095], [252.5, 3500, 6.668266946186236], [252.5, 4000, 5.836144873681682], [287.5, 1000, 20.973518906210497], [287.5, 1500, 13.98593854772746], [287.5, 2000, 10.492334863522148]]\n",
      "287.5 2500\n",
      "[[217.5, 1000, 26.359862313055235], [217.5, 1500, 17.575286365586024], [217.5, 2000, 13.182754743055115], [217.5, 2500, 10.547482590397868], [217.5, 3000, 8.790916864793687], [217.5, 3500, 7.535835982043411], [217.5, 4000, 6.594713923387581], [252.5, 1000, 23.31771159173259], [252.5, 1500, 15.547818666383403], [252.5, 2000, 11.66294422181887], [252.5, 2500, 9.332090274187584], [252.5, 3000, 7.7780834737261095], [252.5, 3500, 6.668266946186236], [252.5, 4000, 5.836144873681682], [287.5, 1000, 20.973518906210497], [287.5, 1500, 13.98593854772746], [287.5, 2000, 10.492334863522148], [287.5, 2500, 8.396318386741802]]\n",
      "287.5 3000\n",
      "[[217.5, 1000, 26.359862313055235], [217.5, 1500, 17.575286365586024], [217.5, 2000, 13.182754743055115], [217.5, 2500, 10.547482590397868], [217.5, 3000, 8.790916864793687], [217.5, 3500, 7.535835982043411], [217.5, 4000, 6.594713923387581], [252.5, 1000, 23.31771159173259], [252.5, 1500, 15.547818666383403], [252.5, 2000, 11.66294422181887], [252.5, 2500, 9.332090274187584], [252.5, 3000, 7.7780834737261095], [252.5, 3500, 6.668266946186236], [252.5, 4000, 5.836144873681682], [287.5, 1000, 20.973518906210497], [287.5, 1500, 13.98593854772746], [287.5, 2000, 10.492334863522148], [287.5, 2500, 8.396318386741802], [287.5, 3000, 6.9991197155985825]]\n",
      "287.5 3500\n",
      "[[217.5, 1000, 26.359862313055235], [217.5, 1500, 17.575286365586024], [217.5, 2000, 13.182754743055115], [217.5, 2500, 10.547482590397868], [217.5, 3000, 8.790916864793687], [217.5, 3500, 7.535835982043411], [217.5, 4000, 6.594713923387581], [252.5, 1000, 23.31771159173259], [252.5, 1500, 15.547818666383403], [252.5, 2000, 11.66294422181887], [252.5, 2500, 9.332090274187584], [252.5, 3000, 7.7780834737261095], [252.5, 3500, 6.668266946186236], [252.5, 4000, 5.836144873681682], [287.5, 1000, 20.973518906210497], [287.5, 1500, 13.98593854772746], [287.5, 2000, 10.492334863522148], [287.5, 2500, 8.396318386741802], [287.5, 3000, 6.9991197155985825], [287.5, 3500, 6.001209624967484]]\n",
      "287.5 4000\n",
      "[[217.5, 1000, 26.359862313055235], [217.5, 1500, 17.575286365586024], [217.5, 2000, 13.182754743055115], [217.5, 2500, 10.547482590397868], [217.5, 3000, 8.790916864793687], [217.5, 3500, 7.535835982043411], [217.5, 4000, 6.594713923387581], [252.5, 1000, 23.31771159173259], [252.5, 1500, 15.547818666383403], [252.5, 2000, 11.66294422181887], [252.5, 2500, 9.332090274187584], [252.5, 3000, 7.7780834737261095], [252.5, 3500, 6.668266946186236], [252.5, 4000, 5.836144873681682], [287.5, 1000, 20.973518906210497], [287.5, 1500, 13.98593854772746], [287.5, 2000, 10.492334863522148], [287.5, 2500, 8.396318386741802], [287.5, 3000, 6.9991197155985825], [287.5, 3500, 6.001209624967484], [287.5, 4000, 5.252940643078371]]\n",
      "322.5 1000\n",
      "[[217.5, 1000, 26.359862313055235], [217.5, 1500, 17.575286365586024], [217.5, 2000, 13.182754743055115], [217.5, 2500, 10.547482590397868], [217.5, 3000, 8.790916864793687], [217.5, 3500, 7.535835982043411], [217.5, 4000, 6.594713923387581], [252.5, 1000, 23.31771159173259], [252.5, 1500, 15.547818666383403], [252.5, 2000, 11.66294422181887], [252.5, 2500, 9.332090274187584], [252.5, 3000, 7.7780834737261095], [252.5, 3500, 6.668266946186236], [252.5, 4000, 5.836144873681682], [287.5, 1000, 20.973518906210497], [287.5, 1500, 13.98593854772746], [287.5, 2000, 10.492334863522148], [287.5, 2500, 8.396318386741802], [287.5, 3000, 6.9991197155985825], [287.5, 3500, 6.001209624967484], [287.5, 4000, 5.252940643078371], [322.5, 1000, 19.164082468000082]]\n",
      "322.5 1500\n",
      "[[217.5, 1000, 26.359862313055235], [217.5, 1500, 17.575286365586024], [217.5, 2000, 13.182754743055115], [217.5, 2500, 10.547482590397868], [217.5, 3000, 8.790916864793687], [217.5, 3500, 7.535835982043411], [217.5, 4000, 6.594713923387581], [252.5, 1000, 23.31771159173259], [252.5, 1500, 15.547818666383403], [252.5, 2000, 11.66294422181887], [252.5, 2500, 9.332090274187584], [252.5, 3000, 7.7780834737261095], [252.5, 3500, 6.668266946186236], [252.5, 4000, 5.836144873681682], [287.5, 1000, 20.973518906210497], [287.5, 1500, 13.98593854772746], [287.5, 2000, 10.492334863522148], [287.5, 2500, 8.396318386741802], [287.5, 3000, 6.9991197155985825], [287.5, 3500, 6.001209624967484], [287.5, 4000, 5.252940643078371], [322.5, 1000, 19.164082468000082], [322.5, 1500, 12.781068424500564]]\n",
      "322.5 2000\n",
      "[[217.5, 1000, 26.359862313055235], [217.5, 1500, 17.575286365586024], [217.5, 2000, 13.182754743055115], [217.5, 2500, 10.547482590397868], [217.5, 3000, 8.790916864793687], [217.5, 3500, 7.535835982043411], [217.5, 4000, 6.594713923387581], [252.5, 1000, 23.31771159173259], [252.5, 1500, 15.547818666383403], [252.5, 2000, 11.66294422181887], [252.5, 2500, 9.332090274187584], [252.5, 3000, 7.7780834737261095], [252.5, 3500, 6.668266946186236], [252.5, 4000, 5.836144873681682], [287.5, 1000, 20.973518906210497], [287.5, 1500, 13.98593854772746], [287.5, 2000, 10.492334863522148], [287.5, 2500, 8.396318386741802], [287.5, 3000, 6.9991197155985825], [287.5, 3500, 6.001209624967484], [287.5, 4000, 5.252940643078371], [322.5, 1000, 19.164082468000082], [322.5, 1500, 12.781068424500564], [322.5, 2000, 9.5899371623623]]\n",
      "322.5 2500\n",
      "[[217.5, 1000, 26.359862313055235], [217.5, 1500, 17.575286365586024], [217.5, 2000, 13.182754743055115], [217.5, 2500, 10.547482590397868], [217.5, 3000, 8.790916864793687], [217.5, 3500, 7.535835982043411], [217.5, 4000, 6.594713923387581], [252.5, 1000, 23.31771159173259], [252.5, 1500, 15.547818666383403], [252.5, 2000, 11.66294422181887], [252.5, 2500, 9.332090274187584], [252.5, 3000, 7.7780834737261095], [252.5, 3500, 6.668266946186236], [252.5, 4000, 5.836144873681682], [287.5, 1000, 20.973518906210497], [287.5, 1500, 13.98593854772746], [287.5, 2000, 10.492334863522148], [287.5, 2500, 8.396318386741802], [287.5, 3000, 6.9991197155985825], [287.5, 3500, 6.001209624967484], [287.5, 4000, 5.252940643078371], [322.5, 1000, 19.164082468000082], [322.5, 1500, 12.781068424500564], [322.5, 2000, 9.5899371623623], [322.5, 2500, 7.675580962611535]]\n",
      "322.5 3000\n",
      "[[217.5, 1000, 26.359862313055235], [217.5, 1500, 17.575286365586024], [217.5, 2000, 13.182754743055115], [217.5, 2500, 10.547482590397868], [217.5, 3000, 8.790916864793687], [217.5, 3500, 7.535835982043411], [217.5, 4000, 6.594713923387581], [252.5, 1000, 23.31771159173259], [252.5, 1500, 15.547818666383403], [252.5, 2000, 11.66294422181887], [252.5, 2500, 9.332090274187584], [252.5, 3000, 7.7780834737261095], [252.5, 3500, 6.668266946186236], [252.5, 4000, 5.836144873681682], [287.5, 1000, 20.973518906210497], [287.5, 1500, 13.98593854772746], [287.5, 2000, 10.492334863522148], [287.5, 2500, 8.396318386741802], [287.5, 3000, 6.9991197155985825], [287.5, 3500, 6.001209624967484], [287.5, 4000, 5.252940643078371], [322.5, 1000, 19.164082468000082], [322.5, 1500, 12.781068424500564], [322.5, 2000, 9.5899371623623], [322.5, 2500, 7.675580962611535], [322.5, 3000, 6.39966850782411]]\n",
      "322.5 3500\n",
      "[[217.5, 1000, 26.359862313055235], [217.5, 1500, 17.575286365586024], [217.5, 2000, 13.182754743055115], [217.5, 2500, 10.547482590397868], [217.5, 3000, 8.790916864793687], [217.5, 3500, 7.535835982043411], [217.5, 4000, 6.594713923387581], [252.5, 1000, 23.31771159173259], [252.5, 1500, 15.547818666383403], [252.5, 2000, 11.66294422181887], [252.5, 2500, 9.332090274187584], [252.5, 3000, 7.7780834737261095], [252.5, 3500, 6.668266946186236], [252.5, 4000, 5.836144873681682], [287.5, 1000, 20.973518906210497], [287.5, 1500, 13.98593854772746], [287.5, 2000, 10.492334863522148], [287.5, 2500, 8.396318386741802], [287.5, 3000, 6.9991197155985825], [287.5, 3500, 6.001209624967484], [287.5, 4000, 5.252940643078371], [322.5, 1000, 19.164082468000082], [322.5, 1500, 12.781068424500564], [322.5, 2000, 9.5899371623623], [322.5, 2500, 7.675580962611535], [322.5, 3000, 6.39966850782411], [322.5, 3500, 5.488552517533305]]\n",
      "322.5 4000\n",
      "[[217.5, 1000, 26.359862313055235], [217.5, 1500, 17.575286365586024], [217.5, 2000, 13.182754743055115], [217.5, 2500, 10.547482590397868], [217.5, 3000, 8.790916864793687], [217.5, 3500, 7.535835982043411], [217.5, 4000, 6.594713923387581], [252.5, 1000, 23.31771159173259], [252.5, 1500, 15.547818666383403], [252.5, 2000, 11.66294422181887], [252.5, 2500, 9.332090274187584], [252.5, 3000, 7.7780834737261095], [252.5, 3500, 6.668266946186236], [252.5, 4000, 5.836144873681682], [287.5, 1000, 20.973518906210497], [287.5, 1500, 13.98593854772746], [287.5, 2000, 10.492334863522148], [287.5, 2500, 8.396318386741802], [287.5, 3000, 6.9991197155985825], [287.5, 3500, 6.001209624967484], [287.5, 4000, 5.252940643078371], [322.5, 1000, 19.164082468000082], [322.5, 1500, 12.781068424500564], [322.5, 2000, 9.5899371623623], [322.5, 2500, 7.675580962611535], [322.5, 3000, 6.39966850782411], [322.5, 3500, 5.488552517533305], [322.5, 4000, 4.805571256221459]]\n",
      "357.5 1000\n",
      "[[217.5, 1000, 26.359862313055235], [217.5, 1500, 17.575286365586024], [217.5, 2000, 13.182754743055115], [217.5, 2500, 10.547482590397868], [217.5, 3000, 8.790916864793687], [217.5, 3500, 7.535835982043411], [217.5, 4000, 6.594713923387581], [252.5, 1000, 23.31771159173259], [252.5, 1500, 15.547818666383403], [252.5, 2000, 11.66294422181887], [252.5, 2500, 9.332090274187584], [252.5, 3000, 7.7780834737261095], [252.5, 3500, 6.668266946186236], [252.5, 4000, 5.836144873681682], [287.5, 1000, 20.973518906210497], [287.5, 1500, 13.98593854772746], [287.5, 2000, 10.492334863522148], [287.5, 2500, 8.396318386741802], [287.5, 3000, 6.9991197155985825], [287.5, 3500, 6.001209624967484], [287.5, 4000, 5.252940643078371], [322.5, 1000, 19.164082468000082], [322.5, 1500, 12.781068424500564], [322.5, 2000, 9.5899371623623], [322.5, 2500, 7.675580962611535], [322.5, 3000, 6.39966850782411], [322.5, 3500, 5.488552517533305], [322.5, 4000, 4.805571256221459], [357.5, 1000, 17.771500208794116]]\n",
      "357.5 1500\n",
      "[[217.5, 1000, 26.359862313055235], [217.5, 1500, 17.575286365586024], [217.5, 2000, 13.182754743055115], [217.5, 2500, 10.547482590397868], [217.5, 3000, 8.790916864793687], [217.5, 3500, 7.535835982043411], [217.5, 4000, 6.594713923387581], [252.5, 1000, 23.31771159173259], [252.5, 1500, 15.547818666383403], [252.5, 2000, 11.66294422181887], [252.5, 2500, 9.332090274187584], [252.5, 3000, 7.7780834737261095], [252.5, 3500, 6.668266946186236], [252.5, 4000, 5.836144873681682], [287.5, 1000, 20.973518906210497], [287.5, 1500, 13.98593854772746], [287.5, 2000, 10.492334863522148], [287.5, 2500, 8.396318386741802], [287.5, 3000, 6.9991197155985825], [287.5, 3500, 6.001209624967484], [287.5, 4000, 5.252940643078371], [322.5, 1000, 19.164082468000082], [322.5, 1500, 12.781068424500564], [322.5, 2000, 9.5899371623623], [322.5, 2500, 7.675580962611535], [322.5, 3000, 6.39966850782411], [322.5, 3500, 5.488552517533305], [322.5, 4000, 4.805571256221459], [357.5, 1000, 17.771500208794116], [357.5, 1500, 11.85485392896474]]\n",
      "357.5 2000\n",
      "[[217.5, 1000, 26.359862313055235], [217.5, 1500, 17.575286365586024], [217.5, 2000, 13.182754743055115], [217.5, 2500, 10.547482590397868], [217.5, 3000, 8.790916864793687], [217.5, 3500, 7.535835982043411], [217.5, 4000, 6.594713923387581], [252.5, 1000, 23.31771159173259], [252.5, 1500, 15.547818666383403], [252.5, 2000, 11.66294422181887], [252.5, 2500, 9.332090274187584], [252.5, 3000, 7.7780834737261095], [252.5, 3500, 6.668266946186236], [252.5, 4000, 5.836144873681682], [287.5, 1000, 20.973518906210497], [287.5, 1500, 13.98593854772746], [287.5, 2000, 10.492334863522148], [287.5, 2500, 8.396318386741802], [287.5, 3000, 6.9991197155985825], [287.5, 3500, 6.001209624967484], [287.5, 4000, 5.252940643078371], [322.5, 1000, 19.164082468000082], [322.5, 1500, 12.781068424500564], [322.5, 2000, 9.5899371623623], [322.5, 2500, 7.675580962611535], [322.5, 3000, 6.39966850782411], [322.5, 3500, 5.488552517533305], [322.5, 4000, 4.805571256221459], [357.5, 1000, 17.771500208794116], [357.5, 1500, 11.85485392896474], [357.5, 2000, 8.897318373510444]]\n",
      "357.5 2500\n",
      "[[217.5, 1000, 26.359862313055235], [217.5, 1500, 17.575286365586024], [217.5, 2000, 13.182754743055115], [217.5, 2500, 10.547482590397868], [217.5, 3000, 8.790916864793687], [217.5, 3500, 7.535835982043411], [217.5, 4000, 6.594713923387581], [252.5, 1000, 23.31771159173259], [252.5, 1500, 15.547818666383403], [252.5, 2000, 11.66294422181887], [252.5, 2500, 9.332090274187584], [252.5, 3000, 7.7780834737261095], [252.5, 3500, 6.668266946186236], [252.5, 4000, 5.836144873681682], [287.5, 1000, 20.973518906210497], [287.5, 1500, 13.98593854772746], [287.5, 2000, 10.492334863522148], [287.5, 2500, 8.396318386741802], [287.5, 3000, 6.9991197155985825], [287.5, 3500, 6.001209624967484], [287.5, 4000, 5.252940643078371], [322.5, 1000, 19.164082468000082], [322.5, 1500, 12.781068424500564], [322.5, 2000, 9.5899371623623], [322.5, 2500, 7.675580962611535], [322.5, 3000, 6.39966850782411], [322.5, 3500, 5.488552517533305], [322.5, 4000, 4.805571256221459], [357.5, 1000, 17.771500208794116], [357.5, 1500, 11.85485392896474], [357.5, 2000, 8.897318373510444], [357.5, 2500, 7.123531695674999]]\n",
      "357.5 3000\n",
      "[[217.5, 1000, 26.359862313055235], [217.5, 1500, 17.575286365586024], [217.5, 2000, 13.182754743055115], [217.5, 2500, 10.547482590397868], [217.5, 3000, 8.790916864793687], [217.5, 3500, 7.535835982043411], [217.5, 4000, 6.594713923387581], [252.5, 1000, 23.31771159173259], [252.5, 1500, 15.547818666383403], [252.5, 2000, 11.66294422181887], [252.5, 2500, 9.332090274187584], [252.5, 3000, 7.7780834737261095], [252.5, 3500, 6.668266946186236], [252.5, 4000, 5.836144873681682], [287.5, 1000, 20.973518906210497], [287.5, 1500, 13.98593854772746], [287.5, 2000, 10.492334863522148], [287.5, 2500, 8.396318386741802], [287.5, 3000, 6.9991197155985825], [287.5, 3500, 6.001209624967484], [287.5, 4000, 5.252940643078371], [322.5, 1000, 19.164082468000082], [322.5, 1500, 12.781068424500564], [322.5, 2000, 9.5899371623623], [322.5, 2500, 7.675580962611535], [322.5, 3000, 6.39966850782411], [322.5, 3500, 5.488552517533305], [322.5, 4000, 4.805571256221459], [357.5, 1000, 17.771500208794116], [357.5, 1500, 11.85485392896474], [357.5, 2000, 8.897318373510444], [357.5, 2500, 7.123531695674999], [357.5, 3000, 5.941738482014117]]\n",
      "357.5 3500\n",
      "[[217.5, 1000, 26.359862313055235], [217.5, 1500, 17.575286365586024], [217.5, 2000, 13.182754743055115], [217.5, 2500, 10.547482590397868], [217.5, 3000, 8.790916864793687], [217.5, 3500, 7.535835982043411], [217.5, 4000, 6.594713923387581], [252.5, 1000, 23.31771159173259], [252.5, 1500, 15.547818666383403], [252.5, 2000, 11.66294422181887], [252.5, 2500, 9.332090274187584], [252.5, 3000, 7.7780834737261095], [252.5, 3500, 6.668266946186236], [252.5, 4000, 5.836144873681682], [287.5, 1000, 20.973518906210497], [287.5, 1500, 13.98593854772746], [287.5, 2000, 10.492334863522148], [287.5, 2500, 8.396318386741802], [287.5, 3000, 6.9991197155985825], [287.5, 3500, 6.001209624967484], [287.5, 4000, 5.252940643078371], [322.5, 1000, 19.164082468000082], [322.5, 1500, 12.781068424500564], [322.5, 2000, 9.5899371623623], [322.5, 2500, 7.675580962611535], [322.5, 3000, 6.39966850782411], [322.5, 3500, 5.488552517533305], [322.5, 4000, 4.805571256221459], [357.5, 1000, 17.771500208794116], [357.5, 1500, 11.85485392896474], [357.5, 2000, 8.897318373510444], [357.5, 2500, 7.123531695674999], [357.5, 3000, 5.941738482014117], [357.5, 3500, 5.098279581357733]]\n",
      "357.5 4000\n",
      "[[217.5, 1000, 26.359862313055235], [217.5, 1500, 17.575286365586024], [217.5, 2000, 13.182754743055115], [217.5, 2500, 10.547482590397868], [217.5, 3000, 8.790916864793687], [217.5, 3500, 7.535835982043411], [217.5, 4000, 6.594713923387581], [252.5, 1000, 23.31771159173259], [252.5, 1500, 15.547818666383403], [252.5, 2000, 11.66294422181887], [252.5, 2500, 9.332090274187584], [252.5, 3000, 7.7780834737261095], [252.5, 3500, 6.668266946186236], [252.5, 4000, 5.836144873681682], [287.5, 1000, 20.973518906210497], [287.5, 1500, 13.98593854772746], [287.5, 2000, 10.492334863522148], [287.5, 2500, 8.396318386741802], [287.5, 3000, 6.9991197155985825], [287.5, 3500, 6.001209624967484], [287.5, 4000, 5.252940643078371], [322.5, 1000, 19.164082468000082], [322.5, 1500, 12.781068424500564], [322.5, 2000, 9.5899371623623], [322.5, 2500, 7.675580962611535], [322.5, 3000, 6.39966850782411], [322.5, 3500, 5.488552517533305], [322.5, 4000, 4.805571256221459], [357.5, 1000, 17.771500208794116], [357.5, 1500, 11.85485392896474], [357.5, 2000, 8.897318373510444], [357.5, 2500, 7.123531695674999], [357.5, 3000, 5.941738482014117], [357.5, 3500, 5.098279581357733], [357.5, 4000, 4.466600622546948]]\n",
      "392.5 1000\n",
      "[[217.5, 1000, 26.359862313055235], [217.5, 1500, 17.575286365586024], [217.5, 2000, 13.182754743055115], [217.5, 2500, 10.547482590397868], [217.5, 3000, 8.790916864793687], [217.5, 3500, 7.535835982043411], [217.5, 4000, 6.594713923387581], [252.5, 1000, 23.31771159173259], [252.5, 1500, 15.547818666383403], [252.5, 2000, 11.66294422181887], [252.5, 2500, 9.332090274187584], [252.5, 3000, 7.7780834737261095], [252.5, 3500, 6.668266946186236], [252.5, 4000, 5.836144873681682], [287.5, 1000, 20.973518906210497], [287.5, 1500, 13.98593854772746], [287.5, 2000, 10.492334863522148], [287.5, 2500, 8.396318386741802], [287.5, 3000, 6.9991197155985825], [287.5, 3500, 6.001209624967484], [287.5, 4000, 5.252940643078371], [322.5, 1000, 19.164082468000082], [322.5, 1500, 12.781068424500564], [322.5, 2000, 9.5899371623623], [322.5, 2500, 7.675580962611535], [322.5, 3000, 6.39966850782411], [322.5, 3500, 5.488552517533305], [322.5, 4000, 4.805571256221459], [357.5, 1000, 17.771500208794116], [357.5, 1500, 11.85485392896474], [357.5, 2000, 8.897318373510444], [357.5, 2500, 7.123531695674999], [357.5, 3000, 5.941738482014117], [357.5, 3500, 5.098279581357733], [357.5, 4000, 4.466600622546948], [392.5, 1000, 16.709975709759927]]\n",
      "392.5 1500\n",
      "[[217.5, 1000, 26.359862313055235], [217.5, 1500, 17.575286365586024], [217.5, 2000, 13.182754743055115], [217.5, 2500, 10.547482590397868], [217.5, 3000, 8.790916864793687], [217.5, 3500, 7.535835982043411], [217.5, 4000, 6.594713923387581], [252.5, 1000, 23.31771159173259], [252.5, 1500, 15.547818666383403], [252.5, 2000, 11.66294422181887], [252.5, 2500, 9.332090274187584], [252.5, 3000, 7.7780834737261095], [252.5, 3500, 6.668266946186236], [252.5, 4000, 5.836144873681682], [287.5, 1000, 20.973518906210497], [287.5, 1500, 13.98593854772746], [287.5, 2000, 10.492334863522148], [287.5, 2500, 8.396318386741802], [287.5, 3000, 6.9991197155985825], [287.5, 3500, 6.001209624967484], [287.5, 4000, 5.252940643078371], [322.5, 1000, 19.164082468000082], [322.5, 1500, 12.781068424500564], [322.5, 2000, 9.5899371623623], [322.5, 2500, 7.675580962611535], [322.5, 3000, 6.39966850782411], [322.5, 3500, 5.488552517533305], [322.5, 4000, 4.805571256221459], [357.5, 1000, 17.771500208794116], [357.5, 1500, 11.85485392896474], [357.5, 2000, 8.897318373510444], [357.5, 2500, 7.123531695674999], [357.5, 3000, 5.941738482014117], [357.5, 3500, 5.098279581357733], [357.5, 4000, 4.466600622546948], [392.5, 1000, 16.709975709759927], [392.5, 1500, 11.150622013193804]]\n",
      "392.5 2000\n",
      "[[217.5, 1000, 26.359862313055235], [217.5, 1500, 17.575286365586024], [217.5, 2000, 13.182754743055115], [217.5, 2500, 10.547482590397868], [217.5, 3000, 8.790916864793687], [217.5, 3500, 7.535835982043411], [217.5, 4000, 6.594713923387581], [252.5, 1000, 23.31771159173259], [252.5, 1500, 15.547818666383403], [252.5, 2000, 11.66294422181887], [252.5, 2500, 9.332090274187584], [252.5, 3000, 7.7780834737261095], [252.5, 3500, 6.668266946186236], [252.5, 4000, 5.836144873681682], [287.5, 1000, 20.973518906210497], [287.5, 1500, 13.98593854772746], [287.5, 2000, 10.492334863522148], [287.5, 2500, 8.396318386741802], [287.5, 3000, 6.9991197155985825], [287.5, 3500, 6.001209624967484], [287.5, 4000, 5.252940643078371], [322.5, 1000, 19.164082468000082], [322.5, 1500, 12.781068424500564], [322.5, 2000, 9.5899371623623], [322.5, 2500, 7.675580962611535], [322.5, 3000, 6.39966850782411], [322.5, 3500, 5.488552517533305], [322.5, 4000, 4.805571256221459], [357.5, 1000, 17.771500208794116], [357.5, 1500, 11.85485392896474], [357.5, 2000, 8.897318373510444], [357.5, 2500, 7.123531695674999], [357.5, 3000, 5.941738482014117], [357.5, 3500, 5.098279581357733], [357.5, 4000, 4.466600622546948], [392.5, 1000, 16.709975709759927], [392.5, 1500, 11.150622013193804], [392.5, 2000, 8.372617057081422]]\n",
      "392.5 2500\n",
      "[[217.5, 1000, 26.359862313055235], [217.5, 1500, 17.575286365586024], [217.5, 2000, 13.182754743055115], [217.5, 2500, 10.547482590397868], [217.5, 3000, 8.790916864793687], [217.5, 3500, 7.535835982043411], [217.5, 4000, 6.594713923387581], [252.5, 1000, 23.31771159173259], [252.5, 1500, 15.547818666383403], [252.5, 2000, 11.66294422181887], [252.5, 2500, 9.332090274187584], [252.5, 3000, 7.7780834737261095], [252.5, 3500, 6.668266946186236], [252.5, 4000, 5.836144873681682], [287.5, 1000, 20.973518906210497], [287.5, 1500, 13.98593854772746], [287.5, 2000, 10.492334863522148], [287.5, 2500, 8.396318386741802], [287.5, 3000, 6.9991197155985825], [287.5, 3500, 6.001209624967484], [287.5, 4000, 5.252940643078371], [322.5, 1000, 19.164082468000082], [322.5, 1500, 12.781068424500564], [322.5, 2000, 9.5899371623623], [322.5, 2500, 7.675580962611535], [322.5, 3000, 6.39966850782411], [322.5, 3500, 5.488552517533305], [322.5, 4000, 4.805571256221459], [357.5, 1000, 17.771500208794116], [357.5, 1500, 11.85485392896474], [357.5, 2000, 8.897318373510444], [357.5, 2500, 7.123531695674999], [357.5, 3000, 5.941738482014117], [357.5, 3500, 5.098279581357733], [357.5, 4000, 4.466600622546948], [392.5, 1000, 16.709975709759927], [392.5, 1500, 11.150622013193804], [392.5, 2000, 8.372617057081422], [392.5, 2500, 6.70749329331884]]\n",
      "392.5 3000\n",
      "[[217.5, 1000, 26.359862313055235], [217.5, 1500, 17.575286365586024], [217.5, 2000, 13.182754743055115], [217.5, 2500, 10.547482590397868], [217.5, 3000, 8.790916864793687], [217.5, 3500, 7.535835982043411], [217.5, 4000, 6.594713923387581], [252.5, 1000, 23.31771159173259], [252.5, 1500, 15.547818666383403], [252.5, 2000, 11.66294422181887], [252.5, 2500, 9.332090274187584], [252.5, 3000, 7.7780834737261095], [252.5, 3500, 6.668266946186236], [252.5, 4000, 5.836144873681682], [287.5, 1000, 20.973518906210497], [287.5, 1500, 13.98593854772746], [287.5, 2000, 10.492334863522148], [287.5, 2500, 8.396318386741802], [287.5, 3000, 6.9991197155985825], [287.5, 3500, 6.001209624967484], [287.5, 4000, 5.252940643078371], [322.5, 1000, 19.164082468000082], [322.5, 1500, 12.781068424500564], [322.5, 2000, 9.5899371623623], [322.5, 2500, 7.675580962611535], [322.5, 3000, 6.39966850782411], [322.5, 3500, 5.488552517533305], [322.5, 4000, 4.805571256221459], [357.5, 1000, 17.771500208794116], [357.5, 1500, 11.85485392896474], [357.5, 2000, 8.897318373510444], [357.5, 2500, 7.123531695674999], [357.5, 3000, 5.941738482014117], [357.5, 3500, 5.098279581357733], [357.5, 4000, 4.466600622546948], [392.5, 1000, 16.709975709759927], [392.5, 1500, 11.150622013193804], [392.5, 2000, 8.372617057081422], [392.5, 2500, 6.70749329331884], [392.5, 3000, 5.599199434462843]]\n",
      "392.5 3500\n",
      "[[217.5, 1000, 26.359862313055235], [217.5, 1500, 17.575286365586024], [217.5, 2000, 13.182754743055115], [217.5, 2500, 10.547482590397868], [217.5, 3000, 8.790916864793687], [217.5, 3500, 7.535835982043411], [217.5, 4000, 6.594713923387581], [252.5, 1000, 23.31771159173259], [252.5, 1500, 15.547818666383403], [252.5, 2000, 11.66294422181887], [252.5, 2500, 9.332090274187584], [252.5, 3000, 7.7780834737261095], [252.5, 3500, 6.668266946186236], [252.5, 4000, 5.836144873681682], [287.5, 1000, 20.973518906210497], [287.5, 1500, 13.98593854772746], [287.5, 2000, 10.492334863522148], [287.5, 2500, 8.396318386741802], [287.5, 3000, 6.9991197155985825], [287.5, 3500, 6.001209624967484], [287.5, 4000, 5.252940643078371], [322.5, 1000, 19.164082468000082], [322.5, 1500, 12.781068424500564], [322.5, 2000, 9.5899371623623], [322.5, 2500, 7.675580962611535], [322.5, 3000, 6.39966850782411], [322.5, 3500, 5.488552517533305], [322.5, 4000, 4.805571256221459], [357.5, 1000, 17.771500208794116], [357.5, 1500, 11.85485392896474], [357.5, 2000, 8.897318373510444], [357.5, 2500, 7.123531695674999], [357.5, 3000, 5.941738482014117], [357.5, 3500, 5.098279581357733], [357.5, 4000, 4.466600622546948], [392.5, 1000, 16.709975709759927], [392.5, 1500, 11.150622013193804], [392.5, 2000, 8.372617057081422], [392.5, 2500, 6.70749329331884], [392.5, 3000, 5.599199434462843], [392.5, 3500, 4.809532577561027]]\n",
      "392.5 4000\n",
      "[[217.5, 1000, 26.359862313055235], [217.5, 1500, 17.575286365586024], [217.5, 2000, 13.182754743055115], [217.5, 2500, 10.547482590397868], [217.5, 3000, 8.790916864793687], [217.5, 3500, 7.535835982043411], [217.5, 4000, 6.594713923387581], [252.5, 1000, 23.31771159173259], [252.5, 1500, 15.547818666383403], [252.5, 2000, 11.66294422181887], [252.5, 2500, 9.332090274187584], [252.5, 3000, 7.7780834737261095], [252.5, 3500, 6.668266946186236], [252.5, 4000, 5.836144873681682], [287.5, 1000, 20.973518906210497], [287.5, 1500, 13.98593854772746], [287.5, 2000, 10.492334863522148], [287.5, 2500, 8.396318386741802], [287.5, 3000, 6.9991197155985825], [287.5, 3500, 6.001209624967484], [287.5, 4000, 5.252940643078371], [322.5, 1000, 19.164082468000082], [322.5, 1500, 12.781068424500564], [322.5, 2000, 9.5899371623623], [322.5, 2500, 7.675580962611535], [322.5, 3000, 6.39966850782411], [322.5, 3500, 5.488552517533305], [322.5, 4000, 4.805571256221459], [357.5, 1000, 17.771500208794116], [357.5, 1500, 11.85485392896474], [357.5, 2000, 8.897318373510444], [357.5, 2500, 7.123531695674999], [357.5, 3000, 5.941738482014117], [357.5, 3500, 5.098279581357733], [357.5, 4000, 4.466600622546948], [392.5, 1000, 16.709975709759927], [392.5, 1500, 11.150622013193804], [392.5, 2000, 8.372617057081422], [392.5, 2500, 6.70749329331884], [392.5, 3000, 5.599199434462843], [392.5, 3500, 4.809532577561027], [392.5, 4000, 4.219624152417449]]\n",
      "427.5 1000\n",
      "[[217.5, 1000, 26.359862313055235], [217.5, 1500, 17.575286365586024], [217.5, 2000, 13.182754743055115], [217.5, 2500, 10.547482590397868], [217.5, 3000, 8.790916864793687], [217.5, 3500, 7.535835982043411], [217.5, 4000, 6.594713923387581], [252.5, 1000, 23.31771159173259], [252.5, 1500, 15.547818666383403], [252.5, 2000, 11.66294422181887], [252.5, 2500, 9.332090274187584], [252.5, 3000, 7.7780834737261095], [252.5, 3500, 6.668266946186236], [252.5, 4000, 5.836144873681682], [287.5, 1000, 20.973518906210497], [287.5, 1500, 13.98593854772746], [287.5, 2000, 10.492334863522148], [287.5, 2500, 8.396318386741802], [287.5, 3000, 6.9991197155985825], [287.5, 3500, 6.001209624967484], [287.5, 4000, 5.252940643078371], [322.5, 1000, 19.164082468000082], [322.5, 1500, 12.781068424500564], [322.5, 2000, 9.5899371623623], [322.5, 2500, 7.675580962611535], [322.5, 3000, 6.39966850782411], [322.5, 3500, 5.488552517533305], [322.5, 4000, 4.805571256221459], [357.5, 1000, 17.771500208794116], [357.5, 1500, 11.85485392896474], [357.5, 2000, 8.897318373510444], [357.5, 2500, 7.123531695674999], [357.5, 3000, 5.941738482014117], [357.5, 3500, 5.098279581357733], [357.5, 4000, 4.466600622546948], [392.5, 1000, 16.709975709759927], [392.5, 1500, 11.150622013193804], [392.5, 2000, 8.372617057081422], [392.5, 2500, 6.70749329331884], [392.5, 3000, 5.599199434462843], [392.5, 3500, 4.809532577561027], [392.5, 4000, 4.219624152417449], [427.5, 1000, 15.917278264449575]]\n",
      "427.5 1500\n",
      "[[217.5, 1000, 26.359862313055235], [217.5, 1500, 17.575286365586024], [217.5, 2000, 13.182754743055115], [217.5, 2500, 10.547482590397868], [217.5, 3000, 8.790916864793687], [217.5, 3500, 7.535835982043411], [217.5, 4000, 6.594713923387581], [252.5, 1000, 23.31771159173259], [252.5, 1500, 15.547818666383403], [252.5, 2000, 11.66294422181887], [252.5, 2500, 9.332090274187584], [252.5, 3000, 7.7780834737261095], [252.5, 3500, 6.668266946186236], [252.5, 4000, 5.836144873681682], [287.5, 1000, 20.973518906210497], [287.5, 1500, 13.98593854772746], [287.5, 2000, 10.492334863522148], [287.5, 2500, 8.396318386741802], [287.5, 3000, 6.9991197155985825], [287.5, 3500, 6.001209624967484], [287.5, 4000, 5.252940643078371], [322.5, 1000, 19.164082468000082], [322.5, 1500, 12.781068424500564], [322.5, 2000, 9.5899371623623], [322.5, 2500, 7.675580962611535], [322.5, 3000, 6.39966850782411], [322.5, 3500, 5.488552517533305], [322.5, 4000, 4.805571256221459], [357.5, 1000, 17.771500208794116], [357.5, 1500, 11.85485392896474], [357.5, 2000, 8.897318373510444], [357.5, 2500, 7.123531695674999], [357.5, 3000, 5.941738482014117], [357.5, 3500, 5.098279581357733], [357.5, 4000, 4.466600622546948], [392.5, 1000, 16.709975709759927], [392.5, 1500, 11.150622013193804], [392.5, 2000, 8.372617057081422], [392.5, 2500, 6.70749329331884], [392.5, 3000, 5.599199434462843], [392.5, 3500, 4.809532577561027], [392.5, 4000, 4.219624152417449], [427.5, 1000, 15.917278264449575], [427.5, 1500, 10.627784344017705]]\n",
      "427.5 2000\n",
      "[[217.5, 1000, 26.359862313055235], [217.5, 1500, 17.575286365586024], [217.5, 2000, 13.182754743055115], [217.5, 2500, 10.547482590397868], [217.5, 3000, 8.790916864793687], [217.5, 3500, 7.535835982043411], [217.5, 4000, 6.594713923387581], [252.5, 1000, 23.31771159173259], [252.5, 1500, 15.547818666383403], [252.5, 2000, 11.66294422181887], [252.5, 2500, 9.332090274187584], [252.5, 3000, 7.7780834737261095], [252.5, 3500, 6.668266946186236], [252.5, 4000, 5.836144873681682], [287.5, 1000, 20.973518906210497], [287.5, 1500, 13.98593854772746], [287.5, 2000, 10.492334863522148], [287.5, 2500, 8.396318386741802], [287.5, 3000, 6.9991197155985825], [287.5, 3500, 6.001209624967484], [287.5, 4000, 5.252940643078371], [322.5, 1000, 19.164082468000082], [322.5, 1500, 12.781068424500564], [322.5, 2000, 9.5899371623623], [322.5, 2500, 7.675580962611535], [322.5, 3000, 6.39966850782411], [322.5, 3500, 5.488552517533305], [322.5, 4000, 4.805571256221459], [357.5, 1000, 17.771500208794116], [357.5, 1500, 11.85485392896474], [357.5, 2000, 8.897318373510444], [357.5, 2500, 7.123531695674999], [357.5, 3000, 5.941738482014117], [357.5, 3500, 5.098279581357733], [357.5, 4000, 4.466600622546948], [392.5, 1000, 16.709975709759927], [392.5, 1500, 11.150622013193804], [392.5, 2000, 8.372617057081422], [392.5, 2500, 6.70749329331884], [392.5, 3000, 5.599199434462843], [392.5, 3500, 4.809532577561027], [392.5, 4000, 4.219624152417449], [427.5, 1000, 15.917278264449575], [427.5, 1500, 10.627784344017705], [427.5, 2000, 7.986663944243816]]\n",
      "427.5 2500\n",
      "[[217.5, 1000, 26.359862313055235], [217.5, 1500, 17.575286365586024], [217.5, 2000, 13.182754743055115], [217.5, 2500, 10.547482590397868], [217.5, 3000, 8.790916864793687], [217.5, 3500, 7.535835982043411], [217.5, 4000, 6.594713923387581], [252.5, 1000, 23.31771159173259], [252.5, 1500, 15.547818666383403], [252.5, 2000, 11.66294422181887], [252.5, 2500, 9.332090274187584], [252.5, 3000, 7.7780834737261095], [252.5, 3500, 6.668266946186236], [252.5, 4000, 5.836144873681682], [287.5, 1000, 20.973518906210497], [287.5, 1500, 13.98593854772746], [287.5, 2000, 10.492334863522148], [287.5, 2500, 8.396318386741802], [287.5, 3000, 6.9991197155985825], [287.5, 3500, 6.001209624967484], [287.5, 4000, 5.252940643078371], [322.5, 1000, 19.164082468000082], [322.5, 1500, 12.781068424500564], [322.5, 2000, 9.5899371623623], [322.5, 2500, 7.675580962611535], [322.5, 3000, 6.39966850782411], [322.5, 3500, 5.488552517533305], [322.5, 4000, 4.805571256221459], [357.5, 1000, 17.771500208794116], [357.5, 1500, 11.85485392896474], [357.5, 2000, 8.897318373510444], [357.5, 2500, 7.123531695674999], [357.5, 3000, 5.941738482014117], [357.5, 3500, 5.098279581357733], [357.5, 4000, 4.466600622546948], [392.5, 1000, 16.709975709759927], [392.5, 1500, 11.150622013193804], [392.5, 2000, 8.372617057081422], [392.5, 2500, 6.70749329331884], [392.5, 3000, 5.599199434462843], [392.5, 3500, 4.809532577561027], [392.5, 4000, 4.219624152417449], [427.5, 1000, 15.917278264449575], [427.5, 1500, 10.627784344017705], [427.5, 2000, 7.986663944243816], [427.5, 2500, 6.405957691432849]]\n",
      "427.5 3000\n",
      "[[217.5, 1000, 26.359862313055235], [217.5, 1500, 17.575286365586024], [217.5, 2000, 13.182754743055115], [217.5, 2500, 10.547482590397868], [217.5, 3000, 8.790916864793687], [217.5, 3500, 7.535835982043411], [217.5, 4000, 6.594713923387581], [252.5, 1000, 23.31771159173259], [252.5, 1500, 15.547818666383403], [252.5, 2000, 11.66294422181887], [252.5, 2500, 9.332090274187584], [252.5, 3000, 7.7780834737261095], [252.5, 3500, 6.668266946186236], [252.5, 4000, 5.836144873681682], [287.5, 1000, 20.973518906210497], [287.5, 1500, 13.98593854772746], [287.5, 2000, 10.492334863522148], [287.5, 2500, 8.396318386741802], [287.5, 3000, 6.9991197155985825], [287.5, 3500, 6.001209624967484], [287.5, 4000, 5.252940643078371], [322.5, 1000, 19.164082468000082], [322.5, 1500, 12.781068424500564], [322.5, 2000, 9.5899371623623], [322.5, 2500, 7.675580962611535], [322.5, 3000, 6.39966850782411], [322.5, 3500, 5.488552517533305], [322.5, 4000, 4.805571256221459], [357.5, 1000, 17.771500208794116], [357.5, 1500, 11.85485392896474], [357.5, 2000, 8.897318373510444], [357.5, 2500, 7.123531695674999], [357.5, 3000, 5.941738482014117], [357.5, 3500, 5.098279581357733], [357.5, 4000, 4.466600622546948], [392.5, 1000, 16.709975709759927], [392.5, 1500, 11.150622013193804], [392.5, 2000, 8.372617057081422], [392.5, 2500, 6.70749329331884], [392.5, 3000, 5.599199434462843], [392.5, 3500, 4.809532577561027], [392.5, 4000, 4.219624152417449], [427.5, 1000, 15.917278264449575], [427.5, 1500, 10.627784344017705], [427.5, 2000, 7.986663944243816], [427.5, 2500, 6.405957691432849], [427.5, 3000, 5.356839873675717]]\n",
      "427.5 3500\n",
      "[[217.5, 1000, 26.359862313055235], [217.5, 1500, 17.575286365586024], [217.5, 2000, 13.182754743055115], [217.5, 2500, 10.547482590397868], [217.5, 3000, 8.790916864793687], [217.5, 3500, 7.535835982043411], [217.5, 4000, 6.594713923387581], [252.5, 1000, 23.31771159173259], [252.5, 1500, 15.547818666383403], [252.5, 2000, 11.66294422181887], [252.5, 2500, 9.332090274187584], [252.5, 3000, 7.7780834737261095], [252.5, 3500, 6.668266946186236], [252.5, 4000, 5.836144873681682], [287.5, 1000, 20.973518906210497], [287.5, 1500, 13.98593854772746], [287.5, 2000, 10.492334863522148], [287.5, 2500, 8.396318386741802], [287.5, 3000, 6.9991197155985825], [287.5, 3500, 6.001209624967484], [287.5, 4000, 5.252940643078371], [322.5, 1000, 19.164082468000082], [322.5, 1500, 12.781068424500564], [322.5, 2000, 9.5899371623623], [322.5, 2500, 7.675580962611535], [322.5, 3000, 6.39966850782411], [322.5, 3500, 5.488552517533305], [322.5, 4000, 4.805571256221459], [357.5, 1000, 17.771500208794116], [357.5, 1500, 11.85485392896474], [357.5, 2000, 8.897318373510444], [357.5, 2500, 7.123531695674999], [357.5, 3000, 5.941738482014117], [357.5, 3500, 5.098279581357733], [357.5, 4000, 4.466600622546948], [392.5, 1000, 16.709975709759927], [392.5, 1500, 11.150622013193804], [392.5, 2000, 8.372617057081422], [392.5, 2500, 6.70749329331884], [392.5, 3000, 5.599199434462843], [392.5, 3500, 4.809532577561027], [392.5, 4000, 4.219624152417449], [427.5, 1000, 15.917278264449575], [427.5, 1500, 10.627784344017705], [427.5, 2000, 7.986663944243816], [427.5, 2500, 6.405957691432849], [427.5, 3000, 5.356839873675717], [427.5, 3500, 4.6134053384892475]]\n",
      "427.5 4000\n",
      "[[217.5, 1000, 26.359862313055235], [217.5, 1500, 17.575286365586024], [217.5, 2000, 13.182754743055115], [217.5, 2500, 10.547482590397868], [217.5, 3000, 8.790916864793687], [217.5, 3500, 7.535835982043411], [217.5, 4000, 6.594713923387581], [252.5, 1000, 23.31771159173259], [252.5, 1500, 15.547818666383403], [252.5, 2000, 11.66294422181887], [252.5, 2500, 9.332090274187584], [252.5, 3000, 7.7780834737261095], [252.5, 3500, 6.668266946186236], [252.5, 4000, 5.836144873681682], [287.5, 1000, 20.973518906210497], [287.5, 1500, 13.98593854772746], [287.5, 2000, 10.492334863522148], [287.5, 2500, 8.396318386741802], [287.5, 3000, 6.9991197155985825], [287.5, 3500, 6.001209624967484], [287.5, 4000, 5.252940643078371], [322.5, 1000, 19.164082468000082], [322.5, 1500, 12.781068424500564], [322.5, 2000, 9.5899371623623], [322.5, 2500, 7.675580962611535], [322.5, 3000, 6.39966850782411], [322.5, 3500, 5.488552517533305], [322.5, 4000, 4.805571256221459], [357.5, 1000, 17.771500208794116], [357.5, 1500, 11.85485392896474], [357.5, 2000, 8.897318373510444], [357.5, 2500, 7.123531695674999], [357.5, 3000, 5.941738482014117], [357.5, 3500, 5.098279581357733], [357.5, 4000, 4.466600622546948], [392.5, 1000, 16.709975709759927], [392.5, 1500, 11.150622013193804], [392.5, 2000, 8.372617057081422], [392.5, 2500, 6.70749329331884], [392.5, 3000, 5.599199434462843], [392.5, 3500, 4.809532577561027], [392.5, 4000, 4.219624152417449], [427.5, 1000, 15.917278264449575], [427.5, 1500, 10.627784344017705], [427.5, 2000, 7.986663944243816], [427.5, 2500, 6.405957691432849], [427.5, 3000, 5.356839873675717], [427.5, 3500, 4.6134053384892475], [427.5, 4000, 2232410.950927189]]\n",
      "462.5 1000\n",
      "[[217.5, 1000, 26.359862313055235], [217.5, 1500, 17.575286365586024], [217.5, 2000, 13.182754743055115], [217.5, 2500, 10.547482590397868], [217.5, 3000, 8.790916864793687], [217.5, 3500, 7.535835982043411], [217.5, 4000, 6.594713923387581], [252.5, 1000, 23.31771159173259], [252.5, 1500, 15.547818666383403], [252.5, 2000, 11.66294422181887], [252.5, 2500, 9.332090274187584], [252.5, 3000, 7.7780834737261095], [252.5, 3500, 6.668266946186236], [252.5, 4000, 5.836144873681682], [287.5, 1000, 20.973518906210497], [287.5, 1500, 13.98593854772746], [287.5, 2000, 10.492334863522148], [287.5, 2500, 8.396318386741802], [287.5, 3000, 6.9991197155985825], [287.5, 3500, 6.001209624967484], [287.5, 4000, 5.252940643078371], [322.5, 1000, 19.164082468000082], [322.5, 1500, 12.781068424500564], [322.5, 2000, 9.5899371623623], [322.5, 2500, 7.675580962611535], [322.5, 3000, 6.39966850782411], [322.5, 3500, 5.488552517533305], [322.5, 4000, 4.805571256221459], [357.5, 1000, 17.771500208794116], [357.5, 1500, 11.85485392896474], [357.5, 2000, 8.897318373510444], [357.5, 2500, 7.123531695674999], [357.5, 3000, 5.941738482014117], [357.5, 3500, 5.098279581357733], [357.5, 4000, 4.466600622546948], [392.5, 1000, 16.709975709759927], [392.5, 1500, 11.150622013193804], [392.5, 2000, 8.372617057081422], [392.5, 2500, 6.70749329331884], [392.5, 3000, 5.599199434462843], [392.5, 3500, 4.809532577561027], [392.5, 4000, 4.219624152417449], [427.5, 1000, 15.917278264449575], [427.5, 1500, 10.627784344017705], [427.5, 2000, 7.986663944243816], [427.5, 2500, 6.405957691432849], [427.5, 3000, 5.356839873675717], [427.5, 3500, 4.6134053384892475], [427.5, 4000, 2232410.950927189], [462.5, 1000, 15.349015766986703]]\n",
      "462.5 1500\n",
      "[[217.5, 1000, 26.359862313055235], [217.5, 1500, 17.575286365586024], [217.5, 2000, 13.182754743055115], [217.5, 2500, 10.547482590397868], [217.5, 3000, 8.790916864793687], [217.5, 3500, 7.535835982043411], [217.5, 4000, 6.594713923387581], [252.5, 1000, 23.31771159173259], [252.5, 1500, 15.547818666383403], [252.5, 2000, 11.66294422181887], [252.5, 2500, 9.332090274187584], [252.5, 3000, 7.7780834737261095], [252.5, 3500, 6.668266946186236], [252.5, 4000, 5.836144873681682], [287.5, 1000, 20.973518906210497], [287.5, 1500, 13.98593854772746], [287.5, 2000, 10.492334863522148], [287.5, 2500, 8.396318386741802], [287.5, 3000, 6.9991197155985825], [287.5, 3500, 6.001209624967484], [287.5, 4000, 5.252940643078371], [322.5, 1000, 19.164082468000082], [322.5, 1500, 12.781068424500564], [322.5, 2000, 9.5899371623623], [322.5, 2500, 7.675580962611535], [322.5, 3000, 6.39966850782411], [322.5, 3500, 5.488552517533305], [322.5, 4000, 4.805571256221459], [357.5, 1000, 17.771500208794116], [357.5, 1500, 11.85485392896474], [357.5, 2000, 8.897318373510444], [357.5, 2500, 7.123531695674999], [357.5, 3000, 5.941738482014117], [357.5, 3500, 5.098279581357733], [357.5, 4000, 4.466600622546948], [392.5, 1000, 16.709975709759927], [392.5, 1500, 11.150622013193804], [392.5, 2000, 8.372617057081422], [392.5, 2500, 6.70749329331884], [392.5, 3000, 5.599199434462843], [392.5, 3500, 4.809532577561027], [392.5, 4000, 4.219624152417449], [427.5, 1000, 15.917278264449575], [427.5, 1500, 10.627784344017705], [427.5, 2000, 7.986663944243816], [427.5, 2500, 6.405957691432849], [427.5, 3000, 5.356839873675717], [427.5, 3500, 4.6134053384892475], [427.5, 4000, 2232410.950927189], [462.5, 1000, 15.349015766986703], [462.5, 1500, 10.258331758916981]]\n",
      "462.5 2000\n",
      "[[217.5, 1000, 26.359862313055235], [217.5, 1500, 17.575286365586024], [217.5, 2000, 13.182754743055115], [217.5, 2500, 10.547482590397868], [217.5, 3000, 8.790916864793687], [217.5, 3500, 7.535835982043411], [217.5, 4000, 6.594713923387581], [252.5, 1000, 23.31771159173259], [252.5, 1500, 15.547818666383403], [252.5, 2000, 11.66294422181887], [252.5, 2500, 9.332090274187584], [252.5, 3000, 7.7780834737261095], [252.5, 3500, 6.668266946186236], [252.5, 4000, 5.836144873681682], [287.5, 1000, 20.973518906210497], [287.5, 1500, 13.98593854772746], [287.5, 2000, 10.492334863522148], [287.5, 2500, 8.396318386741802], [287.5, 3000, 6.9991197155985825], [287.5, 3500, 6.001209624967484], [287.5, 4000, 5.252940643078371], [322.5, 1000, 19.164082468000082], [322.5, 1500, 12.781068424500564], [322.5, 2000, 9.5899371623623], [322.5, 2500, 7.675580962611535], [322.5, 3000, 6.39966850782411], [322.5, 3500, 5.488552517533305], [322.5, 4000, 4.805571256221459], [357.5, 1000, 17.771500208794116], [357.5, 1500, 11.85485392896474], [357.5, 2000, 8.897318373510444], [357.5, 2500, 7.123531695674999], [357.5, 3000, 5.941738482014117], [357.5, 3500, 5.098279581357733], [357.5, 4000, 4.466600622546948], [392.5, 1000, 16.709975709759927], [392.5, 1500, 11.150622013193804], [392.5, 2000, 8.372617057081422], [392.5, 2500, 6.70749329331884], [392.5, 3000, 5.599199434462843], [392.5, 3500, 4.809532577561027], [392.5, 4000, 4.219624152417449], [427.5, 1000, 15.917278264449575], [427.5, 1500, 10.627784344017705], [427.5, 2000, 7.986663944243816], [427.5, 2500, 6.405957691432849], [427.5, 3000, 5.356839873675717], [427.5, 3500, 4.6134053384892475], [427.5, 4000, 2232410.950927189], [462.5, 1000, 15.349015766986703], [462.5, 1500, 10.258331758916981], [462.5, 2000, 7.721057282920968]]\n",
      "462.5 2500\n",
      "[[217.5, 1000, 26.359862313055235], [217.5, 1500, 17.575286365586024], [217.5, 2000, 13.182754743055115], [217.5, 2500, 10.547482590397868], [217.5, 3000, 8.790916864793687], [217.5, 3500, 7.535835982043411], [217.5, 4000, 6.594713923387581], [252.5, 1000, 23.31771159173259], [252.5, 1500, 15.547818666383403], [252.5, 2000, 11.66294422181887], [252.5, 2500, 9.332090274187584], [252.5, 3000, 7.7780834737261095], [252.5, 3500, 6.668266946186236], [252.5, 4000, 5.836144873681682], [287.5, 1000, 20.973518906210497], [287.5, 1500, 13.98593854772746], [287.5, 2000, 10.492334863522148], [287.5, 2500, 8.396318386741802], [287.5, 3000, 6.9991197155985825], [287.5, 3500, 6.001209624967484], [287.5, 4000, 5.252940643078371], [322.5, 1000, 19.164082468000082], [322.5, 1500, 12.781068424500564], [322.5, 2000, 9.5899371623623], [322.5, 2500, 7.675580962611535], [322.5, 3000, 6.39966850782411], [322.5, 3500, 5.488552517533305], [322.5, 4000, 4.805571256221459], [357.5, 1000, 17.771500208794116], [357.5, 1500, 11.85485392896474], [357.5, 2000, 8.897318373510444], [357.5, 2500, 7.123531695674999], [357.5, 3000, 5.941738482014117], [357.5, 3500, 5.098279581357733], [357.5, 4000, 4.466600622546948], [392.5, 1000, 16.709975709759927], [392.5, 1500, 11.150622013193804], [392.5, 2000, 8.372617057081422], [392.5, 2500, 6.70749329331884], [392.5, 3000, 5.599199434462843], [392.5, 3500, 4.809532577561027], [392.5, 4000, 4.219624152417449], [427.5, 1000, 15.917278264449575], [427.5, 1500, 10.627784344017705], [427.5, 2000, 7.986663944243816], [427.5, 2500, 6.405957691432849], [427.5, 3000, 5.356839873675717], [427.5, 3500, 4.6134053384892475], [427.5, 4000, 2232410.950927189], [462.5, 1000, 15.349015766986703], [462.5, 1500, 10.258331758916981], [462.5, 2000, 7.721057282920968], [462.5, 2500, 6.208585549429971]]\n",
      "462.5 3000\n",
      "[[217.5, 1000, 26.359862313055235], [217.5, 1500, 17.575286365586024], [217.5, 2000, 13.182754743055115], [217.5, 2500, 10.547482590397868], [217.5, 3000, 8.790916864793687], [217.5, 3500, 7.535835982043411], [217.5, 4000, 6.594713923387581], [252.5, 1000, 23.31771159173259], [252.5, 1500, 15.547818666383403], [252.5, 2000, 11.66294422181887], [252.5, 2500, 9.332090274187584], [252.5, 3000, 7.7780834737261095], [252.5, 3500, 6.668266946186236], [252.5, 4000, 5.836144873681682], [287.5, 1000, 20.973518906210497], [287.5, 1500, 13.98593854772746], [287.5, 2000, 10.492334863522148], [287.5, 2500, 8.396318386741802], [287.5, 3000, 6.9991197155985825], [287.5, 3500, 6.001209624967484], [287.5, 4000, 5.252940643078371], [322.5, 1000, 19.164082468000082], [322.5, 1500, 12.781068424500564], [322.5, 2000, 9.5899371623623], [322.5, 2500, 7.675580962611535], [322.5, 3000, 6.39966850782411], [322.5, 3500, 5.488552517533305], [322.5, 4000, 4.805571256221459], [357.5, 1000, 17.771500208794116], [357.5, 1500, 11.85485392896474], [357.5, 2000, 8.897318373510444], [357.5, 2500, 7.123531695674999], [357.5, 3000, 5.941738482014117], [357.5, 3500, 5.098279581357733], [357.5, 4000, 4.466600622546948], [392.5, 1000, 16.709975709759927], [392.5, 1500, 11.150622013193804], [392.5, 2000, 8.372617057081422], [392.5, 2500, 6.70749329331884], [392.5, 3000, 5.599199434462843], [392.5, 3500, 4.809532577561027], [392.5, 4000, 4.219624152417449], [427.5, 1000, 15.917278264449575], [427.5, 1500, 10.627784344017705], [427.5, 2000, 7.986663944243816], [427.5, 2500, 6.405957691432849], [427.5, 3000, 5.356839873675717], [427.5, 3500, 4.6134053384892475], [427.5, 4000, 2232410.950927189], [462.5, 1000, 15.349015766986703], [462.5, 1500, 10.258331758916981], [462.5, 2000, 7.721057282920968], [462.5, 2500, 6.208585549429971], [462.5, 3000, 1131420.0953868213]]\n",
      "462.5 3500\n",
      "[[217.5, 1000, 26.359862313055235], [217.5, 1500, 17.575286365586024], [217.5, 2000, 13.182754743055115], [217.5, 2500, 10.547482590397868], [217.5, 3000, 8.790916864793687], [217.5, 3500, 7.535835982043411], [217.5, 4000, 6.594713923387581], [252.5, 1000, 23.31771159173259], [252.5, 1500, 15.547818666383403], [252.5, 2000, 11.66294422181887], [252.5, 2500, 9.332090274187584], [252.5, 3000, 7.7780834737261095], [252.5, 3500, 6.668266946186236], [252.5, 4000, 5.836144873681682], [287.5, 1000, 20.973518906210497], [287.5, 1500, 13.98593854772746], [287.5, 2000, 10.492334863522148], [287.5, 2500, 8.396318386741802], [287.5, 3000, 6.9991197155985825], [287.5, 3500, 6.001209624967484], [287.5, 4000, 5.252940643078371], [322.5, 1000, 19.164082468000082], [322.5, 1500, 12.781068424500564], [322.5, 2000, 9.5899371623623], [322.5, 2500, 7.675580962611535], [322.5, 3000, 6.39966850782411], [322.5, 3500, 5.488552517533305], [322.5, 4000, 4.805571256221459], [357.5, 1000, 17.771500208794116], [357.5, 1500, 11.85485392896474], [357.5, 2000, 8.897318373510444], [357.5, 2500, 7.123531695674999], [357.5, 3000, 5.941738482014117], [357.5, 3500, 5.098279581357733], [357.5, 4000, 4.466600622546948], [392.5, 1000, 16.709975709759927], [392.5, 1500, 11.150622013193804], [392.5, 2000, 8.372617057081422], [392.5, 2500, 6.70749329331884], [392.5, 3000, 5.599199434462843], [392.5, 3500, 4.809532577561027], [392.5, 4000, 4.219624152417449], [427.5, 1000, 15.917278264449575], [427.5, 1500, 10.627784344017705], [427.5, 2000, 7.986663944243816], [427.5, 2500, 6.405957691432849], [427.5, 3000, 5.356839873675717], [427.5, 3500, 4.6134053384892475], [427.5, 4000, 2232410.950927189], [462.5, 1000, 15.349015766986703], [462.5, 1500, 10.258331758916981], [462.5, 2000, 7.721057282920968], [462.5, 2500, 6.208585549429971], [462.5, 3000, 1131420.0953868213], [462.5, 3500, 5206791.817494643]]\n",
      "462.5 4000\n",
      "[[217.5, 1000, 26.359862313055235], [217.5, 1500, 17.575286365586024], [217.5, 2000, 13.182754743055115], [217.5, 2500, 10.547482590397868], [217.5, 3000, 8.790916864793687], [217.5, 3500, 7.535835982043411], [217.5, 4000, 6.594713923387581], [252.5, 1000, 23.31771159173259], [252.5, 1500, 15.547818666383403], [252.5, 2000, 11.66294422181887], [252.5, 2500, 9.332090274187584], [252.5, 3000, 7.7780834737261095], [252.5, 3500, 6.668266946186236], [252.5, 4000, 5.836144873681682], [287.5, 1000, 20.973518906210497], [287.5, 1500, 13.98593854772746], [287.5, 2000, 10.492334863522148], [287.5, 2500, 8.396318386741802], [287.5, 3000, 6.9991197155985825], [287.5, 3500, 6.001209624967484], [287.5, 4000, 5.252940643078371], [322.5, 1000, 19.164082468000082], [322.5, 1500, 12.781068424500564], [322.5, 2000, 9.5899371623623], [322.5, 2500, 7.675580962611535], [322.5, 3000, 6.39966850782411], [322.5, 3500, 5.488552517533305], [322.5, 4000, 4.805571256221459], [357.5, 1000, 17.771500208794116], [357.5, 1500, 11.85485392896474], [357.5, 2000, 8.897318373510444], [357.5, 2500, 7.123531695674999], [357.5, 3000, 5.941738482014117], [357.5, 3500, 5.098279581357733], [357.5, 4000, 4.466600622546948], [392.5, 1000, 16.709975709759927], [392.5, 1500, 11.150622013193804], [392.5, 2000, 8.372617057081422], [392.5, 2500, 6.70749329331884], [392.5, 3000, 5.599199434462843], [392.5, 3500, 4.809532577561027], [392.5, 4000, 4.219624152417449], [427.5, 1000, 15.917278264449575], [427.5, 1500, 10.627784344017705], [427.5, 2000, 7.986663944243816], [427.5, 2500, 6.405957691432849], [427.5, 3000, 5.356839873675717], [427.5, 3500, 4.6134053384892475], [427.5, 4000, 2232410.950927189], [462.5, 1000, 15.349015766986703], [462.5, 1500, 10.258331758916981], [462.5, 2000, 7.721057282920968], [462.5, 2500, 6.208585549429971], [462.5, 3000, 1131420.0953868213], [462.5, 3500, 5206791.817494643], [462.5, 4000, 10968045.460871847]]\n",
      "497.5 1000\n",
      "[[217.5, 1000, 26.359862313055235], [217.5, 1500, 17.575286365586024], [217.5, 2000, 13.182754743055115], [217.5, 2500, 10.547482590397868], [217.5, 3000, 8.790916864793687], [217.5, 3500, 7.535835982043411], [217.5, 4000, 6.594713923387581], [252.5, 1000, 23.31771159173259], [252.5, 1500, 15.547818666383403], [252.5, 2000, 11.66294422181887], [252.5, 2500, 9.332090274187584], [252.5, 3000, 7.7780834737261095], [252.5, 3500, 6.668266946186236], [252.5, 4000, 5.836144873681682], [287.5, 1000, 20.973518906210497], [287.5, 1500, 13.98593854772746], [287.5, 2000, 10.492334863522148], [287.5, 2500, 8.396318386741802], [287.5, 3000, 6.9991197155985825], [287.5, 3500, 6.001209624967484], [287.5, 4000, 5.252940643078371], [322.5, 1000, 19.164082468000082], [322.5, 1500, 12.781068424500564], [322.5, 2000, 9.5899371623623], [322.5, 2500, 7.675580962611535], [322.5, 3000, 6.39966850782411], [322.5, 3500, 5.488552517533305], [322.5, 4000, 4.805571256221459], [357.5, 1000, 17.771500208794116], [357.5, 1500, 11.85485392896474], [357.5, 2000, 8.897318373510444], [357.5, 2500, 7.123531695674999], [357.5, 3000, 5.941738482014117], [357.5, 3500, 5.098279581357733], [357.5, 4000, 4.466600622546948], [392.5, 1000, 16.709975709759927], [392.5, 1500, 11.150622013193804], [392.5, 2000, 8.372617057081422], [392.5, 2500, 6.70749329331884], [392.5, 3000, 5.599199434462843], [392.5, 3500, 4.809532577561027], [392.5, 4000, 4.219624152417449], [427.5, 1000, 15.917278264449575], [427.5, 1500, 10.627784344017705], [427.5, 2000, 7.986663944243816], [427.5, 2500, 6.405957691432849], [427.5, 3000, 5.356839873675717], [427.5, 3500, 4.6134053384892475], [427.5, 4000, 2232410.950927189], [462.5, 1000, 15.349015766986703], [462.5, 1500, 10.258331758916981], [462.5, 2000, 7.721057282920968], [462.5, 2500, 6.208585549429971], [462.5, 3000, 1131420.0953868213], [462.5, 3500, 5206791.817494643], [462.5, 4000, 10968045.460871847], [497.5, 1000, 14.974793069867445]]\n",
      "497.5 1500\n",
      "[[217.5, 1000, 26.359862313055235], [217.5, 1500, 17.575286365586024], [217.5, 2000, 13.182754743055115], [217.5, 2500, 10.547482590397868], [217.5, 3000, 8.790916864793687], [217.5, 3500, 7.535835982043411], [217.5, 4000, 6.594713923387581], [252.5, 1000, 23.31771159173259], [252.5, 1500, 15.547818666383403], [252.5, 2000, 11.66294422181887], [252.5, 2500, 9.332090274187584], [252.5, 3000, 7.7780834737261095], [252.5, 3500, 6.668266946186236], [252.5, 4000, 5.836144873681682], [287.5, 1000, 20.973518906210497], [287.5, 1500, 13.98593854772746], [287.5, 2000, 10.492334863522148], [287.5, 2500, 8.396318386741802], [287.5, 3000, 6.9991197155985825], [287.5, 3500, 6.001209624967484], [287.5, 4000, 5.252940643078371], [322.5, 1000, 19.164082468000082], [322.5, 1500, 12.781068424500564], [322.5, 2000, 9.5899371623623], [322.5, 2500, 7.675580962611535], [322.5, 3000, 6.39966850782411], [322.5, 3500, 5.488552517533305], [322.5, 4000, 4.805571256221459], [357.5, 1000, 17.771500208794116], [357.5, 1500, 11.85485392896474], [357.5, 2000, 8.897318373510444], [357.5, 2500, 7.123531695674999], [357.5, 3000, 5.941738482014117], [357.5, 3500, 5.098279581357733], [357.5, 4000, 4.466600622546948], [392.5, 1000, 16.709975709759927], [392.5, 1500, 11.150622013193804], [392.5, 2000, 8.372617057081422], [392.5, 2500, 6.70749329331884], [392.5, 3000, 5.599199434462843], [392.5, 3500, 4.809532577561027], [392.5, 4000, 4.219624152417449], [427.5, 1000, 15.917278264449575], [427.5, 1500, 10.627784344017705], [427.5, 2000, 7.986663944243816], [427.5, 2500, 6.405957691432849], [427.5, 3000, 5.356839873675717], [427.5, 3500, 4.6134053384892475], [427.5, 4000, 2232410.950927189], [462.5, 1000, 15.349015766986703], [462.5, 1500, 10.258331758916981], [462.5, 2000, 7.721057282920968], [462.5, 2500, 6.208585549429971], [462.5, 3000, 1131420.0953868213], [462.5, 3500, 5206791.817494643], [462.5, 4000, 10968045.460871847], [497.5, 1000, 14.974793069867445], [497.5, 1500, 10.02498799319673]]\n",
      "497.5 2000\n",
      "[[217.5, 1000, 26.359862313055235], [217.5, 1500, 17.575286365586024], [217.5, 2000, 13.182754743055115], [217.5, 2500, 10.547482590397868], [217.5, 3000, 8.790916864793687], [217.5, 3500, 7.535835982043411], [217.5, 4000, 6.594713923387581], [252.5, 1000, 23.31771159173259], [252.5, 1500, 15.547818666383403], [252.5, 2000, 11.66294422181887], [252.5, 2500, 9.332090274187584], [252.5, 3000, 7.7780834737261095], [252.5, 3500, 6.668266946186236], [252.5, 4000, 5.836144873681682], [287.5, 1000, 20.973518906210497], [287.5, 1500, 13.98593854772746], [287.5, 2000, 10.492334863522148], [287.5, 2500, 8.396318386741802], [287.5, 3000, 6.9991197155985825], [287.5, 3500, 6.001209624967484], [287.5, 4000, 5.252940643078371], [322.5, 1000, 19.164082468000082], [322.5, 1500, 12.781068424500564], [322.5, 2000, 9.5899371623623], [322.5, 2500, 7.675580962611535], [322.5, 3000, 6.39966850782411], [322.5, 3500, 5.488552517533305], [322.5, 4000, 4.805571256221459], [357.5, 1000, 17.771500208794116], [357.5, 1500, 11.85485392896474], [357.5, 2000, 8.897318373510444], [357.5, 2500, 7.123531695674999], [357.5, 3000, 5.941738482014117], [357.5, 3500, 5.098279581357733], [357.5, 4000, 4.466600622546948], [392.5, 1000, 16.709975709759927], [392.5, 1500, 11.150622013193804], [392.5, 2000, 8.372617057081422], [392.5, 2500, 6.70749329331884], [392.5, 3000, 5.599199434462843], [392.5, 3500, 4.809532577561027], [392.5, 4000, 4.219624152417449], [427.5, 1000, 15.917278264449575], [427.5, 1500, 10.627784344017705], [427.5, 2000, 7.986663944243816], [427.5, 2500, 6.405957691432849], [427.5, 3000, 5.356839873675717], [427.5, 3500, 4.6134053384892475], [427.5, 4000, 2232410.950927189], [462.5, 1000, 15.349015766986703], [462.5, 1500, 10.258331758916981], [462.5, 2000, 7.721057282920968], [462.5, 2500, 6.208585549429971], [462.5, 3000, 1131420.0953868213], [462.5, 3500, 5206791.817494643], [462.5, 4000, 10968045.460871847], [497.5, 1000, 14.974793069867445], [497.5, 1500, 10.02498799319673], [497.5, 2000, 7.568389020564903]]\n",
      "497.5 2500\n",
      "[[217.5, 1000, 26.359862313055235], [217.5, 1500, 17.575286365586024], [217.5, 2000, 13.182754743055115], [217.5, 2500, 10.547482590397868], [217.5, 3000, 8.790916864793687], [217.5, 3500, 7.535835982043411], [217.5, 4000, 6.594713923387581], [252.5, 1000, 23.31771159173259], [252.5, 1500, 15.547818666383403], [252.5, 2000, 11.66294422181887], [252.5, 2500, 9.332090274187584], [252.5, 3000, 7.7780834737261095], [252.5, 3500, 6.668266946186236], [252.5, 4000, 5.836144873681682], [287.5, 1000, 20.973518906210497], [287.5, 1500, 13.98593854772746], [287.5, 2000, 10.492334863522148], [287.5, 2500, 8.396318386741802], [287.5, 3000, 6.9991197155985825], [287.5, 3500, 6.001209624967484], [287.5, 4000, 5.252940643078371], [322.5, 1000, 19.164082468000082], [322.5, 1500, 12.781068424500564], [322.5, 2000, 9.5899371623623], [322.5, 2500, 7.675580962611535], [322.5, 3000, 6.39966850782411], [322.5, 3500, 5.488552517533305], [322.5, 4000, 4.805571256221459], [357.5, 1000, 17.771500208794116], [357.5, 1500, 11.85485392896474], [357.5, 2000, 8.897318373510444], [357.5, 2500, 7.123531695674999], [357.5, 3000, 5.941738482014117], [357.5, 3500, 5.098279581357733], [357.5, 4000, 4.466600622546948], [392.5, 1000, 16.709975709759927], [392.5, 1500, 11.150622013193804], [392.5, 2000, 8.372617057081422], [392.5, 2500, 6.70749329331884], [392.5, 3000, 5.599199434462843], [392.5, 3500, 4.809532577561027], [392.5, 4000, 4.219624152417449], [427.5, 1000, 15.917278264449575], [427.5, 1500, 10.627784344017705], [427.5, 2000, 7.986663944243816], [427.5, 2500, 6.405957691432849], [427.5, 3000, 5.356839873675717], [427.5, 3500, 4.6134053384892475], [427.5, 4000, 2232410.950927189], [462.5, 1000, 15.349015766986703], [462.5, 1500, 10.258331758916981], [462.5, 2000, 7.721057282920968], [462.5, 2500, 6.208585549429971], [462.5, 3000, 1131420.0953868213], [462.5, 3500, 5206791.817494643], [462.5, 4000, 10968045.460871847], [497.5, 1000, 14.974793069867445], [497.5, 1500, 10.02498799319673], [497.5, 2000, 7.568389020564903], [497.5, 2500, 1673090.2147472545]]\n",
      "497.5 3000\n",
      "[[217.5, 1000, 26.359862313055235], [217.5, 1500, 17.575286365586024], [217.5, 2000, 13.182754743055115], [217.5, 2500, 10.547482590397868], [217.5, 3000, 8.790916864793687], [217.5, 3500, 7.535835982043411], [217.5, 4000, 6.594713923387581], [252.5, 1000, 23.31771159173259], [252.5, 1500, 15.547818666383403], [252.5, 2000, 11.66294422181887], [252.5, 2500, 9.332090274187584], [252.5, 3000, 7.7780834737261095], [252.5, 3500, 6.668266946186236], [252.5, 4000, 5.836144873681682], [287.5, 1000, 20.973518906210497], [287.5, 1500, 13.98593854772746], [287.5, 2000, 10.492334863522148], [287.5, 2500, 8.396318386741802], [287.5, 3000, 6.9991197155985825], [287.5, 3500, 6.001209624967484], [287.5, 4000, 5.252940643078371], [322.5, 1000, 19.164082468000082], [322.5, 1500, 12.781068424500564], [322.5, 2000, 9.5899371623623], [322.5, 2500, 7.675580962611535], [322.5, 3000, 6.39966850782411], [322.5, 3500, 5.488552517533305], [322.5, 4000, 4.805571256221459], [357.5, 1000, 17.771500208794116], [357.5, 1500, 11.85485392896474], [357.5, 2000, 8.897318373510444], [357.5, 2500, 7.123531695674999], [357.5, 3000, 5.941738482014117], [357.5, 3500, 5.098279581357733], [357.5, 4000, 4.466600622546948], [392.5, 1000, 16.709975709759927], [392.5, 1500, 11.150622013193804], [392.5, 2000, 8.372617057081422], [392.5, 2500, 6.70749329331884], [392.5, 3000, 5.599199434462843], [392.5, 3500, 4.809532577561027], [392.5, 4000, 4.219624152417449], [427.5, 1000, 15.917278264449575], [427.5, 1500, 10.627784344017705], [427.5, 2000, 7.986663944243816], [427.5, 2500, 6.405957691432849], [427.5, 3000, 5.356839873675717], [427.5, 3500, 4.6134053384892475], [427.5, 4000, 2232410.950927189], [462.5, 1000, 15.349015766986703], [462.5, 1500, 10.258331758916981], [462.5, 2000, 7.721057282920968], [462.5, 2500, 6.208585549429971], [462.5, 3000, 1131420.0953868213], [462.5, 3500, 5206791.817494643], [462.5, 4000, 10968045.460871847], [497.5, 1000, 14.974793069867445], [497.5, 1500, 10.02498799319673], [497.5, 2000, 7.568389020564903], [497.5, 2500, 1673090.2147472545], [497.5, 3000, 6442188.970372534]]\n",
      "497.5 3500\n",
      "[[217.5, 1000, 26.359862313055235], [217.5, 1500, 17.575286365586024], [217.5, 2000, 13.182754743055115], [217.5, 2500, 10.547482590397868], [217.5, 3000, 8.790916864793687], [217.5, 3500, 7.535835982043411], [217.5, 4000, 6.594713923387581], [252.5, 1000, 23.31771159173259], [252.5, 1500, 15.547818666383403], [252.5, 2000, 11.66294422181887], [252.5, 2500, 9.332090274187584], [252.5, 3000, 7.7780834737261095], [252.5, 3500, 6.668266946186236], [252.5, 4000, 5.836144873681682], [287.5, 1000, 20.973518906210497], [287.5, 1500, 13.98593854772746], [287.5, 2000, 10.492334863522148], [287.5, 2500, 8.396318386741802], [287.5, 3000, 6.9991197155985825], [287.5, 3500, 6.001209624967484], [287.5, 4000, 5.252940643078371], [322.5, 1000, 19.164082468000082], [322.5, 1500, 12.781068424500564], [322.5, 2000, 9.5899371623623], [322.5, 2500, 7.675580962611535], [322.5, 3000, 6.39966850782411], [322.5, 3500, 5.488552517533305], [322.5, 4000, 4.805571256221459], [357.5, 1000, 17.771500208794116], [357.5, 1500, 11.85485392896474], [357.5, 2000, 8.897318373510444], [357.5, 2500, 7.123531695674999], [357.5, 3000, 5.941738482014117], [357.5, 3500, 5.098279581357733], [357.5, 4000, 4.466600622546948], [392.5, 1000, 16.709975709759927], [392.5, 1500, 11.150622013193804], [392.5, 2000, 8.372617057081422], [392.5, 2500, 6.70749329331884], [392.5, 3000, 5.599199434462843], [392.5, 3500, 4.809532577561027], [392.5, 4000, 4.219624152417449], [427.5, 1000, 15.917278264449575], [427.5, 1500, 10.627784344017705], [427.5, 2000, 7.986663944243816], [427.5, 2500, 6.405957691432849], [427.5, 3000, 5.356839873675717], [427.5, 3500, 4.6134053384892475], [427.5, 4000, 2232410.950927189], [462.5, 1000, 15.349015766986703], [462.5, 1500, 10.258331758916981], [462.5, 2000, 7.721057282920968], [462.5, 2500, 6.208585549429971], [462.5, 3000, 1131420.0953868213], [462.5, 3500, 5206791.817494643], [462.5, 4000, 10968045.460871847], [497.5, 1000, 14.974793069867445], [497.5, 1500, 10.02498799319673], [497.5, 2000, 7.568389020564903], [497.5, 2500, 1673090.2147472545], [497.5, 3000, 6442188.970372534], [497.5, 3500, 17485364.629906096]]\n",
      "497.5 4000\n",
      "[[217.5, 1000, 26.359862313055235], [217.5, 1500, 17.575286365586024], [217.5, 2000, 13.182754743055115], [217.5, 2500, 10.547482590397868], [217.5, 3000, 8.790916864793687], [217.5, 3500, 7.535835982043411], [217.5, 4000, 6.594713923387581], [252.5, 1000, 23.31771159173259], [252.5, 1500, 15.547818666383403], [252.5, 2000, 11.66294422181887], [252.5, 2500, 9.332090274187584], [252.5, 3000, 7.7780834737261095], [252.5, 3500, 6.668266946186236], [252.5, 4000, 5.836144873681682], [287.5, 1000, 20.973518906210497], [287.5, 1500, 13.98593854772746], [287.5, 2000, 10.492334863522148], [287.5, 2500, 8.396318386741802], [287.5, 3000, 6.9991197155985825], [287.5, 3500, 6.001209624967484], [287.5, 4000, 5.252940643078371], [322.5, 1000, 19.164082468000082], [322.5, 1500, 12.781068424500564], [322.5, 2000, 9.5899371623623], [322.5, 2500, 7.675580962611535], [322.5, 3000, 6.39966850782411], [322.5, 3500, 5.488552517533305], [322.5, 4000, 4.805571256221459], [357.5, 1000, 17.771500208794116], [357.5, 1500, 11.85485392896474], [357.5, 2000, 8.897318373510444], [357.5, 2500, 7.123531695674999], [357.5, 3000, 5.941738482014117], [357.5, 3500, 5.098279581357733], [357.5, 4000, 4.466600622546948], [392.5, 1000, 16.709975709759927], [392.5, 1500, 11.150622013193804], [392.5, 2000, 8.372617057081422], [392.5, 2500, 6.70749329331884], [392.5, 3000, 5.599199434462843], [392.5, 3500, 4.809532577561027], [392.5, 4000, 4.219624152417449], [427.5, 1000, 15.917278264449575], [427.5, 1500, 10.627784344017705], [427.5, 2000, 7.986663944243816], [427.5, 2500, 6.405957691432849], [427.5, 3000, 5.356839873675717], [427.5, 3500, 4.6134053384892475], [427.5, 4000, 2232410.950927189], [462.5, 1000, 15.349015766986703], [462.5, 1500, 10.258331758916981], [462.5, 2000, 7.721057282920968], [462.5, 2500, 6.208585549429971], [462.5, 3000, 1131420.0953868213], [462.5, 3500, 5206791.817494643], [462.5, 4000, 10968045.460871847], [497.5, 1000, 14.974793069867445], [497.5, 1500, 10.02498799319673], [497.5, 2000, 7.568389020564903], [497.5, 2500, 1673090.2147472545], [497.5, 3000, 6442188.970372534], [497.5, 3500, 17485364.629906096], [497.5, 4000, 45959785.18796601]]\n"
     ]
    }
   ],
   "source": [
    "from utils.launch.launch import launch_sensitivity\n",
    "res_list = launch_sensitivity_test(model, eqn)"
   ]
  },
  {
   "cell_type": "code",
   "execution_count": 55,
   "id": "6cc8299e-ffa7-4345-8576-30f90d61ad83",
   "metadata": {},
   "outputs": [
    {
     "data": {
      "text/plain": [
       "[[217.5, 1000, 26.359862313055235],\n",
       " [217.5, 1500, 17.575286365586024],\n",
       " [217.5, 2000, 13.182754743055115],\n",
       " [217.5, 2500, 10.547482590397868],\n",
       " [217.5, 3000, 8.790916864793687],\n",
       " [217.5, 3500, 7.535835982043411],\n",
       " [217.5, 4000, 6.594713923387581],\n",
       " [252.5, 1000, 23.31771159173259],\n",
       " [252.5, 1500, 15.547818666383403],\n",
       " [252.5, 2000, 11.66294422181887],\n",
       " [252.5, 2500, 9.332090274187584],\n",
       " [252.5, 3000, 7.7780834737261095],\n",
       " [252.5, 3500, 6.668266946186236],\n",
       " [252.5, 4000, 5.836144873681682],\n",
       " [287.5, 1000, 20.973518906210497],\n",
       " [287.5, 1500, 13.98593854772746],\n",
       " [287.5, 2000, 10.492334863522148],\n",
       " [287.5, 2500, 8.396318386741802],\n",
       " [287.5, 3000, 6.9991197155985825],\n",
       " [287.5, 3500, 6.001209624967484],\n",
       " [287.5, 4000, 5.252940643078371],\n",
       " [322.5, 1000, 19.164082468000082],\n",
       " [322.5, 1500, 12.781068424500564],\n",
       " [322.5, 2000, 9.5899371623623],\n",
       " [322.5, 2500, 7.675580962611535],\n",
       " [322.5, 3000, 6.39966850782411],\n",
       " [322.5, 3500, 5.488552517533305],\n",
       " [322.5, 4000, 4.805571256221459],\n",
       " [357.5, 1000, 17.771500208794116],\n",
       " [357.5, 1500, 11.85485392896474],\n",
       " [357.5, 2000, 8.897318373510444],\n",
       " [357.5, 2500, 7.123531695674999],\n",
       " [357.5, 3000, 5.941738482014117],\n",
       " [357.5, 3500, 5.098279581357733],\n",
       " [357.5, 4000, 4.466600622546948],\n",
       " [392.5, 1000, 16.709975709759927],\n",
       " [392.5, 1500, 11.150622013193804],\n",
       " [392.5, 2000, 8.372617057081422],\n",
       " [392.5, 2500, 6.70749329331884],\n",
       " [392.5, 3000, 5.599199434462843],\n",
       " [392.5, 3500, 4.809532577561027],\n",
       " [392.5, 4000, 4.219624152417449],\n",
       " [427.5, 1000, 15.917278264449575],\n",
       " [427.5, 1500, 10.627784344017705],\n",
       " [427.5, 2000, 7.986663944243816],\n",
       " [427.5, 2500, 6.405957691432849],\n",
       " [427.5, 3000, 5.356839873675717],\n",
       " [427.5, 3500, 4.6134053384892475],\n",
       " [427.5, 4000, 2232410.950927189],\n",
       " [462.5, 1000, 15.349015766986703],\n",
       " [462.5, 1500, 10.258331758916981],\n",
       " [462.5, 2000, 7.721057282920968],\n",
       " [462.5, 2500, 6.208585549429971],\n",
       " [462.5, 3000, 1131420.0953868213],\n",
       " [462.5, 3500, 5206791.817494643],\n",
       " [462.5, 4000, 10968045.460871847],\n",
       " [497.5, 1000, 14.974793069867445],\n",
       " [497.5, 1500, 10.02498799319673],\n",
       " [497.5, 2000, 7.568389020564903],\n",
       " [497.5, 2500, 1673090.2147472545],\n",
       " [497.5, 3000, 6442188.970372534],\n",
       " [497.5, 3500, 17485364.629906096],\n",
       " [497.5, 4000, 45959785.18796601]]"
      ]
     },
     "execution_count": 55,
     "metadata": {},
     "output_type": "execute_result"
    }
   ],
   "source": [
    "res_list"
   ]
  },
  {
   "cell_type": "code",
   "execution_count": 61,
   "id": "e9b256c6-44b7-4a10-afd0-6c786a4f77d3",
   "metadata": {},
   "outputs": [
    {
     "data": {
      "image/png": "[encoded data removed]",
      "text/plain": [
       "<Figure size 800x600 with 2 Axes>"
      ]
     },
     "metadata": {},
     "output_type": "display_data"
    }
   ],
   "source": [
    "import numpy as np\n",
    "import matplotlib.pyplot as plt\n",
    "\n",
    "data = res_list\n",
    "\n",
    "# list to numpy\n",
    "data = np.array(data)\n",
    "\n",
    "# X, Y, color Z\n",
    "x = data[:, 0]\n",
    "y = data[:, 1]\n",
    "z = data[:, 2]\n",
    "\n",
    "# Heatmap\n",
    "plt.figure(figsize=(8, 6))\n",
    "plt.scatter(x, y, c=z, cmap='viridis')\n",
    "plt.colorbar(label='J value')\n",
    "plt.xlabel('mu_lam (Mean Altitude)')\n",
    "plt.ylabel('lam0 (Launch Factor)')\n",
    "plt.title('launch_rate_per_year = lam0 * exp[-(alt-mu_lam)**2/(300**2)]')\n",
    "plt.show()\n"
   ]
  },
  {
   "cell_type": "code",
   "execution_count": null,
   "id": "c9d13a1d-f2f1-4270-af96-3e3d72faa945",
   "metadata": {},
   "outputs": [],
   "source": []
  },
  {
   "cell_type": "code",
   "execution_count": null,
   "id": "9d9280a2-7876-4482-be39-9ce0a3fdac74",
   "metadata": {},
   "outputs": [],
   "source": [
    "equations = eqn\n",
    "for h in [model.scenario_properties.HMid[-1]]:\n",
    "    full_lambda = []\n",
    "    lam0 = 1000\n",
    "    for i, species in enumerate(model.scenario_properties.species):  \n",
    "        lambda_expr = launch_sensitivity(model.scenario_properties.HMid, model.scenario_properties, h, 300**2, lam0)\n",
    "        full_lambda.append(lambda_expr)\n",
    "\n",
    "    \n",
    "    \n",
    "    full_lambda_flattened = []\n",
    "\n",
    "    for i in range(len(full_lambda)):\n",
    "        if full_lambda[i] is not None:\n",
    "            full_lambda_flattened.extend(full_lambda[i])\n",
    "        else:\n",
    "            # Append None to the list, length of scenario_properties.n_shells\n",
    "            full_lambda_flattened.extend([None]*model.scenario_properties.n_shells)\n",
    "            \n",
    "    output = solve_ivp(model.scenario_properties.population_shell, [model.scenario_properties.scen_times[0], model.scenario_properties.scen_times[-1]],\n",
    "           model.scenario_properties.x0.T.values.flatten(), args=(full_lambda_flattened, equations, model.scenario_properties.scen_times), t_eval=model.scenario_properties.scen_times, method='BDF')\n"
   ]
  },
  {
   "cell_type": "code",
   "execution_count": 9,
   "id": "5c456a69-ff4f-4fdc-9963-2523940c97bd",
   "metadata": {},
   "outputs": [],
   "source": [
    "def S_eq(shell_idx, equations, lam):\n",
    "    full_lambda = []\n",
    "    for i, species in enumerate(model.scenario_properties.species):\n",
    "        lambda_expr = np.array([[lam_shell]*100 for lam_shell in lam])\n",
    "        full_lambda.append(lambda_expr)\n",
    "        \n",
    "    full_lambda_flattened = []\n",
    "    for i in range(len(full_lambda)):\n",
    "        full_lambda_flattened.extend(full_lambda[i])\n",
    "    \n",
    "    #x0 = model.scenario_properties.x0.T.values.flatten()\n",
    "    x0 = [0.0]*60\n",
    "\n",
    "    output = solve_ivp(model.scenario_properties.population_shell, \n",
    "                       [model.scenario_properties.scen_times[0], model.scenario_properties.scen_times[-1]],\n",
    "                       x0, args=(full_lambda_flattened, equations, model.scenario_properties.scen_times), \n",
    "                       t_eval=model.scenario_properties.scen_times, method='BDF')\n",
    "\n",
    "    for species_index in range(0,1):\n",
    "        #species_data = sum(output.y[species_index * 20:(species_index + 1) * 20, shell_idx])\n",
    "        if np.shape(output.y)[1]!=100:\n",
    "            print(np.shape(output.y))\n",
    "        species_data = output.y[species_index * 20:(species_index + 1) * 20, 99][shell_idx]\n",
    "\n",
    "    return species_data\n"
   ]
  },
  {
   "cell_type": "code",
   "execution_count": 10,
   "id": "a109b55d-7e29-49bc-a2aa-c53fead343e3",
   "metadata": {},
   "outputs": [],
   "source": [
    "def S_nc(shell_idx, lam):\n",
    "    deltat = 5\n",
    "    return lam[shell_idx] * deltat"
   ]
  },
  {
   "cell_type": "code",
   "execution_count": 11,
   "id": "5dcad1bc-d866-4c81-9aec-7c05677371de",
   "metadata": {},
   "outputs": [],
   "source": [
    "def J_eqn(equations):\n",
    "    def obj(lam):\n",
    "        res = 0\n",
    "        S_tot_eq = 0\n",
    "        for i in range(0, 20):\n",
    "            s_nc = S_nc(i, lam)\n",
    "            s_eq = S_eq(i, equations, lam)\n",
    "            if (s_nc-s_eq)/s_nc < 0.07:\n",
    "                res+=0\n",
    "            else:\n",
    "                res += s_nc - s_eq\n",
    "            S_tot_eq += s_eq\n",
    "        return 1e6/(S_tot_eq) + 1e3*res\n",
    "    return obj\n",
    "        "
   ]
  },
  {
   "cell_type": "code",
   "execution_count": null,
   "id": "8bc627cd-ea14-41d5-afc5-a61f6bdec377",
   "metadata": {},
   "outputs": [],
   "source": []
  },
  {
   "cell_type": "code",
   "execution_count": 100,
   "id": "e8835e2f-4817-4e69-813b-71a2bf6365ef",
   "metadata": {
    "scrolled": true
   },
   "outputs": [
    {
     "name": "stdout",
     "output_type": "stream",
     "text": [
      "Current lambda: [10000.00021726  6666.66688397  4444.44466175  2962.96318026\n",
      "  1975.30885926  1316.87264526   877.91516926   585.27685186\n",
      "   390.18464031   260.12316591   173.41551625   115.61041062\n",
      "    77.07367738    70.00021625    70.00021626    70.0002165\n",
      "    70.00021657    70.00021069    70.00021068    70.        ]\n",
      "Current objective value: 6.594842702767241\n",
      "Current lambda: [10808.11393252  7471.5587617   5245.32068671  3780.87668609\n",
      "  2772.98158211  2125.86899627  1683.00576686  1388.99293475\n",
      "  1199.53467377  1068.56433674   975.98474365   888.70081223\n",
      "   912.66198286   848.88890671   849.61726436   330.\n",
      "   150.           130.           100.            70.        ]\n",
      "Current objective value: 4.681718394094187\n",
      "Current lambda: [11648.12042544  8308.30839323  6078.14841095  4630.29153804\n",
      "  3602.26315885  2965.79810261  2518.17017273  2221.83531256\n",
      "  2035.81590149  1900.84778152  1798.10804763  1709.33629881\n",
      "  1782.9508337   1615.04434709  1591.48348971   330.\n",
      "   150.           130.           100.            70.        ]\n",
      "Current objective value: 3.647032033543869\n",
      "Current lambda: [12291.01960771  8948.78083671  6715.65491652  5279.59392908\n",
      "  4236.62809208  3607.18699766  3154.94781491  2855.0432121\n",
      "  2668.32432789  2525.30247472  2406.59312129  2301.21933008\n",
      "  2371.18573252  2082.46740881  1950.60097607   330.\n",
      "   150.           130.           100.            70.        ]\n",
      "Current objective value: 3.1527836424828197\n",
      "Current lambda: [12612.60422977  9269.24431244  7034.69794229  5603.78946154\n",
      "  4553.8411226   3927.0584207   3471.87832396  3168.92020416\n",
      "  2979.4799662   2828.80070636  2695.97689824  2569.7348717\n",
      "  2613.87788369  2203.526727    1930.41658512   330.\n",
      "   150.           130.           100.            70.        ]\n",
      "Current objective value: 2.9687168154855077\n",
      "Current lambda: [13895.53562319 10547.78321632  8307.6388698   6895.42543192\n",
      "  5818.41078696  5199.97637187  4730.82640938  4411.65156864\n",
      "  4203.95291012  4011.06394332  3802.23863346  3550.16251253\n",
      "  3379.57973372  2336.77088094  1543.08989906   330.\n",
      "   150.           130.           100.            70.        ]\n",
      "Current objective value: 2.4331599775542045\n",
      "Current lambda: [15208.39989642 11856.36485391  9610.25024462  8215.73795664\n",
      "  7111.08809138  6498.79271577  6012.59084611  5671.94414917\n",
      "  5437.32645962  5188.13390507  4877.88949156  4443.32548356\n",
      "  3917.05129051  2223.40943043  1286.85254398   330.\n",
      "   150.           130.           100.            70.        ]\n",
      "Current objective value: 2.0679961944922147\n",
      "Current lambda: [16067.87674407 12712.83845872 10462.7743526   9078.84511807\n",
      "  7955.95001542  7346.0638678   6846.42488102  6488.02241947\n",
      "  6229.31579006  5932.36469753  5535.275214    4931.65389497\n",
      "  4066.41831884  2048.67589579  1155.29419168   330.\n",
      "   150.           130.           100.            70.        ]\n",
      "Current objective value: 1.8903798339490794\n",
      "Current lambda: [18245.75803927 14883.48142704 12622.71058829 11263.44930631\n",
      " 10093.60981438  9485.40135857  8946.33065898  8533.24485037\n",
      "  8197.67438398  7753.02460376  7082.48327467  5925.90617775\n",
      "  4085.94026262  1671.49048978  1021.18278356   330.\n",
      "   150.           130.           100.            70.        ]\n",
      "Current objective value: 1.5608690516825154\n",
      "Current lambda: [20586.4104086  17215.96164476 14943.13207781 13607.50361059\n",
      " 12385.95349491 11774.10835956 11184.72801169 10699.90662778\n",
      " 10259.35145465  9616.53323193  8571.86776813  6650.14983634\n",
      "  3793.37374315  1308.52426804   889.27903302   330.\n",
      "   150.           130.           100.            70.        ]\n",
      "Current objective value: 1.3230211742225737\n",
      "Optimal lambda: [20586.4104086  17215.96164476 14943.13207781 13607.50361059\n",
      " 12385.95349491 11774.10835956 11184.72801169 10699.90662778\n",
      " 10259.35145465  9616.53323193  8571.86776813  6650.14983634\n",
      "  3793.37374315  1308.52426804   889.27903302   330.\n",
      "   150.           130.           100.            70.        ]\n",
      "Optimal J value: 1.3230211742225737\n"
     ]
    }
   ],
   "source": [
    "import numpy as np\n",
    "from scipy.optimize import minimize\n",
    "from scipy.integrate import solve_ivp\n",
    "\n",
    "lb = [70]*20\n",
    "ub = [999925.159, 999796.5873, 999447.2601, 998498.9228, 995930.1472, 989013.8265, 970689.8211, 924147.1301, 817587.246, 622485.759, 377584.241, 182482.754, 75922.86995, 29380.1789, 11056.17354, 330, 150, 130, 100, 70]\n",
    "bounds=[]\n",
    "for i in range(0, 20):\n",
    "    bounds.append((lb[i],ub[i]))\n",
    "\n",
    "# Initial guess for lambda\n",
    "initial_lambda = np.array([1e4/(1.5**i) for i in range(0, 20)])#np.full(20, 100)\n",
    "\n",
    "# The objective function to minimize\n",
    "objective_function = J_eqn(eqn)\n",
    "\n",
    "\n",
    "# 콜백 함수 정의\n",
    "def callback_function(xk):\n",
    "    # 목적 함수 값 계산\n",
    "    current_value = objective_function(xk)\n",
    "\n",
    "    # 중간 결과를 저장할 리스트\n",
    "    intermediate_values = []\n",
    "    \n",
    "    # 중간 결과를 리스트에 추가\n",
    "    intermediate_values.append(current_value)\n",
    "    \n",
    "    # 현재 반복 단계에서의 lambda 값과 목적 함수 값을 출력\n",
    "    print(f\"Current lambda: {xk}\")\n",
    "    print(f\"Current objective value: {current_value}\")\n",
    "\n",
    "# Running the optimization\n",
    "result = minimize(objective_function, initial_lambda, method='L-BFGS-B', bounds=bounds, options = {'maxiter': 1000, 'eps': 10}, callback=callback_function)\n",
    "\n",
    "# Result of the optimization\n",
    "optimal_lambda = result.x\n",
    "optimal_value = result.fun\n",
    "\n",
    "print(\"Optimal lambda:\", optimal_lambda)\n",
    "print(\"Optimal J value:\", optimal_value)"
   ]
  },
  {
   "cell_type": "code",
   "execution_count": 12,
   "id": "197568cc-8a82-4e4c-a118-321c315600e3",
   "metadata": {},
   "outputs": [],
   "source": [
    "def J_eqn_by_shell(equations, shell_idx, full_lam):\n",
    "    def obj(lam):\n",
    "        full_lam[shell_idx] = lam\n",
    "        res = 0\n",
    "        S_tot_eq = 0\n",
    "        for i in range(0, 20):\n",
    "            s_nc = S_nc(i, full_lam)\n",
    "            s_eq = S_eq(i, equations, full_lam)\n",
    "            if (s_nc-s_eq)/s_nc < 0.07:\n",
    "                res+=0\n",
    "            else:\n",
    "                res += s_nc - s_eq\n",
    "            S_tot_eq += s_eq\n",
    "        return 1e6/(S_tot_eq) + 1e3*res\n",
    "    return obj, full_lam\n",
    "        "
   ]
  },
  {
   "cell_type": "code",
   "execution_count": 20,
   "id": "1cfea781-3656-4ea2-ad4f-aa2f7ec77fb4",
   "metadata": {},
   "outputs": [
    {
     "ename": "KeyboardInterrupt",
     "evalue": "",
     "output_type": "error",
     "traceback": [
      "\u001b[0;31m---------------------------------------------------------------------------\u001b[0m",
      "\u001b[0;31mKeyboardInterrupt\u001b[0m                         Traceback (most recent call last)",
      "Cell \u001b[0;32mIn[20], line 35\u001b[0m\n\u001b[1;32m     29\u001b[0m [objective_function, full_lambda] \u001b[38;5;241m=\u001b[39m J_eqn_by_shell(eqn, shell_idx, full_lambda)\n\u001b[1;32m     31\u001b[0m \u001b[38;5;66;03m#bounds=[]\u001b[39;00m\n\u001b[1;32m     32\u001b[0m \u001b[38;5;66;03m#bounds.append((lb[shell_idx],ub[shell_idx]))\u001b[39;00m\n\u001b[1;32m     33\u001b[0m \n\u001b[1;32m     34\u001b[0m \u001b[38;5;66;03m#result = minimize(objective_function, initial_lambda, method='L-BFGS-B', bounds=bounds, options = {'maxiter': 1000, 'eps': 1}, callback=callback_function)\u001b[39;00m\n\u001b[0;32m---> 35\u001b[0m optimal_lambda, optimal_value \u001b[38;5;241m=\u001b[39m \u001b[43mpso\u001b[49m\u001b[43m(\u001b[49m\u001b[43mobjective_function\u001b[49m\u001b[43m,\u001b[49m\u001b[43m \u001b[49m\u001b[43m[\u001b[49m\u001b[43mlb\u001b[49m\u001b[43m[\u001b[49m\u001b[43mshell_idx\u001b[49m\u001b[43m]\u001b[49m\u001b[43m]\u001b[49m\u001b[43m,\u001b[49m\u001b[43m \u001b[49m\u001b[43m[\u001b[49m\u001b[43mub\u001b[49m\u001b[43m[\u001b[49m\u001b[43mshell_idx\u001b[49m\u001b[43m]\u001b[49m\u001b[43m]\u001b[49m\u001b[43m,\u001b[49m\u001b[43m \u001b[49m\u001b[43mswarmsize\u001b[49m\u001b[38;5;241;43m=\u001b[39;49m\u001b[38;5;241;43m100\u001b[39;49m\u001b[43m,\u001b[49m\u001b[43m \u001b[49m\u001b[43mmaxiter\u001b[49m\u001b[38;5;241;43m=\u001b[39;49m\u001b[38;5;241;43m10\u001b[39;49m\u001b[43m)\u001b[49m\n\u001b[1;32m     36\u001b[0m \u001b[38;5;28mprint\u001b[39m(\u001b[38;5;124m\"\u001b[39m\u001b[38;5;124mshell\u001b[39m\u001b[38;5;124m\"\u001b[39m, shell_idx)\n\u001b[1;32m     37\u001b[0m \u001b[38;5;28mprint\u001b[39m(\u001b[38;5;124m\"\u001b[39m\u001b[38;5;124mOptimal lambda:\u001b[39m\u001b[38;5;124m\"\u001b[39m, optimal_lambda)\n",
      "File \u001b[0;32m~/opt/anaconda3/lib/python3.8/site-packages/pyswarm/pso.py:145\u001b[0m, in \u001b[0;36mpso\u001b[0;34m(func, lb, ub, ieqcons, f_ieqcons, args, kwargs, swarmsize, omega, phip, phig, maxiter, minstep, minfunc, debug)\u001b[0m\n\u001b[1;32m    143\u001b[0m x[i, mark1] \u001b[38;5;241m=\u001b[39m lb[mark1]\n\u001b[1;32m    144\u001b[0m x[i, mark2] \u001b[38;5;241m=\u001b[39m ub[mark2]\n\u001b[0;32m--> 145\u001b[0m fx \u001b[38;5;241m=\u001b[39m \u001b[43mobj\u001b[49m\u001b[43m(\u001b[49m\u001b[43mx\u001b[49m\u001b[43m[\u001b[49m\u001b[43mi\u001b[49m\u001b[43m,\u001b[49m\u001b[43m \u001b[49m\u001b[43m:\u001b[49m\u001b[43m]\u001b[49m\u001b[43m)\u001b[49m\n\u001b[1;32m    147\u001b[0m \u001b[38;5;66;03m# Compare particle's best position (if constraints are satisfied)\u001b[39;00m\n\u001b[1;32m    148\u001b[0m \u001b[38;5;28;01mif\u001b[39;00m fx\u001b[38;5;241m<\u001b[39mfp[i] \u001b[38;5;129;01mand\u001b[39;00m is_feasible(x[i, :]):\n",
      "File \u001b[0;32m~/opt/anaconda3/lib/python3.8/site-packages/pyswarm/pso.py:74\u001b[0m, in \u001b[0;36mpso.<locals>.<lambda>\u001b[0;34m(x)\u001b[0m\n\u001b[1;32m     71\u001b[0m vlow \u001b[38;5;241m=\u001b[39m \u001b[38;5;241m-\u001b[39mvhigh\n\u001b[1;32m     73\u001b[0m \u001b[38;5;66;03m# Check for constraint function(s) #########################################\u001b[39;00m\n\u001b[0;32m---> 74\u001b[0m obj \u001b[38;5;241m=\u001b[39m \u001b[38;5;28;01mlambda\u001b[39;00m x: \u001b[43mfunc\u001b[49m\u001b[43m(\u001b[49m\u001b[43mx\u001b[49m\u001b[43m,\u001b[49m\u001b[43m \u001b[49m\u001b[38;5;241;43m*\u001b[39;49m\u001b[43margs\u001b[49m\u001b[43m,\u001b[49m\u001b[43m \u001b[49m\u001b[38;5;241;43m*\u001b[39;49m\u001b[38;5;241;43m*\u001b[39;49m\u001b[43mkwargs\u001b[49m\u001b[43m)\u001b[49m\n\u001b[1;32m     75\u001b[0m \u001b[38;5;28;01mif\u001b[39;00m f_ieqcons \u001b[38;5;129;01mis\u001b[39;00m \u001b[38;5;28;01mNone\u001b[39;00m:\n\u001b[1;32m     76\u001b[0m     \u001b[38;5;28;01mif\u001b[39;00m \u001b[38;5;129;01mnot\u001b[39;00m \u001b[38;5;28mlen\u001b[39m(ieqcons):\n",
      "Cell \u001b[0;32mIn[12], line 8\u001b[0m, in \u001b[0;36mJ_eqn_by_shell.<locals>.obj\u001b[0;34m(lam)\u001b[0m\n\u001b[1;32m      6\u001b[0m \u001b[38;5;28;01mfor\u001b[39;00m i \u001b[38;5;129;01min\u001b[39;00m \u001b[38;5;28mrange\u001b[39m(\u001b[38;5;241m0\u001b[39m, \u001b[38;5;241m20\u001b[39m):\n\u001b[1;32m      7\u001b[0m     s_nc \u001b[38;5;241m=\u001b[39m S_nc(i, full_lam)\n\u001b[0;32m----> 8\u001b[0m     s_eq \u001b[38;5;241m=\u001b[39m \u001b[43mS_eq\u001b[49m\u001b[43m(\u001b[49m\u001b[43mi\u001b[49m\u001b[43m,\u001b[49m\u001b[43m \u001b[49m\u001b[43mequations\u001b[49m\u001b[43m,\u001b[49m\u001b[43m \u001b[49m\u001b[43mfull_lam\u001b[49m\u001b[43m)\u001b[49m\n\u001b[1;32m      9\u001b[0m     \u001b[38;5;28;01mif\u001b[39;00m (s_nc\u001b[38;5;241m-\u001b[39ms_eq)\u001b[38;5;241m/\u001b[39ms_nc \u001b[38;5;241m<\u001b[39m \u001b[38;5;241m0.07\u001b[39m:\n\u001b[1;32m     10\u001b[0m         res\u001b[38;5;241m+\u001b[39m\u001b[38;5;241m=\u001b[39m\u001b[38;5;241m0\u001b[39m\n",
      "Cell \u001b[0;32mIn[9], line 14\u001b[0m, in \u001b[0;36mS_eq\u001b[0;34m(shell_idx, equations, lam)\u001b[0m\n\u001b[1;32m     11\u001b[0m \u001b[38;5;66;03m#x0 = model.scenario_properties.x0.T.values.flatten()\u001b[39;00m\n\u001b[1;32m     12\u001b[0m x0 \u001b[38;5;241m=\u001b[39m [\u001b[38;5;241m0.0\u001b[39m]\u001b[38;5;241m*\u001b[39m\u001b[38;5;241m60\u001b[39m\n\u001b[0;32m---> 14\u001b[0m output \u001b[38;5;241m=\u001b[39m \u001b[43msolve_ivp\u001b[49m\u001b[43m(\u001b[49m\u001b[43mmodel\u001b[49m\u001b[38;5;241;43m.\u001b[39;49m\u001b[43mscenario_properties\u001b[49m\u001b[38;5;241;43m.\u001b[39;49m\u001b[43mpopulation_shell\u001b[49m\u001b[43m,\u001b[49m\u001b[43m \u001b[49m\n\u001b[1;32m     15\u001b[0m \u001b[43m                   \u001b[49m\u001b[43m[\u001b[49m\u001b[43mmodel\u001b[49m\u001b[38;5;241;43m.\u001b[39;49m\u001b[43mscenario_properties\u001b[49m\u001b[38;5;241;43m.\u001b[39;49m\u001b[43mscen_times\u001b[49m\u001b[43m[\u001b[49m\u001b[38;5;241;43m0\u001b[39;49m\u001b[43m]\u001b[49m\u001b[43m,\u001b[49m\u001b[43m \u001b[49m\u001b[43mmodel\u001b[49m\u001b[38;5;241;43m.\u001b[39;49m\u001b[43mscenario_properties\u001b[49m\u001b[38;5;241;43m.\u001b[39;49m\u001b[43mscen_times\u001b[49m\u001b[43m[\u001b[49m\u001b[38;5;241;43m-\u001b[39;49m\u001b[38;5;241;43m1\u001b[39;49m\u001b[43m]\u001b[49m\u001b[43m]\u001b[49m\u001b[43m,\u001b[49m\n\u001b[1;32m     16\u001b[0m \u001b[43m                   \u001b[49m\u001b[43mx0\u001b[49m\u001b[43m,\u001b[49m\u001b[43m \u001b[49m\u001b[43margs\u001b[49m\u001b[38;5;241;43m=\u001b[39;49m\u001b[43m(\u001b[49m\u001b[43mfull_lambda_flattened\u001b[49m\u001b[43m,\u001b[49m\u001b[43m \u001b[49m\u001b[43mequations\u001b[49m\u001b[43m,\u001b[49m\u001b[43m \u001b[49m\u001b[43mmodel\u001b[49m\u001b[38;5;241;43m.\u001b[39;49m\u001b[43mscenario_properties\u001b[49m\u001b[38;5;241;43m.\u001b[39;49m\u001b[43mscen_times\u001b[49m\u001b[43m)\u001b[49m\u001b[43m,\u001b[49m\u001b[43m \u001b[49m\n\u001b[1;32m     17\u001b[0m \u001b[43m                   \u001b[49m\u001b[43mt_eval\u001b[49m\u001b[38;5;241;43m=\u001b[39;49m\u001b[43mmodel\u001b[49m\u001b[38;5;241;43m.\u001b[39;49m\u001b[43mscenario_properties\u001b[49m\u001b[38;5;241;43m.\u001b[39;49m\u001b[43mscen_times\u001b[49m\u001b[43m,\u001b[49m\u001b[43m \u001b[49m\u001b[43mmethod\u001b[49m\u001b[38;5;241;43m=\u001b[39;49m\u001b[38;5;124;43m'\u001b[39;49m\u001b[38;5;124;43mBDF\u001b[39;49m\u001b[38;5;124;43m'\u001b[39;49m\u001b[43m)\u001b[49m\n\u001b[1;32m     19\u001b[0m \u001b[38;5;28;01mfor\u001b[39;00m species_index \u001b[38;5;129;01min\u001b[39;00m \u001b[38;5;28mrange\u001b[39m(\u001b[38;5;241m0\u001b[39m,\u001b[38;5;241m1\u001b[39m):\n\u001b[1;32m     20\u001b[0m     \u001b[38;5;66;03m#species_data = sum(output.y[species_index * 20:(species_index + 1) * 20, shell_idx])\u001b[39;00m\n\u001b[1;32m     21\u001b[0m     \u001b[38;5;28;01mif\u001b[39;00m np\u001b[38;5;241m.\u001b[39mshape(output\u001b[38;5;241m.\u001b[39my)[\u001b[38;5;241m1\u001b[39m]\u001b[38;5;241m!=\u001b[39m\u001b[38;5;241m100\u001b[39m:\n",
      "File \u001b[0;32m~/opt/anaconda3/lib/python3.8/site-packages/scipy/integrate/_ivp/ivp.py:555\u001b[0m, in \u001b[0;36msolve_ivp\u001b[0;34m(fun, t_span, y0, method, t_eval, dense_output, events, vectorized, args, **options)\u001b[0m\n\u001b[1;32m    552\u001b[0m \u001b[38;5;28;01mif\u001b[39;00m method \u001b[38;5;129;01min\u001b[39;00m METHODS:\n\u001b[1;32m    553\u001b[0m     method \u001b[38;5;241m=\u001b[39m METHODS[method]\n\u001b[0;32m--> 555\u001b[0m solver \u001b[38;5;241m=\u001b[39m \u001b[43mmethod\u001b[49m\u001b[43m(\u001b[49m\u001b[43mfun\u001b[49m\u001b[43m,\u001b[49m\u001b[43m \u001b[49m\u001b[43mt0\u001b[49m\u001b[43m,\u001b[49m\u001b[43m \u001b[49m\u001b[43my0\u001b[49m\u001b[43m,\u001b[49m\u001b[43m \u001b[49m\u001b[43mtf\u001b[49m\u001b[43m,\u001b[49m\u001b[43m \u001b[49m\u001b[43mvectorized\u001b[49m\u001b[38;5;241;43m=\u001b[39;49m\u001b[43mvectorized\u001b[49m\u001b[43m,\u001b[49m\u001b[43m \u001b[49m\u001b[38;5;241;43m*\u001b[39;49m\u001b[38;5;241;43m*\u001b[39;49m\u001b[43moptions\u001b[49m\u001b[43m)\u001b[49m\n\u001b[1;32m    557\u001b[0m \u001b[38;5;28;01mif\u001b[39;00m t_eval \u001b[38;5;129;01mis\u001b[39;00m \u001b[38;5;28;01mNone\u001b[39;00m:\n\u001b[1;32m    558\u001b[0m     ts \u001b[38;5;241m=\u001b[39m [t0]\n",
      "File \u001b[0;32m~/opt/anaconda3/lib/python3.8/site-packages/scipy/integrate/_ivp/bdf.py:209\u001b[0m, in \u001b[0;36mBDF.__init__\u001b[0;34m(self, fun, t0, y0, t_bound, max_step, rtol, atol, jac, jac_sparsity, vectorized, first_step, **extraneous)\u001b[0m\n\u001b[1;32m    206\u001b[0m \u001b[38;5;28mself\u001b[39m\u001b[38;5;241m.\u001b[39mnewton_tol \u001b[38;5;241m=\u001b[39m \u001b[38;5;28mmax\u001b[39m(\u001b[38;5;241m10\u001b[39m \u001b[38;5;241m*\u001b[39m EPS \u001b[38;5;241m/\u001b[39m rtol, \u001b[38;5;28mmin\u001b[39m(\u001b[38;5;241m0.03\u001b[39m, rtol \u001b[38;5;241m*\u001b[39m\u001b[38;5;241m*\u001b[39m \u001b[38;5;241m0.5\u001b[39m))\n\u001b[1;32m    208\u001b[0m \u001b[38;5;28mself\u001b[39m\u001b[38;5;241m.\u001b[39mjac_factor \u001b[38;5;241m=\u001b[39m \u001b[38;5;28;01mNone\u001b[39;00m\n\u001b[0;32m--> 209\u001b[0m \u001b[38;5;28mself\u001b[39m\u001b[38;5;241m.\u001b[39mjac, \u001b[38;5;28mself\u001b[39m\u001b[38;5;241m.\u001b[39mJ \u001b[38;5;241m=\u001b[39m \u001b[38;5;28;43mself\u001b[39;49m\u001b[38;5;241;43m.\u001b[39;49m\u001b[43m_validate_jac\u001b[49m\u001b[43m(\u001b[49m\u001b[43mjac\u001b[49m\u001b[43m,\u001b[49m\u001b[43m \u001b[49m\u001b[43mjac_sparsity\u001b[49m\u001b[43m)\u001b[49m\n\u001b[1;32m    210\u001b[0m \u001b[38;5;28;01mif\u001b[39;00m issparse(\u001b[38;5;28mself\u001b[39m\u001b[38;5;241m.\u001b[39mJ):\n\u001b[1;32m    211\u001b[0m     \u001b[38;5;28;01mdef\u001b[39;00m \u001b[38;5;21mlu\u001b[39m(A):\n",
      "File \u001b[0;32m~/opt/anaconda3/lib/python3.8/site-packages/scipy/integrate/_ivp/bdf.py:265\u001b[0m, in \u001b[0;36mBDF._validate_jac\u001b[0;34m(self, jac, sparsity)\u001b[0m\n\u001b[1;32m    261\u001b[0m         J, \u001b[38;5;28mself\u001b[39m\u001b[38;5;241m.\u001b[39mjac_factor \u001b[38;5;241m=\u001b[39m num_jac(\u001b[38;5;28mself\u001b[39m\u001b[38;5;241m.\u001b[39mfun_vectorized, t, y, f,\n\u001b[1;32m    262\u001b[0m                                      \u001b[38;5;28mself\u001b[39m\u001b[38;5;241m.\u001b[39matol, \u001b[38;5;28mself\u001b[39m\u001b[38;5;241m.\u001b[39mjac_factor,\n\u001b[1;32m    263\u001b[0m                                      sparsity)\n\u001b[1;32m    264\u001b[0m         \u001b[38;5;28;01mreturn\u001b[39;00m J\n\u001b[0;32m--> 265\u001b[0m     J \u001b[38;5;241m=\u001b[39m \u001b[43mjac_wrapped\u001b[49m\u001b[43m(\u001b[49m\u001b[43mt0\u001b[49m\u001b[43m,\u001b[49m\u001b[43m \u001b[49m\u001b[43my0\u001b[49m\u001b[43m)\u001b[49m\n\u001b[1;32m    266\u001b[0m \u001b[38;5;28;01melif\u001b[39;00m \u001b[38;5;28mcallable\u001b[39m(jac):\n\u001b[1;32m    267\u001b[0m     J \u001b[38;5;241m=\u001b[39m jac(t0, y0)\n",
      "File \u001b[0;32m~/opt/anaconda3/lib/python3.8/site-packages/scipy/integrate/_ivp/bdf.py:261\u001b[0m, in \u001b[0;36mBDF._validate_jac.<locals>.jac_wrapped\u001b[0;34m(t, y)\u001b[0m\n\u001b[1;32m    259\u001b[0m \u001b[38;5;28mself\u001b[39m\u001b[38;5;241m.\u001b[39mnjev \u001b[38;5;241m+\u001b[39m\u001b[38;5;241m=\u001b[39m \u001b[38;5;241m1\u001b[39m\n\u001b[1;32m    260\u001b[0m f \u001b[38;5;241m=\u001b[39m \u001b[38;5;28mself\u001b[39m\u001b[38;5;241m.\u001b[39mfun_single(t, y)\n\u001b[0;32m--> 261\u001b[0m J, \u001b[38;5;28mself\u001b[39m\u001b[38;5;241m.\u001b[39mjac_factor \u001b[38;5;241m=\u001b[39m \u001b[43mnum_jac\u001b[49m\u001b[43m(\u001b[49m\u001b[38;5;28;43mself\u001b[39;49m\u001b[38;5;241;43m.\u001b[39;49m\u001b[43mfun_vectorized\u001b[49m\u001b[43m,\u001b[49m\u001b[43m \u001b[49m\u001b[43mt\u001b[49m\u001b[43m,\u001b[49m\u001b[43m \u001b[49m\u001b[43my\u001b[49m\u001b[43m,\u001b[49m\u001b[43m \u001b[49m\u001b[43mf\u001b[49m\u001b[43m,\u001b[49m\n\u001b[1;32m    262\u001b[0m \u001b[43m                             \u001b[49m\u001b[38;5;28;43mself\u001b[39;49m\u001b[38;5;241;43m.\u001b[39;49m\u001b[43matol\u001b[49m\u001b[43m,\u001b[49m\u001b[43m \u001b[49m\u001b[38;5;28;43mself\u001b[39;49m\u001b[38;5;241;43m.\u001b[39;49m\u001b[43mjac_factor\u001b[49m\u001b[43m,\u001b[49m\n\u001b[1;32m    263\u001b[0m \u001b[43m                             \u001b[49m\u001b[43msparsity\u001b[49m\u001b[43m)\u001b[49m\n\u001b[1;32m    264\u001b[0m \u001b[38;5;28;01mreturn\u001b[39;00m J\n",
      "File \u001b[0;32m~/opt/anaconda3/lib/python3.8/site-packages/scipy/integrate/_ivp/common.py:318\u001b[0m, in \u001b[0;36mnum_jac\u001b[0;34m(fun, t, y, f, threshold, factor, sparsity)\u001b[0m\n\u001b[1;32m    315\u001b[0m         h[i] \u001b[38;5;241m=\u001b[39m (y[i] \u001b[38;5;241m+\u001b[39m factor[i] \u001b[38;5;241m*\u001b[39m y_scale[i]) \u001b[38;5;241m-\u001b[39m y[i]\n\u001b[1;32m    317\u001b[0m \u001b[38;5;28;01mif\u001b[39;00m sparsity \u001b[38;5;129;01mis\u001b[39;00m \u001b[38;5;28;01mNone\u001b[39;00m:\n\u001b[0;32m--> 318\u001b[0m     \u001b[38;5;28;01mreturn\u001b[39;00m \u001b[43m_dense_num_jac\u001b[49m\u001b[43m(\u001b[49m\u001b[43mfun\u001b[49m\u001b[43m,\u001b[49m\u001b[43m \u001b[49m\u001b[43mt\u001b[49m\u001b[43m,\u001b[49m\u001b[43m \u001b[49m\u001b[43my\u001b[49m\u001b[43m,\u001b[49m\u001b[43m \u001b[49m\u001b[43mf\u001b[49m\u001b[43m,\u001b[49m\u001b[43m \u001b[49m\u001b[43mh\u001b[49m\u001b[43m,\u001b[49m\u001b[43m \u001b[49m\u001b[43mfactor\u001b[49m\u001b[43m,\u001b[49m\u001b[43m \u001b[49m\u001b[43my_scale\u001b[49m\u001b[43m)\u001b[49m\n\u001b[1;32m    319\u001b[0m \u001b[38;5;28;01melse\u001b[39;00m:\n\u001b[1;32m    320\u001b[0m     structure, groups \u001b[38;5;241m=\u001b[39m sparsity\n",
      "File \u001b[0;32m~/opt/anaconda3/lib/python3.8/site-packages/scipy/integrate/_ivp/common.py:341\u001b[0m, in \u001b[0;36m_dense_num_jac\u001b[0;34m(fun, t, y, f, h, factor, y_scale)\u001b[0m\n\u001b[1;32m    339\u001b[0m h_new \u001b[38;5;241m=\u001b[39m (y[ind] \u001b[38;5;241m+\u001b[39m new_factor \u001b[38;5;241m*\u001b[39m y_scale[ind]) \u001b[38;5;241m-\u001b[39m y[ind]\n\u001b[1;32m    340\u001b[0m h_vecs[ind, ind] \u001b[38;5;241m=\u001b[39m h_new\n\u001b[0;32m--> 341\u001b[0m f_new \u001b[38;5;241m=\u001b[39m \u001b[43mfun\u001b[49m\u001b[43m(\u001b[49m\u001b[43mt\u001b[49m\u001b[43m,\u001b[49m\u001b[43m \u001b[49m\u001b[43my\u001b[49m\u001b[43m[\u001b[49m\u001b[43m:\u001b[49m\u001b[43m,\u001b[49m\u001b[43m \u001b[49m\u001b[38;5;28;43;01mNone\u001b[39;49;00m\u001b[43m]\u001b[49m\u001b[43m \u001b[49m\u001b[38;5;241;43m+\u001b[39;49m\u001b[43m \u001b[49m\u001b[43mh_vecs\u001b[49m\u001b[43m[\u001b[49m\u001b[43m:\u001b[49m\u001b[43m,\u001b[49m\u001b[43m \u001b[49m\u001b[43mind\u001b[49m\u001b[43m]\u001b[49m\u001b[43m)\u001b[49m\n\u001b[1;32m    342\u001b[0m diff_new \u001b[38;5;241m=\u001b[39m f_new \u001b[38;5;241m-\u001b[39m f[:, \u001b[38;5;28;01mNone\u001b[39;00m]\n\u001b[1;32m    343\u001b[0m max_ind \u001b[38;5;241m=\u001b[39m np\u001b[38;5;241m.\u001b[39margmax(np\u001b[38;5;241m.\u001b[39mabs(diff_new), axis\u001b[38;5;241m=\u001b[39m\u001b[38;5;241m0\u001b[39m)\n",
      "File \u001b[0;32m~/opt/anaconda3/lib/python3.8/site-packages/scipy/integrate/_ivp/base.py:133\u001b[0m, in \u001b[0;36mOdeSolver.__init__.<locals>.fun_vectorized\u001b[0;34m(t, y)\u001b[0m\n\u001b[1;32m    131\u001b[0m f \u001b[38;5;241m=\u001b[39m np\u001b[38;5;241m.\u001b[39mempty_like(y)\n\u001b[1;32m    132\u001b[0m \u001b[38;5;28;01mfor\u001b[39;00m i, yi \u001b[38;5;129;01min\u001b[39;00m \u001b[38;5;28menumerate\u001b[39m(y\u001b[38;5;241m.\u001b[39mT):\n\u001b[0;32m--> 133\u001b[0m     f[:, i] \u001b[38;5;241m=\u001b[39m \u001b[38;5;28;43mself\u001b[39;49m\u001b[38;5;241;43m.\u001b[39;49m\u001b[43m_fun\u001b[49m\u001b[43m(\u001b[49m\u001b[43mt\u001b[49m\u001b[43m,\u001b[49m\u001b[43m \u001b[49m\u001b[43myi\u001b[49m\u001b[43m)\u001b[49m\n\u001b[1;32m    134\u001b[0m \u001b[38;5;28;01mreturn\u001b[39;00m f\n",
      "File \u001b[0;32m~/opt/anaconda3/lib/python3.8/site-packages/scipy/integrate/_ivp/base.py:20\u001b[0m, in \u001b[0;36mcheck_arguments.<locals>.fun_wrapped\u001b[0;34m(t, y)\u001b[0m\n\u001b[1;32m     19\u001b[0m \u001b[38;5;28;01mdef\u001b[39;00m \u001b[38;5;21mfun_wrapped\u001b[39m(t, y):\n\u001b[0;32m---> 20\u001b[0m     \u001b[38;5;28;01mreturn\u001b[39;00m np\u001b[38;5;241m.\u001b[39masarray(\u001b[43mfun\u001b[49m\u001b[43m(\u001b[49m\u001b[43mt\u001b[49m\u001b[43m,\u001b[49m\u001b[43m \u001b[49m\u001b[43my\u001b[49m\u001b[43m)\u001b[49m, dtype\u001b[38;5;241m=\u001b[39mdtype)\n",
      "File \u001b[0;32m~/opt/anaconda3/lib/python3.8/site-packages/scipy/integrate/_ivp/ivp.py:527\u001b[0m, in \u001b[0;36msolve_ivp.<locals>.<lambda>\u001b[0;34m(t, x, fun)\u001b[0m\n\u001b[1;32m    521\u001b[0m     suggestion_tuple \u001b[38;5;241m=\u001b[39m (\n\u001b[1;32m    522\u001b[0m         \u001b[38;5;124m\"\u001b[39m\u001b[38;5;124mSupplied \u001b[39m\u001b[38;5;124m'\u001b[39m\u001b[38;5;124margs\u001b[39m\u001b[38;5;124m'\u001b[39m\u001b[38;5;124m cannot be unpacked. Please supply `args`\u001b[39m\u001b[38;5;124m\"\u001b[39m\n\u001b[1;32m    523\u001b[0m         \u001b[38;5;124mf\u001b[39m\u001b[38;5;124m\"\u001b[39m\u001b[38;5;124m as a tuple (e.g. `args=(\u001b[39m\u001b[38;5;132;01m{\u001b[39;00margs\u001b[38;5;132;01m}\u001b[39;00m\u001b[38;5;124m,)`)\u001b[39m\u001b[38;5;124m\"\u001b[39m\n\u001b[1;32m    524\u001b[0m     )\n\u001b[1;32m    525\u001b[0m     \u001b[38;5;28;01mraise\u001b[39;00m \u001b[38;5;167;01mTypeError\u001b[39;00m(suggestion_tuple) \u001b[38;5;28;01mfrom\u001b[39;00m \u001b[38;5;21;01mexp\u001b[39;00m\n\u001b[0;32m--> 527\u001b[0m fun \u001b[38;5;241m=\u001b[39m \u001b[38;5;28;01mlambda\u001b[39;00m t, x, fun\u001b[38;5;241m=\u001b[39mfun: \u001b[43mfun\u001b[49m\u001b[43m(\u001b[49m\u001b[43mt\u001b[49m\u001b[43m,\u001b[49m\u001b[43m \u001b[49m\u001b[43mx\u001b[49m\u001b[43m,\u001b[49m\u001b[43m \u001b[49m\u001b[38;5;241;43m*\u001b[39;49m\u001b[43margs\u001b[49m\u001b[43m)\u001b[49m\n\u001b[1;32m    528\u001b[0m jac \u001b[38;5;241m=\u001b[39m options\u001b[38;5;241m.\u001b[39mget(\u001b[38;5;124m'\u001b[39m\u001b[38;5;124mjac\u001b[39m\u001b[38;5;124m'\u001b[39m)\n\u001b[1;32m    529\u001b[0m \u001b[38;5;28;01mif\u001b[39;00m \u001b[38;5;28mcallable\u001b[39m(jac):\n",
      "File \u001b[0;32m~/Downloads/pyssem-main/pyssem/utils/simulation/scen_properties.py:577\u001b[0m, in \u001b[0;36mScenarioProperties.population_shell\u001b[0;34m(self, t, N, full_lambda, equations, times)\u001b[0m\n\u001b[1;32m    572\u001b[0m             increase\u001b[38;5;241m.\u001b[39mappend(lam_shell[\u001b[38;5;241m0\u001b[39m])\n\u001b[1;32m    573\u001b[0m             \u001b[38;5;66;03m#increase.append(np.interp(t, times, lam_shell))\u001b[39;00m\n\u001b[1;32m    574\u001b[0m     \u001b[38;5;66;03m# Compute the intrinsic rate of change from the differential equation\u001b[39;00m\n\u001b[1;32m    575\u001b[0m     \u001b[38;5;66;03m#dN_dt[i] += equations[i](*N) #increase due to launches(launch calculated as interp) + populations\u001b[39;00m\n\u001b[0;32m--> 577\u001b[0m     dN_dt\u001b[38;5;241m.\u001b[39mappend(\u001b[43mequations\u001b[49m\u001b[43m[\u001b[49m\u001b[43mi\u001b[49m\u001b[43m]\u001b[49m\u001b[43m(\u001b[49m\u001b[38;5;241;43m*\u001b[39;49m\u001b[43mnp\u001b[49m\u001b[38;5;241;43m.\u001b[39;49m\u001b[43mconcatenate\u001b[49m\u001b[43m(\u001b[49m\u001b[43m[\u001b[49m\u001b[43mN\u001b[49m\u001b[43m,\u001b[49m\u001b[43m \u001b[49m\u001b[43mincrease\u001b[49m\u001b[43m]\u001b[49m\u001b[43m)\u001b[49m\u001b[43m)\u001b[49m)\n\u001b[1;32m    578\u001b[0m \u001b[38;5;28;01mreturn\u001b[39;00m dN_dt\n",
      "File \u001b[0;32m<lambdifygenerated-77>:1\u001b[0m, in \u001b[0;36m_lambdifygenerated\u001b[0;34m(S_1, S_2, S_3, S_4, S_5, S_6, S_7, S_8, S_9, S_10, S_11, S_12, S_13, S_14, S_15, S_16, S_17, S_18, S_19, S_20, N_0p64kg_1, N_0p64kg_2, N_0p64kg_3, N_0p64kg_4, N_0p64kg_5, N_0p64kg_6, N_0p64kg_7, N_0p64kg_8, N_0p64kg_9, N_0p64kg_10, N_0p64kg_11, N_0p64kg_12, N_0p64kg_13, N_0p64kg_14, N_0p64kg_15, N_0p64kg_16, N_0p64kg_17, N_0p64kg_18, N_0p64kg_19, N_0p64kg_20, N_223kg_1, N_223kg_2, N_223kg_3, N_223kg_4, N_223kg_5, N_223kg_6, N_223kg_7, N_223kg_8, N_223kg_9, N_223kg_10, N_223kg_11, N_223kg_12, N_223kg_13, N_223kg_14, N_223kg_15, N_223kg_16, N_223kg_17, N_223kg_18, N_223kg_19, N_223kg_20, lam_0, lam_1, lam_2, lam_3, lam_4, lam_5, lam_6, lam_7, lam_8, lam_9, lam_10, lam_11, lam_12, lam_13, lam_14, lam_15, lam_16, lam_17, lam_18, lam_19)\u001b[0m\n\u001b[0;32m----> 1\u001b[0m \u001b[38;5;28;01mdef\u001b[39;00m \u001b[38;5;21m_lambdifygenerated\u001b[39m(S_1, S_2, S_3, S_4, S_5, S_6, S_7, S_8, S_9, S_10, S_11, S_12, S_13, S_14, S_15, S_16, S_17, S_18, S_19, S_20, N_0p64kg_1, N_0p64kg_2, N_0p64kg_3, N_0p64kg_4, N_0p64kg_5, N_0p64kg_6, N_0p64kg_7, N_0p64kg_8, N_0p64kg_9, N_0p64kg_10, N_0p64kg_11, N_0p64kg_12, N_0p64kg_13, N_0p64kg_14, N_0p64kg_15, N_0p64kg_16, N_0p64kg_17, N_0p64kg_18, N_0p64kg_19, N_0p64kg_20, N_223kg_1, N_223kg_2, N_223kg_3, N_223kg_4, N_223kg_5, N_223kg_6, N_223kg_7, N_223kg_8, N_223kg_9, N_223kg_10, N_223kg_11, N_223kg_12, N_223kg_13, N_223kg_14, N_223kg_15, N_223kg_16, N_223kg_17, N_223kg_18, N_223kg_19, N_223kg_20, lam_0, lam_1, lam_2, lam_3, lam_4, lam_5, lam_6, lam_7, lam_8, lam_9, lam_10, lam_11, lam_12, lam_13, lam_14, lam_15, lam_16, lam_17, lam_18, lam_19):\n\u001b[1;32m      2\u001b[0m     \u001b[38;5;28;01mreturn\u001b[39;00m \u001b[38;5;241m-\u001b[39m\u001b[38;5;241m9.96556123523857e-8\u001b[39m\u001b[38;5;241m*\u001b[39mpi\u001b[38;5;241m*\u001b[39mN_0p64kg_17\u001b[38;5;241m*\u001b[39mS_17 \u001b[38;5;241m-\u001b[39m \u001b[38;5;241m3.17322851279761e-7\u001b[39m\u001b[38;5;241m*\u001b[39mpi\u001b[38;5;241m*\u001b[39mN_223kg_17\u001b[38;5;241m*\u001b[39mS_17 \u001b[38;5;241m-\u001b[39m \u001b[38;5;241m3.11100834588001e-10\u001b[39m\u001b[38;5;241m*\u001b[39mpi\u001b[38;5;241m*\u001b[39mS_17\u001b[38;5;241m*\u001b[39m\u001b[38;5;241m*\u001b[39m\u001b[38;5;241m2\u001b[39m \u001b[38;5;241m-\u001b[39m \u001b[38;5;241m0.2\u001b[39m\u001b[38;5;241m*\u001b[39mS_17 \u001b[38;5;241m+\u001b[39m lam_16\n",
      "\u001b[0;31mKeyboardInterrupt\u001b[0m: "
     ]
    }
   ],
   "source": [
    "import numpy as np\n",
    "from scipy.optimize import minimize\n",
    "from pyswarm import pso\n",
    "from scipy.integrate import solve_ivp\n",
    "\n",
    "\n",
    "def callback_function(xk):\n",
    "    # 목적 함수 값 계산\n",
    "    current_value = objective_function(xk)\n",
    "\n",
    "    # 중간 결과를 저장할 리스트\n",
    "    intermediate_values = []\n",
    "    \n",
    "    # 중간 결과를 리스트에 추가\n",
    "    intermediate_values.append(current_value)\n",
    "    \n",
    "    # 현재 반복 단계에서의 lambda 값과 목적 함수 값을 출력\n",
    "    #print(f\"Current lambda: {xk}\")\n",
    "    #print(f\"Current objective value: {current_value}\")\n",
    "\n",
    "lb = [70]*20\n",
    "ub = [999925.159, 999796.5873, 999447.2601, 998498.9228, 995930.1472, 989013.8265, 970689.8211, 924147.1301, 817587.246, 622485.759, 377584.241, 182482.754, 75922.86995, 29380.1789, 11056.17354, 330, 150, 130, 100, 71]\n",
    "\n",
    "\n",
    "full_lambda = np.ones(20)\n",
    "\n",
    "for shell_idx in range(19, -1, -1):\n",
    "    initial_lambda = 100\n",
    "    [objective_function, full_lambda] = J_eqn_by_shell(eqn, shell_idx, full_lambda)\n",
    "\n",
    "    #bounds=[]\n",
    "    #bounds.append((lb[shell_idx],ub[shell_idx]))\n",
    "\n",
    "    #result = minimize(objective_function, initial_lambda, method='L-BFGS-B', bounds=bounds, options = {'maxiter': 1000, 'eps': 1}, callback=callback_function)\n",
    "    optimal_lambda, optimal_value = pso(objective_function, [lb[shell_idx]], [ub[shell_idx]], swarmsize=100, maxiter=10)\n",
    "    print(\"shell\", shell_idx)\n",
    "    print(\"Optimal lambda:\", optimal_lambda)\n",
    "    print(\"Optimal J value:\", optimal_value)\n",
    "    full_lambda[shell_idx] = optimal_lambda\n"
   ]
  },
  {
   "cell_type": "code",
   "execution_count": 133,
   "id": "02f79399-3715-46a8-bb68-ae574becc290",
   "metadata": {},
   "outputs": [
    {
     "name": "stdout",
     "output_type": "stream",
     "text": [
      "Sensitivity at given lambda: [-5111 -5111 -5111 -5111 -5111 -5111 -5111 -5111 -5110 -5109 -5108 -5107\n",
      " -5105 -5102 -5099 -5096 -5094 -5092 -5092 -5094]\n"
     ]
    }
   ],
   "source": [
    "import numpy as np\n",
    "\n",
    "# Given lambda for sensitivity analysis\n",
    "lambda_value = np.full(20, 70)  # all lambda to 70 (lb)\n",
    "\n",
    "# Sensitivity Analysis\n",
    "def sensitivity_analysis(lambda_value, equations):\n",
    "    epsilon = 1e-5  # marginal value\n",
    "    sensitivity = np.zeros_like(lambda_value)\n",
    "    \n",
    "    for i in range(len(lambda_value)):\n",
    "        # results for changes of epsilon on lambda[i]\n",
    "        lambda_plus = np.copy(lambda_value)\n",
    "        lambda_minus = np.copy(lambda_value)\n",
    "        lambda_plus[i] += epsilon\n",
    "        lambda_minus[i] -= epsilon\n",
    "        \n",
    "        # Compute obj fxn (or S_eq) for equations\n",
    "        f_plus = J_eqn(equations)(lambda_plus)\n",
    "        f_minus = J_eqn(equations)(lambda_minus)\n",
    "        \n",
    "        # sensitivity computation through central difference method\n",
    "        sensitivity[i] = (f_plus - f_minus) / (2 * epsilon)\n",
    "    \n",
    "    return sensitivity\n",
    "\n",
    "# sensitivity anlysis\n",
    "sensitivity = sensitivity_analysis(lambda_value, eqn)\n",
    "\n",
    "print(\"Sensitivity at given lambda:\", sensitivity)"
   ]
  },
  {
   "cell_type": "code",
   "execution_count": 107,
   "id": "8fa09486-6c00-49f5-bf57-c3d0c9823dec",
   "metadata": {},
   "outputs": [],
   "source": [
    "def obj(model, shell): \n",
    "    deltat = 5\n",
    "    S_eq = model.scenario_properties.all_symbolic_vars[shell]\n",
    "    lamb = model.scenario_properties.all_symbolic_vars[-(model.scenario_properties.n_shells)+shell]\n",
    "    S_nc = lamb/deltat\n",
    "    obj = S_nc - S_eq"
   ]
  },
  {
   "cell_type": "code",
   "execution_count": 110,
   "id": "1de13027-fe2a-42a3-9e2c-547db08a65b7",
   "metadata": {},
   "outputs": [
    {
     "name": "stdout",
     "output_type": "stream",
     "text": [
      "S_3 lam_2\n",
      "S_3 lam_2/5\n"
     ]
    }
   ],
   "source": [
    "S_eq = solve_ivp(model.scenario_properties.population_shell, [model.scenario_properties.scen_times[0], model.scenario_properties.scen_times[-1]],\n",
    "           model.scenario_properties.x0.T.values.flatten(), args=(full_lambda_flattened, equations, model.scenario_properties.scen_times), t_eval=model.scenario_properties.scen_times, method='BDF')\n"
   ]
  },
  {
   "cell_type": "code",
   "execution_count": 8,
   "id": "8b29d83a-124e-4e89-b3ad-59b176b3d963",
   "metadata": {},
   "outputs": [],
   "source": [
    "def S_eq_max(x):\n",
    "    res = -27.40*(x**4) + 3267.18*(x**3) - 131311.78*(x**2) + 2378844.78*(x) + 1341902.83\n",
    "    return res"
   ]
  },
  {
   "cell_type": "code",
   "execution_count": 9,
   "id": "7683e581-54e4-432a-8a70-bc0da430c68a",
   "metadata": {},
   "outputs": [
    {
     "data": {
      "text/plain": [
       "12.61439441"
      ]
     },
     "execution_count": 9,
     "metadata": {},
     "output_type": "execute_result"
    }
   ],
   "source": [
    "S_eq_max(7)/(10**6)"
   ]
  },
  {
   "cell_type": "code",
   "execution_count": 9,
   "id": "c5384fd1-3f4f-4b2d-8412-31d1bcbd93c8",
   "metadata": {},
   "outputs": [],
   "source": [
    "launch_data = [765.4684208,  825.77413725, 866.90760776, 885.64951807, 880.4982683,\n",
    " 851.86869888, 802.0369089 , 734.8413517,  655.19467529, 568.49240945,\n",
    " 480.01689181, 394.42634007, 315.39357222, 245.42415565, 185.84860779,\n",
    " 136.95530447,  98.21457519,  68.54102051,  46.54818261,  30.76326534]\n",
    "# launch_data = [8.83564761e+05, 6.80277017e+05, 5.05118468e+05, 3.61710182e+05,\n",
    "#  2.49797598e+05, 1.66370307e+05, 1.06862029e+05, 6.61958939e+04,\n",
    "#  3.95456505e+04, 2.27838144e+04, 1.26594309e+04, 6.78362710e+03,\n",
    "#  3.50565990e+03, 1.74718000e+03, 8.39780000e+02, 3.89272300e+02,\n",
    "#  1.74020900e+02, 1.66418719e+02, 9.67351254e+01, 4.92964441e+01]\n",
    "hmid = [217.5, 252.5, 287.5, 322.5, 357.5, 392.5, 427.5, 462.5, 497.5, 532.5, 567.5, 602.5,\n",
    " 637.5, 672.5, 707.5, 742.5, 777.5, 812.5, 847.5, 882.5]"
   ]
  },
  {
   "cell_type": "code",
   "execution_count": 11,
   "id": "544d421f-cf8a-4541-ac1d-72135c800920",
   "metadata": {},
   "outputs": [
    {
     "data": {
      "text/plain": [
       "Text(0.5, 1.0, 'Launch Profile')"
      ]
     },
     "execution_count": 11,
     "metadata": {},
     "output_type": "execute_result"
    },
    {
     "data": {
      "image/png": "[encoded data removed]",
      "text/plain": [
       "<Figure size 640x480 with 1 Axes>"
      ]
     },
     "metadata": {},
     "output_type": "display_data"
    }
   ],
   "source": [
    "from matplotlib.pyplot import stem\n",
    "import matplotlib.pyplot as plt\n",
    "import numpy as np\n",
    "stem(model.scenario_properties.HMid, launch_data, linefmt='b-', markerfmt='bo', basefmt='')\n",
    "#plt.yscale(\"log\")\n",
    "plt.title(\"Launch Profile\")"
   ]
  },
  {
   "cell_type": "code",
   "execution_count": 8,
   "id": "32108627-5e6e-48d5-baed-e7c05559dc11",
   "metadata": {},
   "outputs": [
    {
     "name": "stdout",
     "output_type": "stream",
     "text": [
      "53 55438.91212315943\n"
     ]
    }
   ],
   "source": [
    "species_data = []\n",
    "for species_index in range(0,1):\n",
    "    species_data.append(sum(results.output.y[species_index * 20:(species_index + 1) * 20, :]))\n",
    "species_data = species_data[0]\n",
    "for i in range(0, len(species_data)-1):\n",
    "    if species_data[i] > species_data[i+1]:\n",
    "        print(i, species_data[i])\n",
    "        break"
   ]
  },
  {
   "cell_type": "code",
   "execution_count": 8,
   "id": "512e5d19-4185-44a3-8e4a-fedba3cb82d6",
   "metadata": {},
   "outputs": [
    {
     "name": "stdout",
     "output_type": "stream",
     "text": [
      "Making plots\n"
     ]
    }
   ],
   "source": [
    "model.create_plots()"
   ]
  },
  {
   "cell_type": "code",
   "execution_count": 45,
   "id": "a1fa4f10-82bb-41b1-a01d-bb9bd58c20df",
   "metadata": {},
   "outputs": [],
   "source": [
    "import pandas as pd\n",
    "T = pd.read_csv(os.path.join('utils', 'launch', 'data', 'x0_launch_repeatlaunch_2018to2022_megaconstellationLaunches_Constellations.csv'))\n",
    "#T['epoch_start_datime'] = T['epoch_start'].apply(lambda x: julian_to_datetime(x))"
   ]
  },
  {
   "cell_type": "code",
   "execution_count": 46,
   "id": "4217edb4-5b19-4e14-a2fd-ee3bb45535e2",
   "metadata": {},
   "outputs": [],
   "source": [
    "from datetime import datetime, timedelta\n",
    "def julian_to_datetime(julian_date):\n",
    "    # Julian Date for Unix epoch (1970-01-01)\n",
    "    JULIAN_EPOCH = 2440587.5\n",
    "    try:\n",
    "        # Calculate the number of days from the Unix epoch\n",
    "        days_from_epoch = julian_date - JULIAN_EPOCH\n",
    "        # Create a datetime object for the Unix epoch and add the calculated days\n",
    "        unix_epoch = datetime(1970, 1, 1)\n",
    "        result_date = unix_epoch + timedelta(days=days_from_epoch)\n",
    "        return result_date\n",
    "    except OverflowError as e:\n",
    "        # Handle dates that are out of range\n",
    "        print(f\"Date conversion error: {e}\")\n",
    "        return None"
   ]
  },
  {
   "cell_type": "code",
   "execution_count": 47,
   "id": "f3734c1a-7cf7-4ffa-93bd-c15fe2e3ad11",
   "metadata": {},
   "outputs": [],
   "source": [
    "T['epoch_start_datime'] = T['epoch_start'].apply(lambda x: julian_to_datetime(x))\n",
    "T['epoch_end_datime'] = T['epoch_end'].apply(lambda x: julian_to_datetime(x))"
   ]
  },
  {
   "cell_type": "code",
   "execution_count": 48,
   "id": "42aa30c3-18a4-48ad-98a5-4a7ef874d1eb",
   "metadata": {},
   "outputs": [],
   "source": [
    "def define_object_class(T):\n",
    "    \"\"\"\n",
    "    Define the object class of each object in the traffic model.\n",
    "    Adds them to a new column named \"obj_type\" or overwrites the existing column.\n",
    "\n",
    "    :param T: list of launches\n",
    "    :type T: pandas.DataFrame\n",
    "    \"\"\"\n",
    "\n",
    "    T['obj_class'] = \"Unknown\"\n",
    "\n",
    "    # Classify Rocket Bodies\n",
    "    T.loc[T['obj_type'] == 1, 'obj_class'] = \"Rocket Body\"\n",
    "\n",
    "    # Classify Satellites\n",
    "    T.loc[(T['obj_type'] == 2) & (T['stationkeeping'] != 0) & (T['stationkeeping'] < 5), 'obj_class'] = \"Station-keeping Satellite\"\n",
    "    T.loc[(T['obj_type'] == 2) & (T['stationkeeping'] == 0), 'obj_class'] = \"Non-station-keeping Satellite\"\n",
    "    T.loc[(T['obj_type'] == 2) & (T['stationkeeping'] == 5), 'obj_class'] = \"Coordinated Satellite\"\n",
    "    T.loc[(T['obj_type'] == 2) & (T['stationkeeping'] == 6), 'obj_class'] = \"Candidate Satellite\"\n",
    "\n",
    "    # Classify Debris\n",
    "    T.loc[T['obj_type'].isin([3, 4]), 'obj_class'] = \"Debris\"\n",
    "\n",
    "    # Count unclassified rows\n",
    "    unclassed_rows = (T['obj_class'] == \"Unknown\").sum()\n",
    "    if unclassed_rows > 0:\n",
    "        print(f'\\t{unclassed_rows} Unclassified rows remain.')\n",
    "\n",
    "    return T\n",
    "if 'obj_class' not in T.columns:\n",
    "    T = define_object_class(T)  # Make sure this function is defined and imported"
   ]
  },
  {
   "cell_type": "code",
   "execution_count": 49,
   "id": "1251e46d-cc07-4314-ac0e-e367ab450a51",
   "metadata": {},
   "outputs": [],
   "source": [
    "species_dict = {\"Non-station-keeping Satellite\": \"S\",\n",
    "                    \"Rocket Body\": \"B\",\n",
    "                    \"Station-keeping Satellite\": \"S\",\n",
    "                    \"Coordinated Satellite\": \"S\",\n",
    "                    \"Debris\": \"N\",\n",
    "                    \"Candidate Satellite\": \"C\"}\n",
    "T['species_class'] = T['obj_class'].map(species_dict)"
   ]
  },
  {
   "cell_type": "code",
   "execution_count": 50,
   "id": "5a7c69ee-42df-4459-91d9-51afc8498cbc",
   "metadata": {},
   "outputs": [],
   "source": [
    "parsed_date = datetime.strptime(\"01/03/2022\", \"%m/%d/%Y\")\n",
    "time_steps = [parsed_date + timedelta(days=365.25 * 1 * i) for i in range(100 + 1)]   "
   ]
  },
  {
   "cell_type": "code",
   "execution_count": 14,
   "id": "bff814a2-0a1d-4d7b-a0e9-2b408c87a769",
   "metadata": {},
   "outputs": [
    {
     "data": {
      "text/html": [
       "<div>\n",
       "<style scoped>\n",
       "    .dataframe tbody tr th:only-of-type {\n",
       "        vertical-align: middle;\n",
       "    }\n",
       "\n",
       "    .dataframe tbody tr th {\n",
       "        vertical-align: top;\n",
       "    }\n",
       "\n",
       "    .dataframe thead th {\n",
       "        text-align: right;\n",
       "    }\n",
       "</style>\n",
       "<table border=\"1\" class=\"dataframe\">\n",
       "  <thead>\n",
       "    <tr style=\"text-align: right;\">\n",
       "      <th></th>\n",
       "      <th>adept_id</th>\n",
       "      <th>epoch_start</th>\n",
       "      <th>sma</th>\n",
       "      <th>ecc</th>\n",
       "      <th>inc</th>\n",
       "      <th>raan</th>\n",
       "      <th>aop</th>\n",
       "      <th>ma</th>\n",
       "      <th>epoch_end</th>\n",
       "      <th>obj_type</th>\n",
       "      <th>disp_option</th>\n",
       "      <th>stationkeeping</th>\n",
       "      <th>area</th>\n",
       "      <th>mass</th>\n",
       "      <th>size</th>\n",
       "      <th>weight</th>\n",
       "      <th>epoch_start_datime</th>\n",
       "      <th>epoch_end_datime</th>\n",
       "      <th>obj_class</th>\n",
       "      <th>species_class</th>\n",
       "    </tr>\n",
       "  </thead>\n",
       "  <tbody>\n",
       "    <tr>\n",
       "      <th>0</th>\n",
       "      <td>5</td>\n",
       "      <td>2.436280e+06</td>\n",
       "      <td>8618.593000</td>\n",
       "      <td>0.184635</td>\n",
       "      <td>34.2506</td>\n",
       "      <td>135.992700</td>\n",
       "      <td>211.562500</td>\n",
       "      <td>135.992700</td>\n",
       "      <td>2.436280e+06</td>\n",
       "      <td>2</td>\n",
       "      <td>0</td>\n",
       "      <td>0</td>\n",
       "      <td>0.020106</td>\n",
       "      <td>1.46</td>\n",
       "      <td>0.160000</td>\n",
       "      <td>1</td>\n",
       "      <td>1958-03-17 00:00:00.000000</td>\n",
       "      <td>1958-03-17 00:00:00.000000</td>\n",
       "      <td>Non-station-keeping Satellite</td>\n",
       "      <td>S</td>\n",
       "    </tr>\n",
       "    <tr>\n",
       "      <th>1</th>\n",
       "      <td>11</td>\n",
       "      <td>2.436616e+06</td>\n",
       "      <td>8120.931000</td>\n",
       "      <td>0.146394</td>\n",
       "      <td>32.8628</td>\n",
       "      <td>282.264300</td>\n",
       "      <td>94.604200</td>\n",
       "      <td>282.264300</td>\n",
       "      <td>2.436616e+06</td>\n",
       "      <td>2</td>\n",
       "      <td>0</td>\n",
       "      <td>0</td>\n",
       "      <td>0.204300</td>\n",
       "      <td>9.71</td>\n",
       "      <td>0.510022</td>\n",
       "      <td>1</td>\n",
       "      <td>1959-02-17 00:00:00.000000</td>\n",
       "      <td>1959-02-17 00:00:00.000000</td>\n",
       "      <td>Non-station-keeping Satellite</td>\n",
       "      <td>S</td>\n",
       "    </tr>\n",
       "    <tr>\n",
       "      <th>2</th>\n",
       "      <td>12</td>\n",
       "      <td>2.436616e+06</td>\n",
       "      <td>8315.964000</td>\n",
       "      <td>0.166247</td>\n",
       "      <td>32.9137</td>\n",
       "      <td>59.745100</td>\n",
       "      <td>282.252100</td>\n",
       "      <td>59.745100</td>\n",
       "      <td>2.436616e+06</td>\n",
       "      <td>1</td>\n",
       "      <td>0</td>\n",
       "      <td>0</td>\n",
       "      <td>1.017091</td>\n",
       "      <td>22.79</td>\n",
       "      <td>1.137981</td>\n",
       "      <td>1</td>\n",
       "      <td>1959-02-17 00:00:00.000000</td>\n",
       "      <td>1959-02-17 00:00:00.000000</td>\n",
       "      <td>Rocket Body</td>\n",
       "      <td>B</td>\n",
       "    </tr>\n",
       "    <tr>\n",
       "      <th>3</th>\n",
       "      <td>16</td>\n",
       "      <td>2.436280e+06</td>\n",
       "      <td>8815.994000</td>\n",
       "      <td>0.202761</td>\n",
       "      <td>34.2718</td>\n",
       "      <td>155.033200</td>\n",
       "      <td>197.079200</td>\n",
       "      <td>155.033200</td>\n",
       "      <td>2.436280e+06</td>\n",
       "      <td>1</td>\n",
       "      <td>0</td>\n",
       "      <td>0</td>\n",
       "      <td>1.017091</td>\n",
       "      <td>22.79</td>\n",
       "      <td>1.137981</td>\n",
       "      <td>1</td>\n",
       "      <td>1958-03-17 00:00:00.000000</td>\n",
       "      <td>1958-03-17 00:00:00.000000</td>\n",
       "      <td>Rocket Body</td>\n",
       "      <td>B</td>\n",
       "    </tr>\n",
       "    <tr>\n",
       "      <th>4</th>\n",
       "      <td>20</td>\n",
       "      <td>2.436830e+06</td>\n",
       "      <td>8259.940000</td>\n",
       "      <td>0.166109</td>\n",
       "      <td>33.3414</td>\n",
       "      <td>209.987200</td>\n",
       "      <td>158.100000</td>\n",
       "      <td>209.987200</td>\n",
       "      <td>2.436830e+06</td>\n",
       "      <td>2</td>\n",
       "      <td>0</td>\n",
       "      <td>0</td>\n",
       "      <td>1.103524</td>\n",
       "      <td>67.39</td>\n",
       "      <td>1.185348</td>\n",
       "      <td>1</td>\n",
       "      <td>1959-09-18 00:00:00.000000</td>\n",
       "      <td>1959-09-18 00:00:00.000000</td>\n",
       "      <td>Non-station-keeping Satellite</td>\n",
       "      <td>S</td>\n",
       "    </tr>\n",
       "    <tr>\n",
       "      <th>...</th>\n",
       "      <td>...</td>\n",
       "      <td>...</td>\n",
       "      <td>...</td>\n",
       "      <td>...</td>\n",
       "      <td>...</td>\n",
       "      <td>...</td>\n",
       "      <td>...</td>\n",
       "      <td>...</td>\n",
       "      <td>...</td>\n",
       "      <td>...</td>\n",
       "      <td>...</td>\n",
       "      <td>...</td>\n",
       "      <td>...</td>\n",
       "      <td>...</td>\n",
       "      <td>...</td>\n",
       "      <td>...</td>\n",
       "      <td>...</td>\n",
       "      <td>...</td>\n",
       "      <td>...</td>\n",
       "      <td>...</td>\n",
       "    </tr>\n",
       "    <tr>\n",
       "      <th>2142398</th>\n",
       "      <td>2178320</td>\n",
       "      <td>2.532632e+06</td>\n",
       "      <td>6863.680313</td>\n",
       "      <td>0.000001</td>\n",
       "      <td>55.0000</td>\n",
       "      <td>186.598342</td>\n",
       "      <td>133.273024</td>\n",
       "      <td>72.589862</td>\n",
       "      <td>2.535554e+06</td>\n",
       "      <td>2</td>\n",
       "      <td>0</td>\n",
       "      <td>5</td>\n",
       "      <td>12.566371</td>\n",
       "      <td>260.00</td>\n",
       "      <td>4.000000</td>\n",
       "      <td>1</td>\n",
       "      <td>2222-01-04 09:06:29.760751</td>\n",
       "      <td>2230-01-04 07:40:05.760786</td>\n",
       "      <td>Coordinated Satellite</td>\n",
       "      <td>S</td>\n",
       "    </tr>\n",
       "    <tr>\n",
       "      <th>2142399</th>\n",
       "      <td>2178321</td>\n",
       "      <td>2.532630e+06</td>\n",
       "      <td>6863.680313</td>\n",
       "      <td>0.000001</td>\n",
       "      <td>55.0000</td>\n",
       "      <td>26.538987</td>\n",
       "      <td>265.854121</td>\n",
       "      <td>178.615307</td>\n",
       "      <td>2.535551e+06</td>\n",
       "      <td>2</td>\n",
       "      <td>0</td>\n",
       "      <td>5</td>\n",
       "      <td>12.566371</td>\n",
       "      <td>260.00</td>\n",
       "      <td>4.000000</td>\n",
       "      <td>1</td>\n",
       "      <td>2222-01-02 00:06:19.152560</td>\n",
       "      <td>2230-01-01 22:39:55.152596</td>\n",
       "      <td>Coordinated Satellite</td>\n",
       "      <td>S</td>\n",
       "    </tr>\n",
       "    <tr>\n",
       "      <th>2142400</th>\n",
       "      <td>2178322</td>\n",
       "      <td>2.532630e+06</td>\n",
       "      <td>6978.809139</td>\n",
       "      <td>0.000001</td>\n",
       "      <td>55.0000</td>\n",
       "      <td>303.628443</td>\n",
       "      <td>36.913647</td>\n",
       "      <td>13.687663</td>\n",
       "      <td>2.535551e+06</td>\n",
       "      <td>2</td>\n",
       "      <td>0</td>\n",
       "      <td>5</td>\n",
       "      <td>12.566371</td>\n",
       "      <td>260.00</td>\n",
       "      <td>4.000000</td>\n",
       "      <td>1</td>\n",
       "      <td>2222-01-02 00:00:41.893637</td>\n",
       "      <td>2230-01-01 22:34:17.893632</td>\n",
       "      <td>Coordinated Satellite</td>\n",
       "      <td>S</td>\n",
       "    </tr>\n",
       "    <tr>\n",
       "      <th>2142401</th>\n",
       "      <td>2178323</td>\n",
       "      <td>2.532630e+06</td>\n",
       "      <td>6978.809139</td>\n",
       "      <td>0.000001</td>\n",
       "      <td>55.0000</td>\n",
       "      <td>271.864435</td>\n",
       "      <td>312.082824</td>\n",
       "      <td>247.201893</td>\n",
       "      <td>2.535552e+06</td>\n",
       "      <td>2</td>\n",
       "      <td>0</td>\n",
       "      <td>5</td>\n",
       "      <td>12.566371</td>\n",
       "      <td>260.00</td>\n",
       "      <td>4.000000</td>\n",
       "      <td>1</td>\n",
       "      <td>2222-01-02 21:40:33.436127</td>\n",
       "      <td>2230-01-02 20:14:09.436122</td>\n",
       "      <td>Coordinated Satellite</td>\n",
       "      <td>S</td>\n",
       "    </tr>\n",
       "    <tr>\n",
       "      <th>2142402</th>\n",
       "      <td>2178324</td>\n",
       "      <td>2.532631e+06</td>\n",
       "      <td>7078.921163</td>\n",
       "      <td>0.000001</td>\n",
       "      <td>55.0000</td>\n",
       "      <td>316.358900</td>\n",
       "      <td>170.118607</td>\n",
       "      <td>179.882286</td>\n",
       "      <td>2.535553e+06</td>\n",
       "      <td>2</td>\n",
       "      <td>0</td>\n",
       "      <td>5</td>\n",
       "      <td>12.566371</td>\n",
       "      <td>260.00</td>\n",
       "      <td>4.000000</td>\n",
       "      <td>1</td>\n",
       "      <td>2222-01-03 07:33:52.153358</td>\n",
       "      <td>2230-01-03 06:07:28.153353</td>\n",
       "      <td>Coordinated Satellite</td>\n",
       "      <td>S</td>\n",
       "    </tr>\n",
       "  </tbody>\n",
       "</table>\n",
       "<p>2142403 rows × 20 columns</p>\n",
       "</div>"
      ],
      "text/plain": [
       "         adept_id   epoch_start          sma       ecc      inc        raan  \\\n",
       "0               5  2.436280e+06  8618.593000  0.184635  34.2506  135.992700   \n",
       "1              11  2.436616e+06  8120.931000  0.146394  32.8628  282.264300   \n",
       "2              12  2.436616e+06  8315.964000  0.166247  32.9137   59.745100   \n",
       "3              16  2.436280e+06  8815.994000  0.202761  34.2718  155.033200   \n",
       "4              20  2.436830e+06  8259.940000  0.166109  33.3414  209.987200   \n",
       "...           ...           ...          ...       ...      ...         ...   \n",
       "2142398   2178320  2.532632e+06  6863.680313  0.000001  55.0000  186.598342   \n",
       "2142399   2178321  2.532630e+06  6863.680313  0.000001  55.0000   26.538987   \n",
       "2142400   2178322  2.532630e+06  6978.809139  0.000001  55.0000  303.628443   \n",
       "2142401   2178323  2.532630e+06  6978.809139  0.000001  55.0000  271.864435   \n",
       "2142402   2178324  2.532631e+06  7078.921163  0.000001  55.0000  316.358900   \n",
       "\n",
       "                aop          ma     epoch_end  obj_type  disp_option  \\\n",
       "0        211.562500  135.992700  2.436280e+06         2            0   \n",
       "1         94.604200  282.264300  2.436616e+06         2            0   \n",
       "2        282.252100   59.745100  2.436616e+06         1            0   \n",
       "3        197.079200  155.033200  2.436280e+06         1            0   \n",
       "4        158.100000  209.987200  2.436830e+06         2            0   \n",
       "...             ...         ...           ...       ...          ...   \n",
       "2142398  133.273024   72.589862  2.535554e+06         2            0   \n",
       "2142399  265.854121  178.615307  2.535551e+06         2            0   \n",
       "2142400   36.913647   13.687663  2.535551e+06         2            0   \n",
       "2142401  312.082824  247.201893  2.535552e+06         2            0   \n",
       "2142402  170.118607  179.882286  2.535553e+06         2            0   \n",
       "\n",
       "         stationkeeping       area    mass      size  weight  \\\n",
       "0                     0   0.020106    1.46  0.160000       1   \n",
       "1                     0   0.204300    9.71  0.510022       1   \n",
       "2                     0   1.017091   22.79  1.137981       1   \n",
       "3                     0   1.017091   22.79  1.137981       1   \n",
       "4                     0   1.103524   67.39  1.185348       1   \n",
       "...                 ...        ...     ...       ...     ...   \n",
       "2142398               5  12.566371  260.00  4.000000       1   \n",
       "2142399               5  12.566371  260.00  4.000000       1   \n",
       "2142400               5  12.566371  260.00  4.000000       1   \n",
       "2142401               5  12.566371  260.00  4.000000       1   \n",
       "2142402               5  12.566371  260.00  4.000000       1   \n",
       "\n",
       "                epoch_start_datime           epoch_end_datime  \\\n",
       "0       1958-03-17 00:00:00.000000 1958-03-17 00:00:00.000000   \n",
       "1       1959-02-17 00:00:00.000000 1959-02-17 00:00:00.000000   \n",
       "2       1959-02-17 00:00:00.000000 1959-02-17 00:00:00.000000   \n",
       "3       1958-03-17 00:00:00.000000 1958-03-17 00:00:00.000000   \n",
       "4       1959-09-18 00:00:00.000000 1959-09-18 00:00:00.000000   \n",
       "...                            ...                        ...   \n",
       "2142398 2222-01-04 09:06:29.760751 2230-01-04 07:40:05.760786   \n",
       "2142399 2222-01-02 00:06:19.152560 2230-01-01 22:39:55.152596   \n",
       "2142400 2222-01-02 00:00:41.893637 2230-01-01 22:34:17.893632   \n",
       "2142401 2222-01-02 21:40:33.436127 2230-01-02 20:14:09.436122   \n",
       "2142402 2222-01-03 07:33:52.153358 2230-01-03 06:07:28.153353   \n",
       "\n",
       "                             obj_class species_class  \n",
       "0        Non-station-keeping Satellite             S  \n",
       "1        Non-station-keeping Satellite             S  \n",
       "2                          Rocket Body             B  \n",
       "3                          Rocket Body             B  \n",
       "4        Non-station-keeping Satellite             S  \n",
       "...                                ...           ...  \n",
       "2142398          Coordinated Satellite             S  \n",
       "2142399          Coordinated Satellite             S  \n",
       "2142400          Coordinated Satellite             S  \n",
       "2142401          Coordinated Satellite             S  \n",
       "2142402          Coordinated Satellite             S  \n",
       "\n",
       "[2142403 rows x 20 columns]"
      ]
     },
     "execution_count": 14,
     "metadata": {},
     "output_type": "execute_result"
    }
   ],
   "source": [
    "T"
   ]
  },
  {
   "cell_type": "code",
   "execution_count": 55,
   "id": "311512b6-a8ef-4a03-9163-434d0cc2679e",
   "metadata": {},
   "outputs": [
    {
     "data": {
      "text/html": [
       "<div>\n",
       "<style scoped>\n",
       "    .dataframe tbody tr th:only-of-type {\n",
       "        vertical-align: middle;\n",
       "    }\n",
       "\n",
       "    .dataframe tbody tr th {\n",
       "        vertical-align: top;\n",
       "    }\n",
       "\n",
       "    .dataframe thead th {\n",
       "        text-align: right;\n",
       "    }\n",
       "</style>\n",
       "<table border=\"1\" class=\"dataframe\">\n",
       "  <thead>\n",
       "    <tr style=\"text-align: right;\">\n",
       "      <th></th>\n",
       "      <th>adept_id</th>\n",
       "      <th>epoch_start</th>\n",
       "      <th>sma</th>\n",
       "      <th>ecc</th>\n",
       "      <th>inc</th>\n",
       "      <th>raan</th>\n",
       "      <th>aop</th>\n",
       "      <th>ma</th>\n",
       "      <th>epoch_end</th>\n",
       "      <th>obj_type</th>\n",
       "      <th>disp_option</th>\n",
       "      <th>stationkeeping</th>\n",
       "      <th>area</th>\n",
       "      <th>mass</th>\n",
       "      <th>size</th>\n",
       "      <th>weight</th>\n",
       "      <th>epoch_start_datime</th>\n",
       "      <th>epoch_end_datime</th>\n",
       "      <th>obj_class</th>\n",
       "      <th>species_class</th>\n",
       "    </tr>\n",
       "  </thead>\n",
       "  <tbody>\n",
       "    <tr>\n",
       "      <th>10377</th>\n",
       "      <td>40376</td>\n",
       "      <td>2.457054e+06</td>\n",
       "      <td>7060.623000</td>\n",
       "      <td>0.000106</td>\n",
       "      <td>98.1282</td>\n",
       "      <td>265.987100</td>\n",
       "      <td>94.145300</td>\n",
       "      <td>265.987100</td>\n",
       "      <td>2.459975e+06</td>\n",
       "      <td>2</td>\n",
       "      <td>0</td>\n",
       "      <td>3</td>\n",
       "      <td>9.605000</td>\n",
       "      <td>944.0</td>\n",
       "      <td>3.497065</td>\n",
       "      <td>1</td>\n",
       "      <td>2015-01-31 00:00:00.000000</td>\n",
       "      <td>2023-01-30 22:33:35.999995</td>\n",
       "      <td>Station-keeping Satellite</td>\n",
       "      <td>S</td>\n",
       "    </tr>\n",
       "    <tr>\n",
       "      <th>10378</th>\n",
       "      <td>40377</td>\n",
       "      <td>2.457054e+06</td>\n",
       "      <td>6827.711000</td>\n",
       "      <td>0.008416</td>\n",
       "      <td>99.0786</td>\n",
       "      <td>294.503000</td>\n",
       "      <td>66.502700</td>\n",
       "      <td>294.503000</td>\n",
       "      <td>2.459975e+06</td>\n",
       "      <td>2</td>\n",
       "      <td>0</td>\n",
       "      <td>3</td>\n",
       "      <td>0.040000</td>\n",
       "      <td>2.0</td>\n",
       "      <td>0.225676</td>\n",
       "      <td>1</td>\n",
       "      <td>2015-01-31 00:00:00.000000</td>\n",
       "      <td>2023-01-30 22:33:35.999995</td>\n",
       "      <td>Station-keeping Satellite</td>\n",
       "      <td>S</td>\n",
       "    </tr>\n",
       "    <tr>\n",
       "      <th>10379</th>\n",
       "      <td>40378</td>\n",
       "      <td>2.457054e+06</td>\n",
       "      <td>6827.351000</td>\n",
       "      <td>0.008408</td>\n",
       "      <td>99.0799</td>\n",
       "      <td>295.072100</td>\n",
       "      <td>65.928800</td>\n",
       "      <td>295.072100</td>\n",
       "      <td>2.459975e+06</td>\n",
       "      <td>2</td>\n",
       "      <td>0</td>\n",
       "      <td>3</td>\n",
       "      <td>0.040000</td>\n",
       "      <td>2.0</td>\n",
       "      <td>0.225676</td>\n",
       "      <td>1</td>\n",
       "      <td>2015-01-31 00:00:00.000000</td>\n",
       "      <td>2023-01-30 22:33:35.999995</td>\n",
       "      <td>Station-keeping Satellite</td>\n",
       "      <td>S</td>\n",
       "    </tr>\n",
       "    <tr>\n",
       "      <th>10380</th>\n",
       "      <td>40379</td>\n",
       "      <td>2.457054e+06</td>\n",
       "      <td>6858.712000</td>\n",
       "      <td>0.010490</td>\n",
       "      <td>99.0860</td>\n",
       "      <td>240.206500</td>\n",
       "      <td>120.952900</td>\n",
       "      <td>240.206500</td>\n",
       "      <td>2.459975e+06</td>\n",
       "      <td>2</td>\n",
       "      <td>0</td>\n",
       "      <td>3</td>\n",
       "      <td>0.075000</td>\n",
       "      <td>4.0</td>\n",
       "      <td>0.309019</td>\n",
       "      <td>1</td>\n",
       "      <td>2015-01-31 00:00:00.000000</td>\n",
       "      <td>2023-01-30 22:33:35.999995</td>\n",
       "      <td>Station-keeping Satellite</td>\n",
       "      <td>S</td>\n",
       "    </tr>\n",
       "    <tr>\n",
       "      <th>10381</th>\n",
       "      <td>40380</td>\n",
       "      <td>2.457054e+06</td>\n",
       "      <td>6873.076000</td>\n",
       "      <td>0.011511</td>\n",
       "      <td>99.0959</td>\n",
       "      <td>216.089300</td>\n",
       "      <td>144.801200</td>\n",
       "      <td>216.089300</td>\n",
       "      <td>2.459975e+06</td>\n",
       "      <td>2</td>\n",
       "      <td>0</td>\n",
       "      <td>3</td>\n",
       "      <td>0.075000</td>\n",
       "      <td>4.0</td>\n",
       "      <td>0.309019</td>\n",
       "      <td>1</td>\n",
       "      <td>2015-01-31 00:00:00.000000</td>\n",
       "      <td>2023-01-30 22:33:35.999995</td>\n",
       "      <td>Station-keeping Satellite</td>\n",
       "      <td>S</td>\n",
       "    </tr>\n",
       "    <tr>\n",
       "      <th>...</th>\n",
       "      <td>...</td>\n",
       "      <td>...</td>\n",
       "      <td>...</td>\n",
       "      <td>...</td>\n",
       "      <td>...</td>\n",
       "      <td>...</td>\n",
       "      <td>...</td>\n",
       "      <td>...</td>\n",
       "      <td>...</td>\n",
       "      <td>...</td>\n",
       "      <td>...</td>\n",
       "      <td>...</td>\n",
       "      <td>...</td>\n",
       "      <td>...</td>\n",
       "      <td>...</td>\n",
       "      <td>...</td>\n",
       "      <td>...</td>\n",
       "      <td>...</td>\n",
       "      <td>...</td>\n",
       "      <td>...</td>\n",
       "    </tr>\n",
       "    <tr>\n",
       "      <th>1090763</th>\n",
       "      <td>1126685</td>\n",
       "      <td>2.496107e+06</td>\n",
       "      <td>6903.725122</td>\n",
       "      <td>0.000001</td>\n",
       "      <td>53.0000</td>\n",
       "      <td>340.847804</td>\n",
       "      <td>52.548401</td>\n",
       "      <td>95.923585</td>\n",
       "      <td>2.499029e+06</td>\n",
       "      <td>2</td>\n",
       "      <td>0</td>\n",
       "      <td>5</td>\n",
       "      <td>12.566371</td>\n",
       "      <td>750.0</td>\n",
       "      <td>4.000000</td>\n",
       "      <td>1</td>\n",
       "      <td>2122-01-03 22:13:43.612618</td>\n",
       "      <td>2130-01-03 20:47:19.612614</td>\n",
       "      <td>Coordinated Satellite</td>\n",
       "      <td>S</td>\n",
       "    </tr>\n",
       "    <tr>\n",
       "      <th>1090774</th>\n",
       "      <td>1126696</td>\n",
       "      <td>2.496107e+06</td>\n",
       "      <td>6718.517879</td>\n",
       "      <td>0.000001</td>\n",
       "      <td>53.0000</td>\n",
       "      <td>253.388107</td>\n",
       "      <td>136.272203</td>\n",
       "      <td>55.887703</td>\n",
       "      <td>2.499029e+06</td>\n",
       "      <td>2</td>\n",
       "      <td>0</td>\n",
       "      <td>5</td>\n",
       "      <td>50.265482</td>\n",
       "      <td>1250.0</td>\n",
       "      <td>8.000000</td>\n",
       "      <td>1</td>\n",
       "      <td>2122-01-03 22:50:04.645810</td>\n",
       "      <td>2130-01-03 21:23:40.645805</td>\n",
       "      <td>Coordinated Satellite</td>\n",
       "      <td>S</td>\n",
       "    </tr>\n",
       "    <tr>\n",
       "      <th>1090880</th>\n",
       "      <td>1126802</td>\n",
       "      <td>2.496107e+06</td>\n",
       "      <td>7529.425267</td>\n",
       "      <td>0.000001</td>\n",
       "      <td>55.0000</td>\n",
       "      <td>55.942325</td>\n",
       "      <td>275.970315</td>\n",
       "      <td>282.643509</td>\n",
       "      <td>2.499029e+06</td>\n",
       "      <td>2</td>\n",
       "      <td>0</td>\n",
       "      <td>5</td>\n",
       "      <td>12.566371</td>\n",
       "      <td>260.0</td>\n",
       "      <td>4.000000</td>\n",
       "      <td>1</td>\n",
       "      <td>2122-01-03 23:08:59.909859</td>\n",
       "      <td>2130-01-03 21:42:35.909854</td>\n",
       "      <td>Coordinated Satellite</td>\n",
       "      <td>S</td>\n",
       "    </tr>\n",
       "    <tr>\n",
       "      <th>1090793</th>\n",
       "      <td>1126715</td>\n",
       "      <td>2.496107e+06</td>\n",
       "      <td>6728.529081</td>\n",
       "      <td>0.000001</td>\n",
       "      <td>38.0000</td>\n",
       "      <td>35.939682</td>\n",
       "      <td>67.382555</td>\n",
       "      <td>71.302845</td>\n",
       "      <td>2.499029e+06</td>\n",
       "      <td>2</td>\n",
       "      <td>0</td>\n",
       "      <td>5</td>\n",
       "      <td>50.265482</td>\n",
       "      <td>1250.0</td>\n",
       "      <td>8.000000</td>\n",
       "      <td>1</td>\n",
       "      <td>2122-01-03 23:46:15.268807</td>\n",
       "      <td>2130-01-03 22:19:51.268802</td>\n",
       "      <td>Coordinated Satellite</td>\n",
       "      <td>S</td>\n",
       "    </tr>\n",
       "    <tr>\n",
       "      <th>1090756</th>\n",
       "      <td>1126678</td>\n",
       "      <td>2.496107e+06</td>\n",
       "      <td>6938.764330</td>\n",
       "      <td>0.000001</td>\n",
       "      <td>97.6000</td>\n",
       "      <td>63.630862</td>\n",
       "      <td>151.650989</td>\n",
       "      <td>74.481043</td>\n",
       "      <td>2.499029e+06</td>\n",
       "      <td>2</td>\n",
       "      <td>0</td>\n",
       "      <td>5</td>\n",
       "      <td>12.566371</td>\n",
       "      <td>260.0</td>\n",
       "      <td>4.000000</td>\n",
       "      <td>1</td>\n",
       "      <td>2122-01-03 23:57:52.737966</td>\n",
       "      <td>2130-01-03 22:31:28.738002</td>\n",
       "      <td>Coordinated Satellite</td>\n",
       "      <td>S</td>\n",
       "    </tr>\n",
       "  </tbody>\n",
       "</table>\n",
       "<p>1012758 rows × 20 columns</p>\n",
       "</div>"
      ],
      "text/plain": [
       "         adept_id   epoch_start          sma       ecc      inc        raan  \\\n",
       "10377       40376  2.457054e+06  7060.623000  0.000106  98.1282  265.987100   \n",
       "10378       40377  2.457054e+06  6827.711000  0.008416  99.0786  294.503000   \n",
       "10379       40378  2.457054e+06  6827.351000  0.008408  99.0799  295.072100   \n",
       "10380       40379  2.457054e+06  6858.712000  0.010490  99.0860  240.206500   \n",
       "10381       40380  2.457054e+06  6873.076000  0.011511  99.0959  216.089300   \n",
       "...           ...           ...          ...       ...      ...         ...   \n",
       "1090763   1126685  2.496107e+06  6903.725122  0.000001  53.0000  340.847804   \n",
       "1090774   1126696  2.496107e+06  6718.517879  0.000001  53.0000  253.388107   \n",
       "1090880   1126802  2.496107e+06  7529.425267  0.000001  55.0000   55.942325   \n",
       "1090793   1126715  2.496107e+06  6728.529081  0.000001  38.0000   35.939682   \n",
       "1090756   1126678  2.496107e+06  6938.764330  0.000001  97.6000   63.630862   \n",
       "\n",
       "                aop          ma     epoch_end  obj_type  disp_option  \\\n",
       "10377     94.145300  265.987100  2.459975e+06         2            0   \n",
       "10378     66.502700  294.503000  2.459975e+06         2            0   \n",
       "10379     65.928800  295.072100  2.459975e+06         2            0   \n",
       "10380    120.952900  240.206500  2.459975e+06         2            0   \n",
       "10381    144.801200  216.089300  2.459975e+06         2            0   \n",
       "...             ...         ...           ...       ...          ...   \n",
       "1090763   52.548401   95.923585  2.499029e+06         2            0   \n",
       "1090774  136.272203   55.887703  2.499029e+06         2            0   \n",
       "1090880  275.970315  282.643509  2.499029e+06         2            0   \n",
       "1090793   67.382555   71.302845  2.499029e+06         2            0   \n",
       "1090756  151.650989   74.481043  2.499029e+06         2            0   \n",
       "\n",
       "         stationkeeping       area    mass      size  weight  \\\n",
       "10377                 3   9.605000   944.0  3.497065       1   \n",
       "10378                 3   0.040000     2.0  0.225676       1   \n",
       "10379                 3   0.040000     2.0  0.225676       1   \n",
       "10380                 3   0.075000     4.0  0.309019       1   \n",
       "10381                 3   0.075000     4.0  0.309019       1   \n",
       "...                 ...        ...     ...       ...     ...   \n",
       "1090763               5  12.566371   750.0  4.000000       1   \n",
       "1090774               5  50.265482  1250.0  8.000000       1   \n",
       "1090880               5  12.566371   260.0  4.000000       1   \n",
       "1090793               5  50.265482  1250.0  8.000000       1   \n",
       "1090756               5  12.566371   260.0  4.000000       1   \n",
       "\n",
       "                epoch_start_datime           epoch_end_datime  \\\n",
       "10377   2015-01-31 00:00:00.000000 2023-01-30 22:33:35.999995   \n",
       "10378   2015-01-31 00:00:00.000000 2023-01-30 22:33:35.999995   \n",
       "10379   2015-01-31 00:00:00.000000 2023-01-30 22:33:35.999995   \n",
       "10380   2015-01-31 00:00:00.000000 2023-01-30 22:33:35.999995   \n",
       "10381   2015-01-31 00:00:00.000000 2023-01-30 22:33:35.999995   \n",
       "...                            ...                        ...   \n",
       "1090763 2122-01-03 22:13:43.612618 2130-01-03 20:47:19.612614   \n",
       "1090774 2122-01-03 22:50:04.645810 2130-01-03 21:23:40.645805   \n",
       "1090880 2122-01-03 23:08:59.909859 2130-01-03 21:42:35.909854   \n",
       "1090793 2122-01-03 23:46:15.268807 2130-01-03 22:19:51.268802   \n",
       "1090756 2122-01-03 23:57:52.737966 2130-01-03 22:31:28.738002   \n",
       "\n",
       "                         obj_class species_class  \n",
       "10377    Station-keeping Satellite             S  \n",
       "10378    Station-keeping Satellite             S  \n",
       "10379    Station-keeping Satellite             S  \n",
       "10380    Station-keeping Satellite             S  \n",
       "10381    Station-keeping Satellite             S  \n",
       "...                            ...           ...  \n",
       "1090763      Coordinated Satellite             S  \n",
       "1090774      Coordinated Satellite             S  \n",
       "1090880      Coordinated Satellite             S  \n",
       "1090793      Coordinated Satellite             S  \n",
       "1090756      Coordinated Satellite             S  \n",
       "\n",
       "[1012758 rows x 20 columns]"
      ]
     },
     "execution_count": 55,
     "metadata": {},
     "output_type": "execute_result"
    }
   ],
   "source": [
    "T[T.species_class == \"S\"].sort_values(\"epoch_start_datime\")"
   ]
  },
  {
   "cell_type": "code",
   "execution_count": 51,
   "id": "b995e172-0d00-4b38-a63b-d36ebd82e57e",
   "metadata": {},
   "outputs": [],
   "source": [
    "enddate = time_steps[-1]\n",
    "startdate = time_steps[0]\n",
    "T = T[(T.epoch_end_datime >= startdate)&(T.epoch_start_datime <= enddate)]"
   ]
  },
  {
   "cell_type": "code",
   "execution_count": 81,
   "id": "47a83f6a-f188-47cb-bb27-773a9ea1a3b8",
   "metadata": {},
   "outputs": [],
   "source": [
    "T = T[T.species_class == \"S\"]"
   ]
  },
  {
   "cell_type": "code",
   "execution_count": 84,
   "id": "91833afc-3e12-4a13-a5b7-c4d653d5b418",
   "metadata": {},
   "outputs": [
    {
     "data": {
      "text/plain": [
       "(array([2.23460e+04, 2.87800e+03, 1.27522e+05, 1.41020e+04, 2.80041e+05,\n",
       "        1.01700e+03, 2.06000e+02, 2.41000e+02, 1.48221e+05, 3.06000e+02]),\n",
       " array([  0.,  60., 120., 180., 240., 300., 360., 420., 480., 540., 600.]),\n",
       " <BarContainer object of 10 artists>)"
      ]
     },
     "execution_count": 84,
     "metadata": {},
     "output_type": "execute_result"
    },
    {
     "data": {
      "image/png": "[encoded data removed]",
      "text/plain": [
       "<Figure size 640x480 with 1 Axes>"
      ]
     },
     "metadata": {},
     "output_type": "display_data"
    }
   ],
   "source": [
    "import matplotlib.pyplot as plt\n",
    "plt.hist(Ttemp.mass)"
   ]
  },
  {
   "cell_type": "code",
   "execution_count": 7,
   "id": "d6f2315f-cd68-4887-b82a-4beb16f5ba51",
   "metadata": {
    "scrolled": true
   },
   "outputs": [
    {
     "name": "stdout",
     "output_type": "stream",
     "text": [
      "baseline\n",
      "S\n",
      "650\n",
      "N_0.64kg\n",
      "300\n",
      "N_223kg\n",
      "450\n",
      "S lambda Expr:  3600\n",
      "N_0.64kg lambda Expr:  3600\n",
      "N_223kg lambda Expr:  3600\n",
      "species_pair(S, N_0.64kg) Matrix([[-8.19208751169813e-8*pi*N_0.64kg_1*S_1, 1.86405785458195e-7*pi*N_0.64kg_1*S_1, 8.03145834480209e-8*pi*N_0.64kg_1*S_1]])\n",
      "species_pair(S, N_223kg) Matrix([[-2.6085199877688e-7*pi*N_223kg_1*S_1, 2.54580500981331e-6*pi*N_223kg_1*S_1, 2.55737253702824e-7*pi*N_223kg_1*S_1]])\n",
      "species_pair(N_0.64kg, N_223kg) Matrix([[0, 9.32028927290974e-7*pi*N_0.64kg_1*N_223kg_1, -8.03145834480209e-9*pi*N_0.64kg_1*N_223kg_1]])\n",
      "species_pair(S, S) Matrix([[-2.55737253702824e-10*pi*S_1**2, 1.27290250490665e-5*pi*S_1**2, 0]])\n",
      "species_pair(N_0.64kg, N_0.64kg) Matrix([[0, 4.33113230940192e-8*pi*N_0.64kg_1**2, 0]])\n",
      "species_pair(N_223kg, N_223kg) Matrix([[0, 1.27290250490665e-5*pi*N_223kg_1**2, -2.55737253702824e-8*pi*N_223kg_1**2]])\n",
      "EQUATION:  Matrix([[-8.19208751169813e-8*pi*N_0.64kg_1*S_1 - 2.6085199877688e-7*pi*N_223kg_1*S_1 - 2.55737253702824e-10*pi*S_1**2 - 0.1*S_1, 4.33113230940192e-8*pi*N_0.64kg_1**2 + 9.32028927290974e-7*pi*N_0.64kg_1*N_223kg_1 + 1.86405785458195e-7*pi*N_0.64kg_1*S_1 + 1.27290250490665e-5*pi*N_223kg_1**2 + 2.54580500981331e-6*pi*N_223kg_1*S_1 + 1.27290250490665e-5*pi*S_1**2, -8.03145834480209e-9*pi*N_0.64kg_1*N_223kg_1 + 8.03145834480209e-8*pi*N_0.64kg_1*S_1 - 2.55737253702824e-8*pi*N_223kg_1**2 + 2.55737253702824e-7*pi*N_223kg_1*S_1 + 0.005*S_1]])\n",
      "Conversion of equations to lambda functions...\n",
      "x0              S    N_0.64kg     N_223kg\n",
      "0            0           0           0\n",
      "1   217.919393       400.0   97.350098\n",
      "2   312.697525  357.935727  111.854915\n",
      "3    424.44902  256.472155   121.57556\n",
      "4    545.00333  147.151776       125.0\n",
      "5   661.980666   67.605326   121.57556\n",
      "6   760.613419    24.87061  111.854915\n",
      "7   826.713806    7.326256   97.350098\n",
      "8        850.0    1.728096   80.147549\n",
      "9   826.713806    0.326395   62.418974\n",
      "10  760.613419    0.049364    45.98493\n",
      "11  661.980666    0.005978    32.04697\n",
      "12   545.00333     0.00058   21.126664\n",
      "13   424.44902    0.000045   13.174903\n",
      "14  312.697525    0.000003    7.772066\n",
      "15  217.919393         0.0    4.337086\n",
      "16  143.661318         0.0    2.289455\n",
      "17   89.589341         0.0    1.143243\n",
      "18   52.850045         0.0     0.54003\n",
      "19   29.492183         0.0    0.241307\n",
      "20   15.568293         0.0    0.101998\n",
      "21    7.774055         0.0    0.040784\n",
      "22    3.672204         0.0    0.015426\n",
      "23    1.640886         0.0     0.00552\n",
      "24     0.69359         0.0    0.001868\n",
      "25    0.277332         0.0    0.000598\n",
      "26    0.104898         0.0    0.000181\n",
      "27    0.037533         0.0    0.000052\n",
      "28    0.012704         0.0    0.000014\n",
      "29    0.004067         0.0    0.000004\n",
      "30    0.001232         0.0    0.000001\n",
      "31    0.000353         0.0         0.0\n",
      "32    0.000096         0.0         0.0\n",
      "33    0.000025         0.0         0.0\n",
      "34    0.000006         0.0         0.0\n",
      "35    0.000001         0.0         0.0\n",
      "Integrating equations...\n",
      "0.0\n",
      "1.2226303125911144e-09\n",
      "0.0\n",
      "0.0\n",
      "0.0\n",
      "0.0\n",
      "0.0\n",
      "0.0\n",
      "0.0\n",
      "0.0\n",
      "0.0\n",
      "0.0\n",
      "0.0\n",
      "0.0\n",
      "0.0\n",
      "0.0\n",
      "0.0\n",
      "0.0\n",
      "0.0\n",
      "0.0\n",
      "0.0\n",
      "0.0\n",
      "0.0\n",
      "0.0\n",
      "0.0\n",
      "0.0\n",
      "0.0\n",
      "0.0\n",
      "0.0\n",
      "0.0\n",
      "0.0\n",
      "0.0\n",
      "0.0\n",
      "0.0\n",
      "0.0\n",
      "0.0\n",
      "0.0\n",
      "0.0\n",
      "0.0\n",
      "0.0\n",
      "0.0\n",
      "0.0\n",
      "0.0\n",
      "0.0\n",
      "0.0\n",
      "0.0\n",
      "0.0\n",
      "0.0\n",
      "0.0\n",
      "0.0\n",
      "0.0\n",
      "0.0\n",
      "0.0\n",
      "0.0\n",
      "0.0\n",
      "0.0\n",
      "0.0\n",
      "0.0\n",
      "0.0\n",
      "0.0\n",
      "0.0\n",
      "0.0\n",
      "0.0\n",
      "0.0\n",
      "0.0\n",
      "0.0\n",
      "0.0\n",
      "0.0\n",
      "0.0\n",
      "0.0\n",
      "0.0\n",
      "0.0\n",
      "0.0\n",
      "0.0\n",
      "0.0\n",
      "0.0\n",
      "0.0\n",
      "0.0\n",
      "0.0\n",
      "0.0\n",
      "0.0\n",
      "0.0\n",
      "0.0\n",
      "0.0\n",
      "0.0\n",
      "0.0\n",
      "0.0\n",
      "0.0\n",
      "0.0\n",
      "0.0\n",
      "0.0\n",
      "0.0\n",
      "0.0\n",
      "0.0\n",
      "0.0\n",
      "0.0\n",
      "0.0\n",
      "0.0\n",
      "0.0\n",
      "0.0\n",
      "0.0\n",
      "0.0\n",
      "0.0\n",
      "0.0\n",
      "0.0\n",
      "0.0\n",
      "0.0\n",
      "0.0\n",
      "0.0\n",
      "0.0\n",
      "0.0\n",
      "0.0\n",
      "0.0\n",
      "0.0\n",
      "0.0\n",
      "0.0\n",
      "0.0\n",
      "0.0\n",
      "0.0\n",
      "0.0\n",
      "0.0\n",
      "0.0\n",
      "4.682574784738846e-08\n",
      "4.682574784738846e-08\n",
      "9.365149569477691e-08\n",
      "9.365149569477691e-08\n",
      "5.619089741686615e-07\n",
      "5.619089741686615e-07\n",
      "1.0301664526425462e-06\n",
      "1.0301664526425462e-06\n",
      "5.7127412373813935e-06\n",
      "5.7127412373813935e-06\n",
      "1.039531602212024e-05\n",
      "1.039531602212024e-05\n",
      "1.5077890806859089e-05\n",
      "1.5077890806859089e-05\n",
      "6.190363865424758e-05\n",
      "6.190363865424758e-05\n",
      "0.00010872938650163607\n",
      "0.00010872938650163607\n",
      "0.00015555513434902456\n",
      "0.00015555513434902456\n",
      "0.0004049453901348036\n",
      "0.0004049453901348036\n",
      "0.0006543356459205827\n",
      "0.0006543356459205827\n",
      "0.0009037259017063617\n",
      "0.0009037259017063617\n",
      "0.0011531161574921407\n",
      "0.0011531161574921407\n",
      "0.0019592615636007562\n",
      "0.0019592615636007562\n",
      "0.0027654069697093716\n",
      "0.0027654069697093716\n",
      "0.003571552375817987\n",
      "0.003571552375817987\n",
      "0.004377697781926602\n",
      "0.004377697781926602\n",
      "0.005183843188035218\n",
      "0.005183843188035218\n",
      "0.006313256618005264\n",
      "0.006313256618005264\n",
      "0.00744267004797531\n",
      "0.00744267004797531\n",
      "0.008572083477945355\n",
      "0.008572083477945355\n",
      "0.0097014969079154\n",
      "0.0097014969079154\n",
      "0.011936876164539454\n",
      "0.011936876164539454\n",
      "0.014172255421163509\n",
      "0.014172255421163509\n",
      "0.016407634677787563\n",
      "0.016407634677787563\n",
      "0.020095665621164778\n",
      "0.020095665621164778\n",
      "0.023783696564541993\n",
      "0.023783696564541993\n",
      "0.027471727507919208\n",
      "0.027471727507919208\n",
      "0.031159758451296423\n",
      "0.031159758451296423\n",
      "0.03555714543525789\n",
      "0.03555714543525789\n",
      "0.039954532419219355\n",
      "0.039954532419219355\n",
      "0.04435191940318082\n",
      "0.04435191940318082\n",
      "0.04874930638714228\n",
      "0.04874930638714228\n",
      "0.05314669337110375\n",
      "0.05314669337110375\n",
      "0.06119472010477897\n",
      "0.06119472010477897\n",
      "0.06924274683845419\n",
      "0.06924274683845419\n",
      "0.0772907735721294\n",
      "0.0772907735721294\n",
      "0.08533880030580462\n",
      "0.08533880030580462\n",
      "0.09338682703947984\n",
      "0.09338682703947984\n",
      "0.10427882002569257\n",
      "0.10427882002569257\n",
      "0.1151708130119053\n",
      "0.1151708130119053\n",
      "0.12606280599811803\n",
      "0.12606280599811803\n",
      "0.13695479898433077\n",
      "0.13695479898433077\n",
      "0.1478467919705435\n",
      "0.1478467919705435\n",
      "0.16500167420078182\n",
      "0.16500167420078182\n",
      "0.18215655643102013\n",
      "0.18215655643102013\n",
      "0.19931143866125844\n",
      "0.19931143866125844\n",
      "0.21646632089149676\n",
      "0.21646632089149676\n",
      "0.23362120312173507\n",
      "0.23362120312173507\n",
      "0.26594607661207514\n",
      "0.26594607661207514\n",
      "0.2982709501024152\n",
      "0.2982709501024152\n",
      "0.3305958235927553\n",
      "0.3305958235927553\n",
      "0.3629206970830954\n",
      "0.3629206970830954\n",
      "0.39524557057343546\n",
      "0.39524557057343546\n",
      "0.43944016871049846\n",
      "0.43944016871049846\n",
      "0.48363476684756146\n",
      "0.48363476684756146\n",
      "0.5278293649846244\n",
      "0.5278293649846244\n",
      "0.5720239631216874\n",
      "0.5720239631216874\n",
      "0.6430958919414536\n",
      "0.6430958919414536\n",
      "0.7141678207612198\n",
      "0.7141678207612198\n",
      "0.785239749580986\n",
      "0.785239749580986\n",
      "0.8563116784007522\n",
      "0.8563116784007522\n",
      "0.9687033452749191\n",
      "0.9687033452749191\n",
      "1.081095012149086\n",
      "1.081095012149086\n",
      "1.1934866790232532\n",
      "1.1934866790232532\n",
      "1.3058783458974204\n",
      "1.3058783458974204\n",
      "1.4947169074277542\n",
      "1.4947169074277542\n",
      "1.683555468958088\n",
      "1.683555468958088\n",
      "1.872394030488422\n",
      "1.872394030488422\n",
      "2.0612325920187557\n",
      "2.0612325920187557\n",
      "2.375497749770412\n",
      "2.375497749770412\n",
      "2.6897629075220686\n",
      "2.6897629075220686\n",
      "3.004028065273725\n",
      "3.004028065273725\n",
      "3.3182932230253814\n",
      "3.3182932230253814\n",
      "3.849324098067699\n",
      "3.849324098067699\n",
      "4.380354973110016\n",
      "4.380354973110016\n",
      "4.911385848152333\n",
      "4.911385848152333\n",
      "5.4424167231946505\n",
      "5.4424167231946505\n",
      "6.418739492321761\n",
      "6.418739492321761\n",
      "7.395062261448871\n",
      "7.395062261448871\n",
      "8.371385030575981\n",
      "8.371385030575981\n",
      "9.347707799703091\n",
      "9.347707799703091\n",
      "11.190838735429933\n",
      "11.190838735429933\n",
      "13.033969671156775\n",
      "13.033969671156775\n",
      "14.877100606883618\n",
      "14.877100606883618\n",
      "16.72023154261046\n",
      "16.72023154261046\n",
      "19.82883928567559\n",
      "19.82883928567559\n",
      "19.82883928567559\n",
      "22.937447028740717\n",
      "22.937447028740717\n",
      "22.937447028740717\n",
      "26.046054771805846\n",
      "26.046054771805846\n",
      "26.046054771805846\n",
      "29.154662514870974\n",
      "29.154662514870974\n",
      "29.154662514870974\n",
      "33.19112564263342\n",
      "33.19112564263342\n",
      "33.19112564263342\n",
      "37.22758877039587\n",
      "37.22758877039587\n",
      "37.22758877039587\n",
      "41.264051898158314\n",
      "41.264051898158314\n",
      "41.264051898158314\n",
      "45.30051502592076\n",
      "45.30051502592076\n",
      "45.30051502592076\n",
      "50.899328011621364\n",
      "50.899328011621364\n",
      "50.899328011621364\n",
      "56.49814099732197\n",
      "56.49814099732197\n",
      "56.49814099732197\n",
      "62.09695398302257\n",
      "62.09695398302257\n",
      "62.09695398302257\n",
      "67.69576696872318\n",
      "67.69576696872318\n",
      "67.69576696872318\n",
      "76.33037435782902\n",
      "76.33037435782902\n",
      "76.33037435782902\n",
      "84.96498174693485\n",
      "84.96498174693485\n",
      "84.96498174693485\n",
      "93.59958913604069\n",
      "93.59958913604069\n",
      "93.59958913604069\n",
      "100.0\n",
      "100.0\n",
      "Model run completed successfully.\n"
     ]
    }
   ],
   "source": [
    "# Run the model\n",
    "results = model.run_model()"
   ]
  },
  {
   "cell_type": "code",
   "execution_count": 8,
   "id": "f25df84f-5f82-4ab3-89c2-5a91015c52b3",
   "metadata": {},
   "outputs": [
    {
     "name": "stdout",
     "output_type": "stream",
     "text": [
      "Making plots\n"
     ]
    }
   ],
   "source": [
    "model.create_plots()"
   ]
  },
  {
   "cell_type": "code",
   "execution_count": null,
   "id": "da031f71-7d44-4dbe-af0b-74e4ce1a73d0",
   "metadata": {},
   "outputs": [],
   "source": []
  },
  {
   "cell_type": "code",
   "execution_count": 9,
   "id": "baa88a61-7f05-4a39-97f3-8276078d3dcb",
   "metadata": {
    "scrolled": true
   },
   "outputs": [
    {
     "data": {
      "text/plain": [
       "  message: 'The solver successfully reached the end of the integration interval.'\n",
       "     nfev: 256\n",
       "     njev: 3\n",
       "      nlu: 32\n",
       "      sol: None\n",
       "   status: 0\n",
       "  success: True\n",
       "        t: array([  0.        ,   1.01010101,   2.02020202,   3.03030303,\n",
       "         4.04040404,   5.05050505,   6.06060606,   7.07070707,\n",
       "         8.08080808,   9.09090909,  10.1010101 ,  11.11111111,\n",
       "        12.12121212,  13.13131313,  14.14141414,  15.15151515,\n",
       "        16.16161616,  17.17171717,  18.18181818,  19.19191919,\n",
       "        20.2020202 ,  21.21212121,  22.22222222,  23.23232323,\n",
       "        24.24242424,  25.25252525,  26.26262626,  27.27272727,\n",
       "        28.28282828,  29.29292929,  30.3030303 ,  31.31313131,\n",
       "        32.32323232,  33.33333333,  34.34343434,  35.35353535,\n",
       "        36.36363636,  37.37373737,  38.38383838,  39.39393939,\n",
       "        40.4040404 ,  41.41414141,  42.42424242,  43.43434343,\n",
       "        44.44444444,  45.45454545,  46.46464646,  47.47474747,\n",
       "        48.48484848,  49.49494949,  50.50505051,  51.51515152,\n",
       "        52.52525253,  53.53535354,  54.54545455,  55.55555556,\n",
       "        56.56565657,  57.57575758,  58.58585859,  59.5959596 ,\n",
       "        60.60606061,  61.61616162,  62.62626263,  63.63636364,\n",
       "        64.64646465,  65.65656566,  66.66666667,  67.67676768,\n",
       "        68.68686869,  69.6969697 ,  70.70707071,  71.71717172,\n",
       "        72.72727273,  73.73737374,  74.74747475,  75.75757576,\n",
       "        76.76767677,  77.77777778,  78.78787879,  79.7979798 ,\n",
       "        80.80808081,  81.81818182,  82.82828283,  83.83838384,\n",
       "        84.84848485,  85.85858586,  86.86868687,  87.87878788,\n",
       "        88.88888889,  89.8989899 ,  90.90909091,  91.91919192,\n",
       "        92.92929293,  93.93939394,  94.94949495,  95.95959596,\n",
       "        96.96969697,  97.97979798,  98.98989899, 100.        ])\n",
       " t_events: None\n",
       "        y: array([[   0.        ,    0.        ,    0.        , ...,    0.        ,\n",
       "           0.        ,    0.        ],\n",
       "       [ 170.85101254,  824.73271391, 1415.79177252, ..., 6975.21291761,\n",
       "        6975.26023498, 6975.29609866],\n",
       "       [ 226.49805314,  965.33296439, 1633.18425713, ..., 7913.97193271,\n",
       "        7914.02263202, 7914.0604084 ],\n",
       "       ...,\n",
       "       [  25.1251489 ,   28.36324197,   32.2474611 , ...,  846.33295145,\n",
       "         854.7583169 ,  863.17277041],\n",
       "       [  18.44332702,   21.19179881,   24.38093229, ...,  625.82695842,\n",
       "         631.89171348,  637.94343537],\n",
       "       [  13.17490307,   15.39685033,   17.89748923, ...,  401.00257394,\n",
       "         404.43343402,  407.84902124]])\n",
       " y_events: None"
      ]
     },
     "execution_count": 9,
     "metadata": {},
     "output_type": "execute_result"
    }
   ],
   "source": [
    "results.output"
   ]
  },
  {
   "cell_type": "code",
   "execution_count": null,
   "id": "2402060c-b2ef-433e-a2ab-23c56a9ef607",
   "metadata": {},
   "outputs": [],
   "source": [
    "n_species = model.scenario_properties.species_length\n",
    "num_shells = model.scenario_properties.n_shells"
   ]
  },
  {
   "cell_type": "code",
   "execution_count": 20,
   "id": "addd6387-7a53-42b3-b355-e2ae9bebd8bb",
   "metadata": {},
   "outputs": [
    {
     "data": {
      "text/plain": [
       "array([[1.25414624e+02, 3.29900434e+04, 5.49246121e+04, ...,\n",
       "        9.88084974e+04, 9.87796349e+04, 9.87283832e+04],\n",
       "       [1.70851013e+02, 3.20475897e+04, 5.33216952e+04, ...,\n",
       "        9.56916188e+04, 9.56208792e+04, 9.54953268e+04],\n",
       "       [2.26498053e+02, 3.05269112e+04, 5.07472055e+04, ...,\n",
       "        9.06380636e+04, 9.04848580e+04, 9.02132186e+04],\n",
       "       ...,\n",
       "       [2.51251489e+01, 4.87758075e+01, 9.06762016e+01, ...,\n",
       "        5.02764022e+03, 5.15578100e+03, 5.28705032e+03],\n",
       "       [1.84433270e+01, 3.64541836e+01, 6.65305701e+01, ...,\n",
       "        3.09006761e+03, 3.15173674e+03, 3.21398224e+03],\n",
       "       [1.31749031e+01, 2.65937098e+01, 4.76321052e+01, ...,\n",
       "        1.72722212e+03, 1.75370053e+03, 1.78011474e+03]])"
      ]
     },
     "execution_count": 20,
     "metadata": {},
     "output_type": "execute_result"
    }
   ],
   "source": [
    "results.output.y"
   ]
  },
  {
   "cell_type": "code",
   "execution_count": 21,
   "id": "433e2b58-95eb-479e-a281-bcfe84d219e5",
   "metadata": {},
   "outputs": [],
   "source": [
    "species_data = []"
   ]
  },
  {
   "cell_type": "code",
   "execution_count": 22,
   "id": "c25cb55d-65f4-4a4e-936f-8bdf2d6a7402",
   "metadata": {},
   "outputs": [],
   "source": [
    "for species_index in range(0,1):\n",
    "    species_data.append(results.output.y[species_index * 36:(species_index + 1) * 36, 60])"
   ]
  },
  {
   "cell_type": "code",
   "execution_count": 23,
   "id": "518a7ffb-07b2-433e-9028-4d6e2b14db5c",
   "metadata": {},
   "outputs": [
    {
     "data": {
      "text/plain": [
       "[array([9.87283832e+04, 9.54953268e+04, 9.02132186e+04, 8.30223679e+04,\n",
       "        7.42439661e+04, 6.38923846e+04, 5.22855834e+04, 4.02151794e+04,\n",
       "        2.84541313e+04, 1.81164848e+04, 1.02882228e+04, 5.33070198e+03,\n",
       "        3.17441631e+03, 3.26141290e+03, 4.51611391e+03, 5.34893591e+03,\n",
       "        4.69410947e+03, 3.59984668e+03, 2.60313556e+03, 1.80335319e+03,\n",
       "        1.78122246e+03, 4.54739676e+03, 1.05119450e+04, 2.22001618e+04,\n",
       "        4.25386050e+04, 8.20097430e+04, 1.56543082e+05, 2.89203423e+05,\n",
       "        5.30711436e+05, 9.74049933e+05, 1.77548923e+06, 3.13710197e+06,\n",
       "        4.30868203e+06, 2.84471024e+06, 1.02237313e+06, 2.96083929e+05])]"
      ]
     },
     "execution_count": 23,
     "metadata": {},
     "output_type": "execute_result"
    }
   ],
   "source": [
    "species_data"
   ]
  },
  {
   "cell_type": "code",
   "execution_count": 25,
   "id": "8228114e-07cb-49ef-8f5f-7ae5eefca371",
   "metadata": {},
   "outputs": [],
   "source": [
    "for species_index in range(0,1):\n",
    "    species_data.append(sum(results.output.y[species_index * 20:(species_index + 1) * 20, :]))"
   ]
  },
  {
   "cell_type": "code",
   "execution_count": 26,
   "id": "e2ad2720-2f2c-4b86-a753-1dc2b85b9a20",
   "metadata": {},
   "outputs": [
    {
     "name": "stdout",
     "output_type": "stream",
     "text": [
      "43 79749.16112866752\n"
     ]
    }
   ],
   "source": [
    "species_data = []\n",
    "for species_index in range(0,1):\n",
    "    species_data.append(sum(results.output.y[species_index * 20:(species_index + 1) * 20, :]))\n",
    "species_data = species_data[0]\n",
    "for i in range(0, len(species_data)-1):\n",
    "    if species_data[i] > species_data[i+1]:\n",
    "        print(i, species_data[i])\n",
    "        break"
   ]
  },
  {
   "cell_type": "code",
   "execution_count": 23,
   "id": "57552704-ce1b-41da-ba01-2e038096cb3d",
   "metadata": {},
   "outputs": [
    {
     "data": {
      "text/plain": [
       "11312.130838506206"
      ]
     },
     "execution_count": 23,
     "metadata": {},
     "output_type": "execute_result"
    }
   ],
   "source": [
    "species_data"
   ]
  },
  {
   "cell_type": "code",
   "execution_count": 10,
   "id": "bfd4d175-2f3c-41d4-a1cf-c27540ce9148",
   "metadata": {},
   "outputs": [
    {
     "data": {
      "text/plain": [
       "[array([11312.13083851, 25342.88737033, 36806.39142518, 46172.04165359,\n",
       "        53823.39144217, 60073.9212981 , 65179.60999884, 69350.07996967,\n",
       "        72756.71619907, 75539.2349724 , 77811.11717935, 79664.92713392,\n",
       "        81177.4617655 , 82412.52616156, 83425.10455899, 84249.41041327,\n",
       "        84925.79635032, 85477.68890085, 85921.92021063, 86287.37461662,\n",
       "        86577.82232352, 86815.04059296, 87005.60860893, 87156.37987535,\n",
       "        87278.38016253, 87379.59576951, 87449.22896711, 87503.79069067,\n",
       "        87549.97779497, 87594.48713479, 87619.96313997, 87639.95383624,\n",
       "        87658.66428956, 87679.54191246, 87691.61663191, 87699.85416969,\n",
       "        87707.18436316, 87714.80265809, 87719.06050728, 87720.56186276,\n",
       "        87720.73792542, 87719.8960795 , 87717.41167026, 87713.46499426,\n",
       "        87708.66128876, 87703.21042812, 87697.32228668, 87691.20673879,\n",
       "        87684.55480422, 87677.18306414, 87669.64584654, 87662.078816  ,\n",
       "        87654.61763713, 87647.3979745 , 87640.16499329, 87632.2892895 ,\n",
       "        87624.42459575, 87616.62149238, 87608.93055974, 87601.40237817,\n",
       "        87593.97144489, 87586.075913  , 87578.13222424, 87570.14152002,\n",
       "        87562.10494172, 87554.02363076, 87545.89488774, 87537.51987959,\n",
       "        87529.05767216, 87520.50614193, 87511.8631654 , 87503.12661906,\n",
       "        87494.29437939, 87485.36432291, 87476.33432608, 87467.20226541,\n",
       "        87457.96601739, 87448.62345851, 87439.17246526, 87429.61091413,\n",
       "        87419.95947229, 87410.19864961, 87400.3263919 , 87390.34094137,\n",
       "        87380.24054023, 87370.02343069, 87359.68785496, 87349.23205525,\n",
       "        87338.65427378, 87327.95275275, 87317.12573438, 87306.17146087,\n",
       "        87295.08817444, 87283.87656735, 87272.53357666, 87261.05747268,\n",
       "        87249.44662939, 87237.6994208 , 87225.81422088, 87213.78940362])]"
      ]
     },
     "execution_count": 10,
     "metadata": {},
     "output_type": "execute_result"
    }
   ],
   "source": [
    "species_data"
   ]
  },
  {
   "cell_type": "code",
   "execution_count": 10,
   "id": "714ee1a4-410b-48a0-96bb-692a5abff511",
   "metadata": {},
   "outputs": [
    {
     "data": {
      "text/plain": [
       "[122203.76407364586, 25141.547346710035, 11740.690625657156]"
      ]
     },
     "execution_count": 10,
     "metadata": {},
     "output_type": "execute_result"
    }
   ],
   "source": [
    "species_data"
   ]
  },
  {
   "cell_type": "code",
   "execution_count": null,
   "id": "32ad6901-039f-4a36-9ebc-78acc204b0e5",
   "metadata": {},
   "outputs": [],
   "source": []
  }
 ],
 "metadata": {
  "kernelspec": {
   "display_name": "Python (j1env)",
   "language": "python",
   "name": "j1env"
  },
  "language_info": {
   "codemirror_mode": {
    "name": "ipython",
    "version": 3
   },
   "file_extension": ".py",
   "mimetype": "text/x-python",
   "name": "python",
   "nbconvert_exporter": "python",
   "pygments_lexer": "ipython3",
   "version": "3.12.3"
  }
 },
 "nbformat": 4,
 "nbformat_minor": 5
}
