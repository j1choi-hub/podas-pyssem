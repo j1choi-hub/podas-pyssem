{
 "cells": [
  {
   "cell_type": "code",
   "execution_count": 1,
   "id": "e7c97d7e-e949-4949-8f1c-186df96dc6b0",
   "metadata": {},
   "outputs": [
    {
     "name": "stderr",
     "output_type": "stream",
     "text": [
      "/home/j1choi/Downloads/pyssem-main/pyssem/utils/simulation/scen_properties.py:11: UserWarning: pkg_resources is deprecated as an API. See https://setuptools.pypa.io/en/latest/pkg_resources.html. The pkg_resources package is slated for removal as early as 2025-11-30. Refrain from using this package or pin to Setuptools<81.\n",
      "  from pkg_resources import resource_filename\n"
     ]
    }
   ],
   "source": [
    "from model import Model\n",
    "import json\n",
    "import os"
   ]
  },
  {
   "cell_type": "code",
   "execution_count": 2,
   "id": "118279c4-91a8-40f8-9d93-b1f8063412f2",
   "metadata": {},
   "outputs": [],
   "source": [
    "# Load simulation configuration\n",
    "with open('./example-purdue.json') as f:\n",
    "  simulation_data = json.load(f)"
   ]
  },
  {
   "cell_type": "code",
   "execution_count": 3,
   "id": "d7428ea7-e2d2-4b2c-bcb6-d1406c44885f",
   "metadata": {},
   "outputs": [],
   "source": [
    "scenario_props = simulation_data['scenario_properties']"
   ]
  },
  {
   "cell_type": "code",
   "execution_count": 4,
   "id": "699dd59f-562b-48d0-9601-40ecfd9d9047",
   "metadata": {},
   "outputs": [
    {
     "data": {
      "text/plain": [
       "{'start_date': '01/03/2024',\n",
       " 'simulation_duration': 100,\n",
       " 'steps': 100000,\n",
       " 'min_altitude': 515,\n",
       " 'max_altitude': 900,\n",
       " 'v_shells': 680000,\n",
       " 'launch_function': 'Lambda',\n",
       " 'integrator': 'BDF',\n",
       " 'density_model': 'static_exp_dens_func',\n",
       " 'LC': 0.1,\n",
       " 'v_imp': 10.0,\n",
       " 'fragment_spreading': False,\n",
       " 'parallel_processing': False,\n",
       " 'basline': False}"
      ]
     },
     "execution_count": 4,
     "metadata": {},
     "output_type": "execute_result"
    }
   ],
   "source": [
    "scenario_props"
   ]
  },
  {
   "cell_type": "code",
   "execution_count": 5,
   "id": "b2af8e0f-4833-4cf9-afc5-fdc05493ed5a",
   "metadata": {},
   "outputs": [
    {
     "name": "stdout",
     "output_type": "stream",
     "text": [
      "SHELL COUNT:  10\n",
      "R0_km [515.         515.20394479 515.40772825 515.61135068 515.81481242\n",
      " 516.01811377 516.22125506 516.42423659 516.62705868 516.82972165\n",
      " 517.0322258 ]\n"
     ]
    }
   ],
   "source": [
    "# Create an instance of the Model with the simulation parameters\n",
    "model = Model(\n",
    "    start_date=scenario_props[\"start_date\"].split(\"T\")[0],  # Assuming date is in ISO format\n",
    "    simulation_duration=scenario_props[\"simulation_duration\"],\n",
    "    steps=scenario_props[\"steps\"],\n",
    "    min_altitude=scenario_props[\"min_altitude\"],\n",
    "    max_altitude=scenario_props[\"max_altitude\"],\n",
    "    v_shells=scenario_props[\"v_shells\"],\n",
    "    launch_function=scenario_props[\"launch_function\"],\n",
    "    integrator=scenario_props[\"integrator\"],\n",
    "    density_model=scenario_props[\"density_model\"],\n",
    "    LC=scenario_props[\"LC\"],\n",
    "    v_imp=scenario_props[\"v_imp\"],\n",
    "    fragment_spreading = scenario_props[\"fragment_spreading\"]\n",
    ")"
   ]
  },
  {
   "cell_type": "code",
   "execution_count": 6,
   "id": "ec99a369-2d95-4e49-97ef-3493b23e6fa4",
   "metadata": {
    "scrolled": true
   },
   "outputs": [
    {
     "name": "stdout",
     "output_type": "stream",
     "text": [
      "Splitting species N into 2 species with masses [0.64, 223].\n",
      "Added 1 active species, 2 debris species, and 0 rocket body species to the simulation.\n",
      "Pairing the following active species to debris classes for PMD modeling...\n",
      "['S']\n",
      "Matched species S to debris species N_223kg.\n",
      "    Name: N_0.64kg\n",
      "    pmd_linked_species: []\n",
      "    Name: N_223kg\n",
      "    pmd_linked_species: ['S']\n"
     ]
    },
    {
     "name": "stderr",
     "output_type": "stream",
     "text": [
      "Creating collision pairs:  17%|███▏               | 1/6 [00:00<00:00,  8.99it/s]"
     ]
    },
    {
     "name": "stdout",
     "output_type": "stream",
     "text": [
      "Species pairing for  S N_0.64kg and sk  ['S', 'N_0.64kg', 'N_0.64kg', 'N_223kg']\n",
      "pairing {'S'} {'N_0.64kg'}\n",
      "Species pairing for  S N_223kg and sk  ['S', 'N_223kg', 'N_0.64kg', 'N_223kg']\n",
      "pairing {'S'} {'N_223kg'}\n",
      "Species pairing for  N_0.64kg N_223kg and sk  ['N_0.64kg', 'N_223kg', 'N_0.64kg', 'N_223kg']\n",
      "pairing {'N_0.64kg'} {'N_223kg'}\n"
     ]
    },
    {
     "name": "stderr",
     "output_type": "stream",
     "text": [
      "Creating collision pairs:  50%|█████████▌         | 3/6 [00:00<00:00, 10.85it/s]"
     ]
    },
    {
     "name": "stdout",
     "output_type": "stream",
     "text": [
      "Species pairing for  S S and sk  ['S', 'S', 'N_0.64kg', 'N_223kg']\n",
      "pairing {'S'} {'S'}\n",
      "Species pairing for  N_0.64kg N_0.64kg and sk  ['N_0.64kg', 'N_0.64kg', 'N_0.64kg', 'N_223kg']\n",
      "pairing {'N_0.64kg'} {'N_0.64kg'}\n"
     ]
    },
    {
     "name": "stderr",
     "output_type": "stream",
     "text": [
      "Creating collision pairs: 100%|███████████████████| 6/6 [00:00<00:00, 12.18it/s]"
     ]
    },
    {
     "name": "stdout",
     "output_type": "stream",
     "text": [
      "Species pairing for  N_223kg N_223kg and sk  ['N_223kg', 'N_223kg', 'N_0.64kg', 'N_223kg']\n",
      "pairing {'N_223kg'} {'N_223kg'}\n"
     ]
    },
    {
     "name": "stderr",
     "output_type": "stream",
     "text": [
      "\n"
     ]
    }
   ],
   "source": [
    "species = simulation_data[\"species\"]\n",
    "species_list = model.configure_species(species)"
   ]
  },
  {
   "cell_type": "code",
   "execution_count": 7,
   "id": "1d59daf0-849a-4a9e-b297-b8abbfbf0f15",
   "metadata": {
    "scrolled": true
   },
   "outputs": [
    {
     "name": "stdout",
     "output_type": "stream",
     "text": [
      "baseline\n",
      "PER YEAR 31557600.0 1000.0\n",
      "PER YEAR 31557600.0 1000.0\n",
      "PER YEAR 31557600.0 1000.0\n",
      "Conversion of equations to lambda functions...\n",
      "x0           S  N_0.64kg   N_223kg\n",
      "0  2.807405  0.373474   0.18716\n",
      "1  2.811269  0.373559  0.187418\n",
      "2   2.81513  0.373644  0.187675\n",
      "3  2.818988  0.373728  0.187933\n",
      "4  2.822841  0.373811  0.188189\n",
      "5  2.826691  0.373894  0.188446\n",
      "6  2.830538  0.373977  0.188703\n",
      "7  2.834381  0.374058  0.188959\n",
      "8   2.83822   0.37414  0.189215\n",
      "9  2.842055   0.37422   0.18947\n",
      "Integrating equations...\n",
      "Model run completed successfully.\n"
     ]
    }
   ],
   "source": [
    "# Run the model\n",
    "# ODE solution\n",
    "results = model.run_model()"
   ]
  },
  {
   "cell_type": "code",
   "execution_count": 1,
   "id": "71caa76b-b335-437c-8fe3-8f8b6824abcd",
   "metadata": {
    "scrolled": true
   },
   "outputs": [],
   "source": [
    "#model.create_plots()"
   ]
  },
  {
   "cell_type": "code",
   "execution_count": null,
   "id": "cb4e0ab2-ff14-4a74-91b6-69dccdcff633",
   "metadata": {},
   "outputs": [],
   "source": []
  },
  {
   "cell_type": "code",
   "execution_count": null,
   "id": "18f68330-9e45-4025-8f14-38c371c1b6e8",
   "metadata": {},
   "outputs": [
    {
     "name": "stdout",
     "output_type": "stream",
     "text": [
      "Iteration 0 start time: 2025-09-27 09:48:40\n"
     ]
    }
   ],
   "source": [
    "from datetime import datetime\n",
    "emresults_list = []\n",
    "\n",
    "# run iterations on EM simulations \n",
    "for i in range(0, 30):\n",
    "    current_time = datetime.now()\n",
    "    print(f\"Iteration {i} start time: {current_time.strftime('%Y-%m-%d %H:%M:%S')}\")\n",
    "    \n",
    "    emresults = model.scenario_properties.run_euler_maruyama()\n",
    "    emresults_list.append(emresults)"
   ]
  },
  {
   "cell_type": "code",
   "execution_count": null,
   "id": "f9c9fe7e-ba93-42e7-91f0-6dd2132a691b",
   "metadata": {},
   "outputs": [],
   "source": []
  },
  {
   "cell_type": "code",
   "execution_count": null,
   "id": "871b4e94-0420-4425-8cde-0b1bdccf4088",
   "metadata": {},
   "outputs": [],
   "source": [
    "import matplotlib.pyplot as plt\n",
    "import numpy as np\n",
    "import os\n",
    "\n",
    "scenario_properties = model.scenario_properties\n",
    "species_names = scenario_properties.species_names\n",
    "num_shells = scenario_properties.n_shells\n",
    "n_species = len(species_names)\n",
    "\n",
    "# Calculate average and std from results list\n",
    "results_array = np.array(emresults_list)  # shape: (num_runs, n_species*num_shells, n_steps)\n",
    "mean_results = np.mean(results_array, axis=0)\n",
    "std_results = np.std(results_array, axis=0)\n",
    "\n",
    "# Calculate confidence interval\n",
    "ci_factor = 1.96 / np.sqrt(len(emresults_list))  # 95% CI for the mean\n",
    "ci_results = ci_factor * std_results\n",
    "\n",
    "output_t = scenario_properties.scen_times\n",
    "\n",
    "os.makedirs('figures', exist_ok=True)\n",
    "\n",
    "# Plotting species population per shell (with CI)\n",
    "fig, axes = plt.subplots(1, n_species, figsize=(20, 6))\n",
    "\n",
    "cmap = plt.cm.viridis\n",
    "norm = plt.Normalize(vmin=0, vmax=num_shells - 1)\n",
    "colors = [cmap(norm(sh)) for sh in range(num_shells)]\n",
    "\n",
    "for species_index in range(n_species):\n",
    "    ax = axes.flatten()[species_index]\n",
    "    species_data_mean = mean_results[species_index * num_shells:(species_index + 1) * num_shells]\n",
    "    species_data_ci = ci_results[species_index * num_shells:(species_index + 1) * num_shells]\n",
    "\n",
    "    for shell_index in range(num_shells):\n",
    "        mean_curve = species_data_mean[shell_index]\n",
    "        ci_curve = species_data_ci[shell_index]\n",
    "        color = colors[shell_index]\n",
    "\n",
    "        ax.plot(output_t, mean_curve, color=color, label=f'Shell {shell_index + 1}')\n",
    "        ax.fill_between(output_t, mean_curve - ci_curve, mean_curve + ci_curve, color=color, alpha=0.2)\n",
    "\n",
    "    ax.set_title(f'{species_names[species_index]}')\n",
    "    ax.set_xlabel('Time')\n",
    "    ax.set_ylabel('Value')\n",
    "\n",
    "plt.suptitle('Species across All Shells with 95% CI')\n",
    "plt.tight_layout(rect=[0, 0.03, 1, 0.95])\n",
    "plt.savefig('figures/species_all_shells_SDE.png')\n",
    "plt.close(fig)\n",
    "\n",
    "# Plotting Total Objects (with CI)\n",
    "plt.figure(figsize=(10, 6))\n",
    "\n",
    "total_objects_all_species_mean = np.zeros_like(output_t)\n",
    "total_objects_all_species_ci = np.zeros_like(output_t)\n",
    "\n",
    "for i in range(n_species):\n",
    "    start_idx = i * num_shells\n",
    "    end_idx = start_idx + num_shells\n",
    "\n",
    "    total_mean = np.sum(mean_results[start_idx:end_idx, :], axis=0)\n",
    "    total_ci = np.sqrt(np.sum(ci_results[start_idx:end_idx, :] ** 2, axis=0))  # CI propagation assuming independence\n",
    "\n",
    "    plt.plot(output_t, total_mean, label=f'{species_names[i]}')\n",
    "    plt.fill_between(output_t, total_mean - total_ci, total_mean + total_ci, alpha=0.2)\n",
    "\n",
    "    total_objects_all_species_mean += total_mean\n",
    "    total_objects_all_species_ci += total_ci ** 2  # Variances add up\n",
    "\n",
    "total_objects_all_species_ci = np.sqrt(total_objects_all_species_ci)\n",
    "\n",
    "plt.plot(output_t, total_objects_all_species_mean, label='Total All Species', color='k', linewidth=2, linestyle='--')\n",
    "plt.fill_between(output_t,\n",
    "                 total_objects_all_species_mean - total_objects_all_species_ci,\n",
    "                 total_objects_all_species_mean + total_objects_all_species_ci,\n",
    "                 color='gray', alpha=0.2)\n",
    "\n",
    "plt.xlabel('Time')\n",
    "plt.ylabel('Total Number of Objects')\n",
    "plt.title('Objects Over Time with 95% Confidence Interval')\n",
    "plt.xlim(0, 100)\n",
    "#plt.ylim(0, 2500)\n",
    "plt.legend()\n",
    "plt.tight_layout()\n",
    "plt.savefig('figures/total_objects_over_time_SDE.png')\n",
    "plt.close()\n"
   ]
  },
  {
   "cell_type": "code",
   "execution_count": null,
   "id": "91dad088-e0e3-41f8-a1e7-04cb66c4bbc3",
   "metadata": {},
   "outputs": [],
   "source": []
  },
  {
   "cell_type": "code",
   "execution_count": null,
   "id": "32ad6901-039f-4a36-9ebc-78acc204b0e5",
   "metadata": {},
   "outputs": [],
   "source": []
  }
 ],
 "metadata": {
  "kernelspec": {
   "display_name": "Python (j1env)",
   "language": "python",
   "name": "j1env"
  },
  "language_info": {
   "codemirror_mode": {
    "name": "ipython",
    "version": 3
   },
   "file_extension": ".py",
   "mimetype": "text/x-python",
   "name": "python",
   "nbconvert_exporter": "python",
   "pygments_lexer": "ipython3",
   "version": "3.12.3"
  }
 },
 "nbformat": 4,
 "nbformat_minor": 5
}
